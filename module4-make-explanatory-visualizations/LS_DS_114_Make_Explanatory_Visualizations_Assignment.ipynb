{
  "nbformat": 4,
  "nbformat_minor": 0,
  "metadata": {
    "colab": {
      "name": "LS_DS_114_Make_Explanatory_Visualizations_Assignment.ipynb",
      "provenance": [],
      "collapsed_sections": []
    },
    "language_info": {
      "codemirror_mode": {
        "name": "ipython",
        "version": 3
      },
      "file_extension": ".py",
      "mimetype": "text/x-python",
      "name": "python",
      "nbconvert_exporter": "python",
      "pygments_lexer": "ipython3",
      "version": "3.7.1"
    },
    "kernelspec": {
      "display_name": "Python 3",
      "language": "python",
      "name": "python3"
    }
  },
  "cells": [
    {
      "cell_type": "markdown",
      "metadata": {
        "colab_type": "text",
        "id": "NMEswXWh9mqw"
      },
      "source": [
        "Lambda School Data Science\n",
        "\n",
        "*Unit 1, Sprint 1, Module 4*\n",
        "\n",
        "---\n",
        "\n",
        "# ASSIGNMENT\n",
        "\n",
        "### 1) Replicate the lesson code. I recommend that you [do not copy-paste](https://docs.google.com/document/d/1ubOw9B3Hfip27hF2ZFnW3a3z9xAgrUDRReOEo-FHCVs/edit).\n",
        "\n",
        "Get caught up to where we got our example in class and then try and take things further. How close to \"pixel perfect\" can you make the lecture graph?\n",
        "\n",
        "Once you have something that you're proud of, share your graph in the cohort channel and move on to the second exercise.\n",
        "\n",
        "### 2) Reproduce another example from [FiveThityEight's shared data repository](https://data.fivethirtyeight.com/).\n",
        "\n",
        "**WARNING**: There are a lot of very custom graphs and tables at the above link. I **highly** recommend not trying to reproduce any that look like a table of values or something really different from the graph types that we are already familiar with. Search through the posts until you find a graph type that you are more or less familiar with: histogram, bar chart, stacked bar chart, line chart, [seaborn relplot](https://seaborn.pydata.org/generated/seaborn.relplot.html), etc. Recreating some of the graphics that 538 uses would be a lot easier in Adobe photoshop/illustrator than with matplotlib. \n",
        "\n",
        "- If you put in some time to find a graph that looks \"easy\" to replicate you'll probably find that it's not as easy as you thought. \n",
        "\n",
        "- If you start with a graph that looks hard to replicate you'll probably run up against a brick wall and be disappointed with your afternoon.\n",
        "\n",
        "\n",
        "\n",
        "\n",
        "\n",
        "\n",
        "\n",
        "\n",
        "\n",
        "\n"
      ]
    },
    {
      "cell_type": "code",
      "metadata": {
        "id": "7SY1ZHawyZvz",
        "colab_type": "code",
        "colab": {}
      },
      "source": [
        "# Your Work Here"
      ],
      "execution_count": 0,
      "outputs": []
    },
    {
      "cell_type": "code",
      "metadata": {
        "id": "8aF0Rv1YUcMW",
        "colab_type": "code",
        "colab": {}
      },
      "source": [
        "# Your Work Here\n",
        "import pandas as pd\n",
        "import matplotlib.pyplot as plt"
      ],
      "execution_count": 0,
      "outputs": []
    },
    {
      "cell_type": "code",
      "metadata": {
        "id": "UvbYQxdOUcPO",
        "colab_type": "code",
        "colab": {}
      },
      "source": [
        "chess_tran = pd.read_csv('https://raw.githubusercontent.com/fivethirtyeight/data/master/chess-transfers/transfers.csv')"
      ],
      "execution_count": 0,
      "outputs": []
    },
    {
      "cell_type": "code",
      "metadata": {
        "id": "3nNISV_sUcRt",
        "colab_type": "code",
        "colab": {
          "base_uri": "https://localhost:8080/",
          "height": 313
        },
        "outputId": "a77cdc73-e49f-415e-a6ca-91f752133626"
      },
      "source": [
        "# // columns\n",
        "# url -\tSource Data\n",
        "# ID - \tPlayer ID\n",
        "# Federation -\tPlayer's new federation\n",
        "# Form.Fed -\tPlayer's former federation\n",
        "# Transfer Date\t- Date of transfer\n",
        "print(chess_tran.shape)\n",
        "chess_tran.sample(5)\n"
      ],
      "execution_count": 54,
      "outputs": [
        {
          "output_type": "stream",
          "text": [
            "(932, 5)\n"
          ],
          "name": "stdout"
        },
        {
          "output_type": "execute_result",
          "data": {
            "text/html": [
              "<div>\n",
              "<style scoped>\n",
              "    .dataframe tbody tr th:only-of-type {\n",
              "        vertical-align: middle;\n",
              "    }\n",
              "\n",
              "    .dataframe tbody tr th {\n",
              "        vertical-align: top;\n",
              "    }\n",
              "\n",
              "    .dataframe thead th {\n",
              "        text-align: right;\n",
              "    }\n",
              "</style>\n",
              "<table border=\"1\" class=\"dataframe\">\n",
              "  <thead>\n",
              "    <tr style=\"text-align: right;\">\n",
              "      <th></th>\n",
              "      <th>url</th>\n",
              "      <th>ID</th>\n",
              "      <th>Federation</th>\n",
              "      <th>Form.Fed</th>\n",
              "      <th>Transfer Date</th>\n",
              "    </tr>\n",
              "  </thead>\n",
              "  <tbody>\n",
              "    <tr>\n",
              "      <th>198</th>\n",
              "      <td>https://ratings.fide.com/fedchange.phtml?year=...</td>\n",
              "      <td>3501841</td>\n",
              "      <td>USA</td>\n",
              "      <td>CUB</td>\n",
              "      <td>3/17/04</td>\n",
              "    </tr>\n",
              "    <tr>\n",
              "      <th>748</th>\n",
              "      <td>https://ratings.fide.com/fedchange.phtml?year=...</td>\n",
              "      <td>2001390</td>\n",
              "      <td>CAM</td>\n",
              "      <td>USA</td>\n",
              "      <td>4/17/14</td>\n",
              "    </tr>\n",
              "    <tr>\n",
              "      <th>498</th>\n",
              "      <td>https://ratings.fide.com/fedchange.phtml?year=...</td>\n",
              "      <td>2044846</td>\n",
              "      <td>TUR</td>\n",
              "      <td>USA</td>\n",
              "      <td>7/1/10</td>\n",
              "    </tr>\n",
              "    <tr>\n",
              "      <th>713</th>\n",
              "      <td>https://ratings.fide.com/fedchange.phtml?year=...</td>\n",
              "      <td>8609608</td>\n",
              "      <td>SIN</td>\n",
              "      <td>CHN</td>\n",
              "      <td>5/15/14</td>\n",
              "    </tr>\n",
              "    <tr>\n",
              "      <th>289</th>\n",
              "      <td>https://ratings.fide.com/fedchange.phtml?year=...</td>\n",
              "      <td>3800253</td>\n",
              "      <td>ESP</td>\n",
              "      <td>PER</td>\n",
              "      <td>5/26/06</td>\n",
              "    </tr>\n",
              "  </tbody>\n",
              "</table>\n",
              "</div>"
            ],
            "text/plain": [
              "                                                   url  ...  Transfer Date\n",
              "198  https://ratings.fide.com/fedchange.phtml?year=...  ...        3/17/04\n",
              "748  https://ratings.fide.com/fedchange.phtml?year=...  ...        4/17/14\n",
              "498  https://ratings.fide.com/fedchange.phtml?year=...  ...         7/1/10\n",
              "713  https://ratings.fide.com/fedchange.phtml?year=...  ...        5/15/14\n",
              "289  https://ratings.fide.com/fedchange.phtml?year=...  ...        5/26/06\n",
              "\n",
              "[5 rows x 5 columns]"
            ]
          },
          "metadata": {
            "tags": []
          },
          "execution_count": 54
        }
      ]
    },
    {
      "cell_type": "code",
      "metadata": {
        "id": "GwKioxHYUcWv",
        "colab_type": "code",
        "colab": {
          "base_uri": "https://localhost:8080/",
          "height": 218
        },
        "outputId": "4af3de99-577a-4dd2-c72c-00cc53b4edd0"
      },
      "source": [
        "# cze isnt in example chart.\n",
        "# 89  counts too the USA\n",
        "chess_tran['Federation'].value_counts(dropna=False).head(11)"
      ],
      "execution_count": 55,
      "outputs": [
        {
          "output_type": "execute_result",
          "data": {
            "text/plain": [
              "USA    89\n",
              "GER    55\n",
              "CAN    44\n",
              "ESP    41\n",
              "RUS    36\n",
              "FRA    34\n",
              "CRO    32\n",
              "BIH    32\n",
              "TUR    31\n",
              "CZE    29\n",
              "AUT    29\n",
              "Name: Federation, dtype: int64"
            ]
          },
          "metadata": {
            "tags": []
          },
          "execution_count": 55
        }
      ]
    },
    {
      "cell_type": "code",
      "metadata": {
        "id": "5uyIuaWkUcZr",
        "colab_type": "code",
        "colab": {
          "base_uri": "https://localhost:8080/",
          "height": 118
        },
        "outputId": "1a146abc-f6ba-4f5c-8614-ffee510ccd8b"
      },
      "source": [
        "chess_tran.isnull().sum()"
      ],
      "execution_count": 56,
      "outputs": [
        {
          "output_type": "execute_result",
          "data": {
            "text/plain": [
              "url              0\n",
              "ID               0\n",
              "Federation       0\n",
              "Form.Fed         9\n",
              "Transfer Date    0\n",
              "dtype: int64"
            ]
          },
          "metadata": {
            "tags": []
          },
          "execution_count": 56
        }
      ]
    },
    {
      "cell_type": "code",
      "metadata": {
        "id": "6QkJ-E2RUceV",
        "colab_type": "code",
        "colab": {
          "base_uri": "https://localhost:8080/",
          "height": 34
        },
        "outputId": "0c09aa43-2bf9-4dd3-8ef7-9aaa6fe5ccae"
      },
      "source": [
        "# pulling only contries that transfered to usa\n",
        "condition = chess_tran['Federation'] == 'USA'\n",
        "usa_chess = chess_tran[condition]\n",
        "usa_chess.shape"
      ],
      "execution_count": 57,
      "outputs": [
        {
          "output_type": "execute_result",
          "data": {
            "text/plain": [
              "(89, 5)"
            ]
          },
          "metadata": {
            "tags": []
          },
          "execution_count": 57
        }
      ]
    },
    {
      "cell_type": "code",
      "metadata": {
        "id": "F--WLyiQUcli",
        "colab_type": "code",
        "colab": {
          "base_uri": "https://localhost:8080/",
          "height": 235
        },
        "outputId": "0572b767-ffd8-4475-87d0-bb44d019525e"
      },
      "source": [
        "# top 10 to transfer to us\n",
        "usa_chess['Form.Fed'].value_counts().head(12)"
      ],
      "execution_count": 58,
      "outputs": [
        {
          "output_type": "execute_result",
          "data": {
            "text/plain": [
              "IND    11\n",
              "ARM     8\n",
              "CUB     7\n",
              "UKR     7\n",
              "RUS     7\n",
              "PHI     6\n",
              "GEO     4\n",
              "BLR     3\n",
              "AZE     3\n",
              "POL     2\n",
              "LAT     2\n",
              "COL     2\n",
              "Name: Form.Fed, dtype: int64"
            ]
          },
          "metadata": {
            "tags": []
          },
          "execution_count": 58
        }
      ]
    },
    {
      "cell_type": "code",
      "metadata": {
        "id": "MidDtZH7UcoS",
        "colab_type": "code",
        "colab": {
          "base_uri": "https://localhost:8080/",
          "height": 218
        },
        "outputId": "ace69106-463e-4509-fc5d-a52f37cc8721"
      },
      "source": [
        "# list of top 10 countries to transfer to the usa\n",
        "usa_chess['Form.Fed'].value_counts().head(12).index.tolist()"
      ],
      "execution_count": 59,
      "outputs": [
        {
          "output_type": "execute_result",
          "data": {
            "text/plain": [
              "['IND',\n",
              " 'ARM',\n",
              " 'CUB',\n",
              " 'UKR',\n",
              " 'RUS',\n",
              " 'PHI',\n",
              " 'GEO',\n",
              " 'BLR',\n",
              " 'AZE',\n",
              " 'POL',\n",
              " 'LAT',\n",
              " 'COL']"
            ]
          },
          "metadata": {
            "tags": []
          },
          "execution_count": 59
        }
      ]
    },
    {
      "cell_type": "code",
      "metadata": {
        "id": "lmSx3JgPW-dK",
        "colab_type": "code",
        "colab": {
          "base_uri": "https://localhost:8080/",
          "height": 34
        },
        "outputId": "dc172329-693a-4442-b45e-b020d39509c9"
      },
      "source": [
        "# filter to top 10\n",
        "mylist2 = ['IND',\n",
        " 'ARM',\n",
        " 'CUB',\n",
        " 'UKR',\n",
        " 'RUS',\n",
        " 'PHI',\n",
        " 'GEO',\n",
        " 'BLR',\n",
        " 'AZE',\n",
        " 'COL']\n",
        "condition2 = usa_chess['Form.Fed'].isin(mylist2)\n",
        "chess_final = usa_chess[condition2]\n",
        "chess_final.shape"
      ],
      "execution_count": 60,
      "outputs": [
        {
          "output_type": "execute_result",
          "data": {
            "text/plain": [
              "(58, 5)"
            ]
          },
          "metadata": {
            "tags": []
          },
          "execution_count": 60
        }
      ]
    },
    {
      "cell_type": "code",
      "metadata": {
        "id": "GKQXvXkRUcqo",
        "colab_type": "code",
        "colab": {
          "base_uri": "https://localhost:8080/",
          "height": 138
        },
        "outputId": "7b6683eb-a106-4549-c6cf-3fdcefbad729"
      },
      "source": [
        "# rename\n",
        "chess_final['Country'] = chess_final['Form.Fed'].map({'IND':'India',\n",
        "                                         'ARM':'Armenia',\n",
        "                                         'CUB':'Cuba',\n",
        "                                         'UKR':'Ukraine',\n",
        "                                         'RUS':'Russia',\n",
        "                                         'PHI':'Philippines',\n",
        "                                         'GEO':'Georgia',\n",
        "                                         'BLR':'Belarus',\n",
        "                                         'AZE':'Azerbaijan',\n",
        "                                         'COL':'Colombia'})"
      ],
      "execution_count": 61,
      "outputs": [
        {
          "output_type": "stream",
          "text": [
            "/usr/local/lib/python3.6/dist-packages/ipykernel_launcher.py:11: SettingWithCopyWarning: \n",
            "A value is trying to be set on a copy of a slice from a DataFrame.\n",
            "Try using .loc[row_indexer,col_indexer] = value instead\n",
            "\n",
            "See the caveats in the documentation: https://pandas.pydata.org/pandas-docs/stable/user_guide/indexing.html#returning-a-view-versus-a-copy\n",
            "  # This is added back by InteractiveShellApp.init_path()\n"
          ],
          "name": "stderr"
        }
      ]
    },
    {
      "cell_type": "code",
      "metadata": {
        "id": "jLR8wX-bUcjG",
        "colab_type": "code",
        "colab": {
          "base_uri": "https://localhost:8080/",
          "height": 130
        },
        "outputId": "4e6e9dc7-7678-49a2-d00a-f9c9fcba91ec"
      },
      "source": [
        "# check for new column.\n",
        "chess_final.head(1)"
      ],
      "execution_count": 62,
      "outputs": [
        {
          "output_type": "execute_result",
          "data": {
            "text/html": [
              "<div>\n",
              "<style scoped>\n",
              "    .dataframe tbody tr th:only-of-type {\n",
              "        vertical-align: middle;\n",
              "    }\n",
              "\n",
              "    .dataframe tbody tr th {\n",
              "        vertical-align: top;\n",
              "    }\n",
              "\n",
              "    .dataframe thead th {\n",
              "        text-align: right;\n",
              "    }\n",
              "</style>\n",
              "<table border=\"1\" class=\"dataframe\">\n",
              "  <thead>\n",
              "    <tr style=\"text-align: right;\">\n",
              "      <th></th>\n",
              "      <th>url</th>\n",
              "      <th>ID</th>\n",
              "      <th>Federation</th>\n",
              "      <th>Form.Fed</th>\n",
              "      <th>Transfer Date</th>\n",
              "      <th>Country</th>\n",
              "    </tr>\n",
              "  </thead>\n",
              "  <tbody>\n",
              "    <tr>\n",
              "      <th>0</th>\n",
              "      <td>https://ratings.fide.com/fedchange.phtml?year=...</td>\n",
              "      <td>2019221</td>\n",
              "      <td>USA</td>\n",
              "      <td>PHI</td>\n",
              "      <td>12/15/00</td>\n",
              "      <td>Philippines</td>\n",
              "    </tr>\n",
              "  </tbody>\n",
              "</table>\n",
              "</div>"
            ],
            "text/plain": [
              "                                                 url  ...      Country\n",
              "0  https://ratings.fide.com/fedchange.phtml?year=...  ...  Philippines\n",
              "\n",
              "[1 rows x 6 columns]"
            ]
          },
          "metadata": {
            "tags": []
          },
          "execution_count": 62
        }
      ]
    },
    {
      "cell_type": "code",
      "metadata": {
        "id": "bUN0v69gUchD",
        "colab_type": "code",
        "colab": {
          "base_uri": "https://localhost:8080/",
          "height": 202
        },
        "outputId": "8211fd2a-ccc8-4a29-a633-f64a3f422a08"
      },
      "source": [
        "# double check value countes\n",
        "final = chess_final['Country'].value_counts().reset_index()\n",
        "print(final)"
      ],
      "execution_count": 118,
      "outputs": [
        {
          "output_type": "stream",
          "text": [
            "         index  Country\n",
            "0        India       11\n",
            "1      Armenia        8\n",
            "2      Ukraine        7\n",
            "3       Russia        7\n",
            "4         Cuba        7\n",
            "5  Philippines        6\n",
            "6      Georgia        4\n",
            "7   Azerbaijan        3\n",
            "8      Belarus        3\n",
            "9     Colombia        2\n"
          ],
          "name": "stdout"
        }
      ]
    },
    {
      "cell_type": "code",
      "metadata": {
        "id": "Ydj3iEz3eolo",
        "colab_type": "code",
        "colab": {
          "base_uri": "https://localhost:8080/",
          "height": 343
        },
        "outputId": "ace193f4-c6ae-4f4f-b6bf-dd029897ddae"
      },
      "source": [
        "final.sort_index()"
      ],
      "execution_count": 122,
      "outputs": [
        {
          "output_type": "execute_result",
          "data": {
            "text/html": [
              "<div>\n",
              "<style scoped>\n",
              "    .dataframe tbody tr th:only-of-type {\n",
              "        vertical-align: middle;\n",
              "    }\n",
              "\n",
              "    .dataframe tbody tr th {\n",
              "        vertical-align: top;\n",
              "    }\n",
              "\n",
              "    .dataframe thead th {\n",
              "        text-align: right;\n",
              "    }\n",
              "</style>\n",
              "<table border=\"1\" class=\"dataframe\">\n",
              "  <thead>\n",
              "    <tr style=\"text-align: right;\">\n",
              "      <th></th>\n",
              "      <th>index</th>\n",
              "      <th>Country</th>\n",
              "    </tr>\n",
              "  </thead>\n",
              "  <tbody>\n",
              "    <tr>\n",
              "      <th>0</th>\n",
              "      <td>India</td>\n",
              "      <td>11</td>\n",
              "    </tr>\n",
              "    <tr>\n",
              "      <th>1</th>\n",
              "      <td>Armenia</td>\n",
              "      <td>8</td>\n",
              "    </tr>\n",
              "    <tr>\n",
              "      <th>2</th>\n",
              "      <td>Ukraine</td>\n",
              "      <td>7</td>\n",
              "    </tr>\n",
              "    <tr>\n",
              "      <th>3</th>\n",
              "      <td>Russia</td>\n",
              "      <td>7</td>\n",
              "    </tr>\n",
              "    <tr>\n",
              "      <th>4</th>\n",
              "      <td>Cuba</td>\n",
              "      <td>7</td>\n",
              "    </tr>\n",
              "    <tr>\n",
              "      <th>5</th>\n",
              "      <td>Philippines</td>\n",
              "      <td>6</td>\n",
              "    </tr>\n",
              "    <tr>\n",
              "      <th>6</th>\n",
              "      <td>Georgia</td>\n",
              "      <td>4</td>\n",
              "    </tr>\n",
              "    <tr>\n",
              "      <th>7</th>\n",
              "      <td>Azerbaijan</td>\n",
              "      <td>3</td>\n",
              "    </tr>\n",
              "    <tr>\n",
              "      <th>8</th>\n",
              "      <td>Belarus</td>\n",
              "      <td>3</td>\n",
              "    </tr>\n",
              "    <tr>\n",
              "      <th>9</th>\n",
              "      <td>Colombia</td>\n",
              "      <td>2</td>\n",
              "    </tr>\n",
              "  </tbody>\n",
              "</table>\n",
              "</div>"
            ],
            "text/plain": [
              "         index  Country\n",
              "0        India       11\n",
              "1      Armenia        8\n",
              "2      Ukraine        7\n",
              "3       Russia        7\n",
              "4         Cuba        7\n",
              "5  Philippines        6\n",
              "6      Georgia        4\n",
              "7   Azerbaijan        3\n",
              "8      Belarus        3\n",
              "9     Colombia        2"
            ]
          },
          "metadata": {
            "tags": []
          },
          "execution_count": 122
        }
      ]
    },
    {
      "cell_type": "code",
      "metadata": {
        "id": "8_1yxt7Idw4b",
        "colab_type": "code",
        "colab": {}
      },
      "source": [
        "final_index = final['index']\n",
        "final_val = final['Country']"
      ],
      "execution_count": 0,
      "outputs": []
    },
    {
      "cell_type": "code",
      "metadata": {
        "id": "Y4hd5LeKec6L",
        "colab_type": "code",
        "colab": {
          "base_uri": "https://localhost:8080/",
          "height": 218
        },
        "outputId": "cc7936ff-4e0b-4da1-900f-7def8f5fa8be"
      },
      "source": [
        "plot_data = final['Country']\n",
        "plot_data.index = final_index\n",
        "plot_data.columns = final_val\n",
        "plot_data"
      ],
      "execution_count": 83,
      "outputs": [
        {
          "output_type": "execute_result",
          "data": {
            "text/plain": [
              "index\n",
              "India          11\n",
              "Armenia         8\n",
              "Ukraine         7\n",
              "Russia          7\n",
              "Cuba            7\n",
              "Philippines     6\n",
              "Georgia         4\n",
              "Azerbaijan      3\n",
              "Belarus         3\n",
              "Colombia        2\n",
              "Name: Country, dtype: int64"
            ]
          },
          "metadata": {
            "tags": []
          },
          "execution_count": 83
        }
      ]
    },
    {
      "cell_type": "code",
      "metadata": {
        "id": "WWQpCgfOUcUm",
        "colab_type": "code",
        "colab": {
          "base_uri": "https://localhost:8080/",
          "height": 675
        },
        "outputId": "32038b34-9a10-4441-dce2-38a8cede3c81"
      },
      "source": [
        "# create plot\n",
        "fig, ax = plt.subplots(figsize=(5,10))\n",
        "\n",
        "# Background\n",
        "fig.patch.set(facecolor='white')\n",
        "\n",
        "# set bar\n",
        "ax.bar(x=range(1,11), height=final_val, width=0.9, color='#F95CCA')\n",
        "\n",
        "# axes background\n",
        "ax.set(facecolor='white')\n",
        "\n",
        "#set title and subtitle\n",
        "ax.set_title(\"Countries with highest number of\\ntransfers to the U.S.\",\n",
        "             fontsize=15,\n",
        "             fontweight='bold',\n",
        "             x=.5,\n",
        "             y=1)\n",
        "\n",
        "\n",
        "# x, y lables\n",
        "ax.set_xlabel('Countries', fontsize=9)\n",
        "ax.set_ylabel('Number Transfered', fontsize=9)\n",
        "ax.set_xticklabels(final_index, rotation=-45);\n",
        "ax.set_xticks(range(1,11));\n"
      ],
      "execution_count": 114,
      "outputs": [
        {
          "output_type": "display_data",
          "data": {
            "image/png": "[encoded data removed]",
            "text/plain": [
              "<Figure size 360x720 with 1 Axes>"
            ]
          },
          "metadata": {
            "tags": []
          }
        }
      ]
    },
    {
      "cell_type": "markdown",
      "metadata": {
        "id": "0wSrBzmJyWaV",
        "colab_type": "text"
      },
      "source": [
        "# STRETCH OPTIONS\n",
        "\n",
        "### 1) Reproduce one of the following using the matplotlib or seaborn libraries:\n",
        "\n",
        "- [thanksgiving-2015](https://fivethirtyeight.com/features/heres-what-your-part-of-america-eats-on-thanksgiving/) \n",
        "- [candy-power-ranking](https://fivethirtyeight.com/features/the-ultimate-halloween-candy-power-ranking/) \n",
        "- or another example of your choice!\n",
        "\n",
        "### 2) Make more charts!\n",
        "\n",
        "Choose a chart you want to make, from [Visual Vocabulary - Vega Edition](http://ft.com/vocabulary).\n",
        "\n",
        "Find the chart in an example gallery of a Python data visualization library:\n",
        "- [Seaborn](http://seaborn.pydata.org/examples/index.html)\n",
        "- [Altair](https://altair-viz.github.io/gallery/index.html)\n",
        "- [Matplotlib](https://matplotlib.org/gallery.html)\n",
        "- [Pandas](https://pandas.pydata.org/pandas-docs/stable/visualization.html)\n",
        "\n",
        "Reproduce the chart. [Optionally, try the \"Ben Franklin Method.\"](https://docs.google.com/document/d/1ubOw9B3Hfip27hF2ZFnW3a3z9xAgrUDRReOEo-FHCVs/edit) If you want, experiment and make changes.\n",
        "\n",
        "Take notes. Consider sharing your work with your cohort!"
      ]
    },
    {
      "cell_type": "code",
      "metadata": {
        "id": "dRJkKftiy5BJ",
        "colab_type": "code",
        "colab": {}
      },
      "source": [
        "# More Work Here"
      ],
      "execution_count": 0,
      "outputs": []
    }
  ]
}