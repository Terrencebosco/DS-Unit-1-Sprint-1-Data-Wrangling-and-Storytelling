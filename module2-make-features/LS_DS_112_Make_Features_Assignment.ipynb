{
  "nbformat": 4,
  "nbformat_minor": 0,
  "metadata": {
    "colab": {
      "name": "LS_DS_112_Make_Features_Assignment.ipynb",
      "provenance": [],
      "collapsed_sections": [],
      "include_colab_link": true
    },
    "kernelspec": {
      "display_name": "Python 3",
      "language": "python",
      "name": "python3"
    },
    "language_info": {
      "codemirror_mode": {
        "name": "ipython",
        "version": 3
      },
      "file_extension": ".py",
      "mimetype": "text/x-python",
      "name": "python",
      "nbconvert_exporter": "python",
      "pygments_lexer": "ipython3",
      "version": "3.7.1"
    }
  },
  "cells": [
    {
      "cell_type": "markdown",
      "metadata": {
        "id": "view-in-github",
        "colab_type": "text"
      },
      "source": [
        "<a href=\"https://colab.research.google.com/github/Terrencebosco/DS-Unit-1-Sprint-1-Data-Wrangling-and-Storytelling/blob/master/module2-make-features/LS_DS_112_Make_Features_Assignment.ipynb\" target=\"_parent\"><img src=\"https://colab.research.google.com/assets/colab-badge.svg\" alt=\"Open In Colab\"/></a>"
      ]
    },
    {
      "cell_type": "markdown",
      "metadata": {
        "id": "SnDJqBLi0FYW",
        "colab_type": "text"
      },
      "source": [
        "<img align=\"left\" src=\"https://lever-client-logos.s3.amazonaws.com/864372b1-534c-480e-acd5-9711f850815c-1524247202159.png\" width=200> "
      ]
    },
    {
      "cell_type": "markdown",
      "metadata": {
        "id": "W5GjI1z5yNG4",
        "colab_type": "text"
      },
      "source": [
        "# Assignment:\n",
        "\n",
        "- Replicate the lesson code.\n",
        "\n",
        " - This means that if you haven't followed along already, type out the things that we did in class. Forcing your fingers to hit each key will help you internalize the syntax of what we're doing. Make sure you understand each line of code that you're writing, google things that you don't fully understand.\n",
        " - [Lambda Learning Method for DS - By Ryan Herr](https://docs.google.com/document/d/1ubOw9B3Hfip27hF2ZFnW3a3z9xAgrUDRReOEo-FHCVs/edit?usp=sharing)\n",
        "- Convert the `term` column from string to integer.\n",
        "- Make a column named `loan_status_is_great`. It should contain the integer 1 if `loan_status` is \"Current\" or \"Fully Paid.\" Else it should contain the integer 0.\n",
        "- Make `last_pymnt_d_month` and `last_pymnt_d_year` columns."
      ]
    },
    {
      "cell_type": "code",
      "metadata": {
        "id": "AazB4eFwym2p",
        "colab_type": "code",
        "colab": {}
      },
      "source": [
        "##### Begin Working Here #####\n",
        "import pandas as pd"
      ],
      "execution_count": 0,
      "outputs": []
    },
    {
      "cell_type": "code",
      "metadata": {
        "id": "wBN_wZLa12D-",
        "colab_type": "code",
        "colab": {}
      },
      "source": [
        "url = 'https://raw.githubusercontent.com/ryanleeallred/datasets/master/Ames%20Housing%20Data/train.csv'"
      ],
      "execution_count": 0,
      "outputs": []
    },
    {
      "cell_type": "code",
      "metadata": {
        "id": "nIA70-4Z12Mb",
        "colab_type": "code",
        "colab": {}
      },
      "source": [
        "iowa = pd.read_csv(url)"
      ],
      "execution_count": 0,
      "outputs": []
    },
    {
      "cell_type": "code",
      "metadata": {
        "id": "h91J9n3G12Pq",
        "colab_type": "code",
        "colab": {
          "base_uri": "https://localhost:8080/",
          "height": 244
        },
        "outputId": "beb8f10f-9c87-42e9-b840-11aedfa90a6b"
      },
      "source": [
        "iowa.sample(5)"
      ],
      "execution_count": 81,
      "outputs": [
        {
          "output_type": "execute_result",
          "data": {
            "text/html": [
              "<div>\n",
              "<style scoped>\n",
              "    .dataframe tbody tr th:only-of-type {\n",
              "        vertical-align: middle;\n",
              "    }\n",
              "\n",
              "    .dataframe tbody tr th {\n",
              "        vertical-align: top;\n",
              "    }\n",
              "\n",
              "    .dataframe thead th {\n",
              "        text-align: right;\n",
              "    }\n",
              "</style>\n",
              "<table border=\"1\" class=\"dataframe\">\n",
              "  <thead>\n",
              "    <tr style=\"text-align: right;\">\n",
              "      <th></th>\n",
              "      <th>Id</th>\n",
              "      <th>MSSubClass</th>\n",
              "      <th>MSZoning</th>\n",
              "      <th>LotFrontage</th>\n",
              "      <th>LotArea</th>\n",
              "      <th>Street</th>\n",
              "      <th>Alley</th>\n",
              "      <th>LotShape</th>\n",
              "      <th>LandContour</th>\n",
              "      <th>Utilities</th>\n",
              "      <th>LotConfig</th>\n",
              "      <th>LandSlope</th>\n",
              "      <th>Neighborhood</th>\n",
              "      <th>Condition1</th>\n",
              "      <th>Condition2</th>\n",
              "      <th>BldgType</th>\n",
              "      <th>HouseStyle</th>\n",
              "      <th>OverallQual</th>\n",
              "      <th>OverallCond</th>\n",
              "      <th>YearBuilt</th>\n",
              "      <th>YearRemodAdd</th>\n",
              "      <th>RoofStyle</th>\n",
              "      <th>RoofMatl</th>\n",
              "      <th>Exterior1st</th>\n",
              "      <th>Exterior2nd</th>\n",
              "      <th>MasVnrType</th>\n",
              "      <th>MasVnrArea</th>\n",
              "      <th>ExterQual</th>\n",
              "      <th>ExterCond</th>\n",
              "      <th>Foundation</th>\n",
              "      <th>BsmtQual</th>\n",
              "      <th>BsmtCond</th>\n",
              "      <th>BsmtExposure</th>\n",
              "      <th>BsmtFinType1</th>\n",
              "      <th>BsmtFinSF1</th>\n",
              "      <th>BsmtFinType2</th>\n",
              "      <th>BsmtFinSF2</th>\n",
              "      <th>BsmtUnfSF</th>\n",
              "      <th>TotalBsmtSF</th>\n",
              "      <th>Heating</th>\n",
              "      <th>...</th>\n",
              "      <th>CentralAir</th>\n",
              "      <th>Electrical</th>\n",
              "      <th>1stFlrSF</th>\n",
              "      <th>2ndFlrSF</th>\n",
              "      <th>LowQualFinSF</th>\n",
              "      <th>GrLivArea</th>\n",
              "      <th>BsmtFullBath</th>\n",
              "      <th>BsmtHalfBath</th>\n",
              "      <th>FullBath</th>\n",
              "      <th>HalfBath</th>\n",
              "      <th>BedroomAbvGr</th>\n",
              "      <th>KitchenAbvGr</th>\n",
              "      <th>KitchenQual</th>\n",
              "      <th>TotRmsAbvGrd</th>\n",
              "      <th>Functional</th>\n",
              "      <th>Fireplaces</th>\n",
              "      <th>FireplaceQu</th>\n",
              "      <th>GarageType</th>\n",
              "      <th>GarageYrBlt</th>\n",
              "      <th>GarageFinish</th>\n",
              "      <th>GarageCars</th>\n",
              "      <th>GarageArea</th>\n",
              "      <th>GarageQual</th>\n",
              "      <th>GarageCond</th>\n",
              "      <th>PavedDrive</th>\n",
              "      <th>WoodDeckSF</th>\n",
              "      <th>OpenPorchSF</th>\n",
              "      <th>EnclosedPorch</th>\n",
              "      <th>3SsnPorch</th>\n",
              "      <th>ScreenPorch</th>\n",
              "      <th>PoolArea</th>\n",
              "      <th>PoolQC</th>\n",
              "      <th>Fence</th>\n",
              "      <th>MiscFeature</th>\n",
              "      <th>MiscVal</th>\n",
              "      <th>MoSold</th>\n",
              "      <th>YrSold</th>\n",
              "      <th>SaleType</th>\n",
              "      <th>SaleCondition</th>\n",
              "      <th>SalePrice</th>\n",
              "    </tr>\n",
              "  </thead>\n",
              "  <tbody>\n",
              "    <tr>\n",
              "      <th>460</th>\n",
              "      <td>461</td>\n",
              "      <td>60</td>\n",
              "      <td>FV</td>\n",
              "      <td>75.0</td>\n",
              "      <td>8004</td>\n",
              "      <td>Pave</td>\n",
              "      <td>NaN</td>\n",
              "      <td>IR1</td>\n",
              "      <td>Lvl</td>\n",
              "      <td>AllPub</td>\n",
              "      <td>Inside</td>\n",
              "      <td>Gtl</td>\n",
              "      <td>Somerst</td>\n",
              "      <td>RRAn</td>\n",
              "      <td>Norm</td>\n",
              "      <td>1Fam</td>\n",
              "      <td>2Story</td>\n",
              "      <td>8</td>\n",
              "      <td>5</td>\n",
              "      <td>2009</td>\n",
              "      <td>2009</td>\n",
              "      <td>Gable</td>\n",
              "      <td>CompShg</td>\n",
              "      <td>VinylSd</td>\n",
              "      <td>VinylSd</td>\n",
              "      <td>Stone</td>\n",
              "      <td>110.0</td>\n",
              "      <td>Gd</td>\n",
              "      <td>TA</td>\n",
              "      <td>PConc</td>\n",
              "      <td>Gd</td>\n",
              "      <td>TA</td>\n",
              "      <td>No</td>\n",
              "      <td>GLQ</td>\n",
              "      <td>544</td>\n",
              "      <td>Unf</td>\n",
              "      <td>0</td>\n",
              "      <td>288</td>\n",
              "      <td>832</td>\n",
              "      <td>GasA</td>\n",
              "      <td>...</td>\n",
              "      <td>Y</td>\n",
              "      <td>SBrkr</td>\n",
              "      <td>832</td>\n",
              "      <td>1103</td>\n",
              "      <td>0</td>\n",
              "      <td>1935</td>\n",
              "      <td>1</td>\n",
              "      <td>0</td>\n",
              "      <td>2</td>\n",
              "      <td>1</td>\n",
              "      <td>3</td>\n",
              "      <td>1</td>\n",
              "      <td>TA</td>\n",
              "      <td>8</td>\n",
              "      <td>Typ</td>\n",
              "      <td>0</td>\n",
              "      <td>NaN</td>\n",
              "      <td>BuiltIn</td>\n",
              "      <td>2009.0</td>\n",
              "      <td>Fin</td>\n",
              "      <td>2</td>\n",
              "      <td>552</td>\n",
              "      <td>TA</td>\n",
              "      <td>TA</td>\n",
              "      <td>Y</td>\n",
              "      <td>0</td>\n",
              "      <td>150</td>\n",
              "      <td>0</td>\n",
              "      <td>0</td>\n",
              "      <td>0</td>\n",
              "      <td>0</td>\n",
              "      <td>NaN</td>\n",
              "      <td>NaN</td>\n",
              "      <td>NaN</td>\n",
              "      <td>0</td>\n",
              "      <td>12</td>\n",
              "      <td>2009</td>\n",
              "      <td>New</td>\n",
              "      <td>Partial</td>\n",
              "      <td>263435</td>\n",
              "    </tr>\n",
              "    <tr>\n",
              "      <th>1232</th>\n",
              "      <td>1233</td>\n",
              "      <td>90</td>\n",
              "      <td>RL</td>\n",
              "      <td>70.0</td>\n",
              "      <td>9842</td>\n",
              "      <td>Pave</td>\n",
              "      <td>NaN</td>\n",
              "      <td>Reg</td>\n",
              "      <td>Lvl</td>\n",
              "      <td>AllPub</td>\n",
              "      <td>FR2</td>\n",
              "      <td>Gtl</td>\n",
              "      <td>NAmes</td>\n",
              "      <td>Norm</td>\n",
              "      <td>Norm</td>\n",
              "      <td>Duplex</td>\n",
              "      <td>1Story</td>\n",
              "      <td>4</td>\n",
              "      <td>5</td>\n",
              "      <td>1962</td>\n",
              "      <td>1962</td>\n",
              "      <td>Gable</td>\n",
              "      <td>CompShg</td>\n",
              "      <td>HdBoard</td>\n",
              "      <td>HdBoard</td>\n",
              "      <td>None</td>\n",
              "      <td>0.0</td>\n",
              "      <td>TA</td>\n",
              "      <td>TA</td>\n",
              "      <td>Slab</td>\n",
              "      <td>NaN</td>\n",
              "      <td>NaN</td>\n",
              "      <td>NaN</td>\n",
              "      <td>NaN</td>\n",
              "      <td>0</td>\n",
              "      <td>NaN</td>\n",
              "      <td>0</td>\n",
              "      <td>0</td>\n",
              "      <td>0</td>\n",
              "      <td>GasA</td>\n",
              "      <td>...</td>\n",
              "      <td>Y</td>\n",
              "      <td>SBrkr</td>\n",
              "      <td>1224</td>\n",
              "      <td>0</td>\n",
              "      <td>0</td>\n",
              "      <td>1224</td>\n",
              "      <td>0</td>\n",
              "      <td>0</td>\n",
              "      <td>2</td>\n",
              "      <td>0</td>\n",
              "      <td>2</td>\n",
              "      <td>2</td>\n",
              "      <td>TA</td>\n",
              "      <td>6</td>\n",
              "      <td>Typ</td>\n",
              "      <td>0</td>\n",
              "      <td>NaN</td>\n",
              "      <td>CarPort</td>\n",
              "      <td>1962.0</td>\n",
              "      <td>Unf</td>\n",
              "      <td>2</td>\n",
              "      <td>462</td>\n",
              "      <td>TA</td>\n",
              "      <td>TA</td>\n",
              "      <td>Y</td>\n",
              "      <td>0</td>\n",
              "      <td>0</td>\n",
              "      <td>0</td>\n",
              "      <td>0</td>\n",
              "      <td>0</td>\n",
              "      <td>0</td>\n",
              "      <td>NaN</td>\n",
              "      <td>NaN</td>\n",
              "      <td>NaN</td>\n",
              "      <td>0</td>\n",
              "      <td>3</td>\n",
              "      <td>2007</td>\n",
              "      <td>WD</td>\n",
              "      <td>Normal</td>\n",
              "      <td>101800</td>\n",
              "    </tr>\n",
              "    <tr>\n",
              "      <th>1095</th>\n",
              "      <td>1096</td>\n",
              "      <td>20</td>\n",
              "      <td>RL</td>\n",
              "      <td>78.0</td>\n",
              "      <td>9317</td>\n",
              "      <td>Pave</td>\n",
              "      <td>NaN</td>\n",
              "      <td>IR1</td>\n",
              "      <td>Lvl</td>\n",
              "      <td>AllPub</td>\n",
              "      <td>Inside</td>\n",
              "      <td>Gtl</td>\n",
              "      <td>CollgCr</td>\n",
              "      <td>Norm</td>\n",
              "      <td>Norm</td>\n",
              "      <td>1Fam</td>\n",
              "      <td>1Story</td>\n",
              "      <td>6</td>\n",
              "      <td>5</td>\n",
              "      <td>2006</td>\n",
              "      <td>2006</td>\n",
              "      <td>Gable</td>\n",
              "      <td>CompShg</td>\n",
              "      <td>VinylSd</td>\n",
              "      <td>VinylSd</td>\n",
              "      <td>None</td>\n",
              "      <td>0.0</td>\n",
              "      <td>Gd</td>\n",
              "      <td>TA</td>\n",
              "      <td>PConc</td>\n",
              "      <td>Gd</td>\n",
              "      <td>TA</td>\n",
              "      <td>No</td>\n",
              "      <td>GLQ</td>\n",
              "      <td>24</td>\n",
              "      <td>Unf</td>\n",
              "      <td>0</td>\n",
              "      <td>1290</td>\n",
              "      <td>1314</td>\n",
              "      <td>GasA</td>\n",
              "      <td>...</td>\n",
              "      <td>Y</td>\n",
              "      <td>SBrkr</td>\n",
              "      <td>1314</td>\n",
              "      <td>0</td>\n",
              "      <td>0</td>\n",
              "      <td>1314</td>\n",
              "      <td>0</td>\n",
              "      <td>0</td>\n",
              "      <td>2</td>\n",
              "      <td>0</td>\n",
              "      <td>3</td>\n",
              "      <td>1</td>\n",
              "      <td>Gd</td>\n",
              "      <td>6</td>\n",
              "      <td>Typ</td>\n",
              "      <td>1</td>\n",
              "      <td>Gd</td>\n",
              "      <td>Attchd</td>\n",
              "      <td>2006.0</td>\n",
              "      <td>RFn</td>\n",
              "      <td>2</td>\n",
              "      <td>440</td>\n",
              "      <td>TA</td>\n",
              "      <td>TA</td>\n",
              "      <td>Y</td>\n",
              "      <td>0</td>\n",
              "      <td>22</td>\n",
              "      <td>0</td>\n",
              "      <td>0</td>\n",
              "      <td>0</td>\n",
              "      <td>0</td>\n",
              "      <td>NaN</td>\n",
              "      <td>NaN</td>\n",
              "      <td>NaN</td>\n",
              "      <td>0</td>\n",
              "      <td>3</td>\n",
              "      <td>2007</td>\n",
              "      <td>WD</td>\n",
              "      <td>Normal</td>\n",
              "      <td>176432</td>\n",
              "    </tr>\n",
              "    <tr>\n",
              "      <th>756</th>\n",
              "      <td>757</td>\n",
              "      <td>60</td>\n",
              "      <td>RL</td>\n",
              "      <td>68.0</td>\n",
              "      <td>10769</td>\n",
              "      <td>Pave</td>\n",
              "      <td>NaN</td>\n",
              "      <td>IR1</td>\n",
              "      <td>Lvl</td>\n",
              "      <td>AllPub</td>\n",
              "      <td>Inside</td>\n",
              "      <td>Gtl</td>\n",
              "      <td>CollgCr</td>\n",
              "      <td>Norm</td>\n",
              "      <td>Norm</td>\n",
              "      <td>1Fam</td>\n",
              "      <td>2Story</td>\n",
              "      <td>8</td>\n",
              "      <td>5</td>\n",
              "      <td>2007</td>\n",
              "      <td>2007</td>\n",
              "      <td>Gable</td>\n",
              "      <td>CompShg</td>\n",
              "      <td>VinylSd</td>\n",
              "      <td>VinylSd</td>\n",
              "      <td>None</td>\n",
              "      <td>0.0</td>\n",
              "      <td>Gd</td>\n",
              "      <td>TA</td>\n",
              "      <td>PConc</td>\n",
              "      <td>Gd</td>\n",
              "      <td>TA</td>\n",
              "      <td>Av</td>\n",
              "      <td>GLQ</td>\n",
              "      <td>20</td>\n",
              "      <td>Unf</td>\n",
              "      <td>0</td>\n",
              "      <td>846</td>\n",
              "      <td>866</td>\n",
              "      <td>GasA</td>\n",
              "      <td>...</td>\n",
              "      <td>Y</td>\n",
              "      <td>SBrkr</td>\n",
              "      <td>866</td>\n",
              "      <td>902</td>\n",
              "      <td>0</td>\n",
              "      <td>1768</td>\n",
              "      <td>0</td>\n",
              "      <td>0</td>\n",
              "      <td>2</td>\n",
              "      <td>1</td>\n",
              "      <td>3</td>\n",
              "      <td>1</td>\n",
              "      <td>Gd</td>\n",
              "      <td>7</td>\n",
              "      <td>Typ</td>\n",
              "      <td>0</td>\n",
              "      <td>NaN</td>\n",
              "      <td>Attchd</td>\n",
              "      <td>2007.0</td>\n",
              "      <td>RFn</td>\n",
              "      <td>2</td>\n",
              "      <td>578</td>\n",
              "      <td>TA</td>\n",
              "      <td>TA</td>\n",
              "      <td>Y</td>\n",
              "      <td>144</td>\n",
              "      <td>105</td>\n",
              "      <td>0</td>\n",
              "      <td>0</td>\n",
              "      <td>0</td>\n",
              "      <td>0</td>\n",
              "      <td>NaN</td>\n",
              "      <td>NaN</td>\n",
              "      <td>NaN</td>\n",
              "      <td>0</td>\n",
              "      <td>4</td>\n",
              "      <td>2009</td>\n",
              "      <td>WD</td>\n",
              "      <td>Normal</td>\n",
              "      <td>212000</td>\n",
              "    </tr>\n",
              "    <tr>\n",
              "      <th>998</th>\n",
              "      <td>999</td>\n",
              "      <td>30</td>\n",
              "      <td>RM</td>\n",
              "      <td>60.0</td>\n",
              "      <td>9786</td>\n",
              "      <td>Pave</td>\n",
              "      <td>NaN</td>\n",
              "      <td>Reg</td>\n",
              "      <td>Lvl</td>\n",
              "      <td>AllPub</td>\n",
              "      <td>Inside</td>\n",
              "      <td>Gtl</td>\n",
              "      <td>IDOTRR</td>\n",
              "      <td>Norm</td>\n",
              "      <td>Norm</td>\n",
              "      <td>1Fam</td>\n",
              "      <td>1Story</td>\n",
              "      <td>3</td>\n",
              "      <td>4</td>\n",
              "      <td>1922</td>\n",
              "      <td>1950</td>\n",
              "      <td>Hip</td>\n",
              "      <td>CompShg</td>\n",
              "      <td>Wd Sdng</td>\n",
              "      <td>Wd Sdng</td>\n",
              "      <td>None</td>\n",
              "      <td>0.0</td>\n",
              "      <td>TA</td>\n",
              "      <td>TA</td>\n",
              "      <td>BrkTil</td>\n",
              "      <td>TA</td>\n",
              "      <td>Fa</td>\n",
              "      <td>No</td>\n",
              "      <td>Unf</td>\n",
              "      <td>0</td>\n",
              "      <td>Unf</td>\n",
              "      <td>0</td>\n",
              "      <td>1007</td>\n",
              "      <td>1007</td>\n",
              "      <td>GasA</td>\n",
              "      <td>...</td>\n",
              "      <td>N</td>\n",
              "      <td>SBrkr</td>\n",
              "      <td>1077</td>\n",
              "      <td>0</td>\n",
              "      <td>0</td>\n",
              "      <td>1077</td>\n",
              "      <td>0</td>\n",
              "      <td>0</td>\n",
              "      <td>1</td>\n",
              "      <td>0</td>\n",
              "      <td>3</td>\n",
              "      <td>1</td>\n",
              "      <td>TA</td>\n",
              "      <td>6</td>\n",
              "      <td>Typ</td>\n",
              "      <td>1</td>\n",
              "      <td>Gd</td>\n",
              "      <td>Detchd</td>\n",
              "      <td>1922.0</td>\n",
              "      <td>Unf</td>\n",
              "      <td>1</td>\n",
              "      <td>210</td>\n",
              "      <td>TA</td>\n",
              "      <td>Fa</td>\n",
              "      <td>P</td>\n",
              "      <td>0</td>\n",
              "      <td>100</td>\n",
              "      <td>48</td>\n",
              "      <td>0</td>\n",
              "      <td>0</td>\n",
              "      <td>0</td>\n",
              "      <td>NaN</td>\n",
              "      <td>NaN</td>\n",
              "      <td>NaN</td>\n",
              "      <td>0</td>\n",
              "      <td>5</td>\n",
              "      <td>2006</td>\n",
              "      <td>WD</td>\n",
              "      <td>Normal</td>\n",
              "      <td>91000</td>\n",
              "    </tr>\n",
              "  </tbody>\n",
              "</table>\n",
              "<p>5 rows × 81 columns</p>\n",
              "</div>"
            ],
            "text/plain": [
              "        Id  MSSubClass MSZoning  ...  SaleType  SaleCondition SalePrice\n",
              "460    461          60       FV  ...       New        Partial    263435\n",
              "1232  1233          90       RL  ...        WD         Normal    101800\n",
              "1095  1096          20       RL  ...        WD         Normal    176432\n",
              "756    757          60       RL  ...        WD         Normal    212000\n",
              "998    999          30       RM  ...        WD         Normal     91000\n",
              "\n",
              "[5 rows x 81 columns]"
            ]
          },
          "metadata": {
            "tags": []
          },
          "execution_count": 81
        }
      ]
    },
    {
      "cell_type": "code",
      "metadata": {
        "id": "l_mAQdRC12Xv",
        "colab_type": "code",
        "colab": {
          "base_uri": "https://localhost:8080/",
          "height": 34
        },
        "outputId": "766ce35f-6694-48e8-a075-63373122d689"
      },
      "source": [
        "iowa.shape"
      ],
      "execution_count": 82,
      "outputs": [
        {
          "output_type": "execute_result",
          "data": {
            "text/plain": [
              "(1460, 81)"
            ]
          },
          "metadata": {
            "tags": []
          },
          "execution_count": 82
        }
      ]
    },
    {
      "cell_type": "code",
      "metadata": {
        "id": "2OZSwfHzJrkC",
        "colab_type": "code",
        "colab": {
          "base_uri": "https://localhost:8080/",
          "height": 284
        },
        "outputId": "6bd4f97a-ff2d-4a7c-99c8-0515f0ce9d90"
      },
      "source": [
        "iowa[['YearBuilt', 'MSSubClass']].describe()"
      ],
      "execution_count": 83,
      "outputs": [
        {
          "output_type": "execute_result",
          "data": {
            "text/html": [
              "<div>\n",
              "<style scoped>\n",
              "    .dataframe tbody tr th:only-of-type {\n",
              "        vertical-align: middle;\n",
              "    }\n",
              "\n",
              "    .dataframe tbody tr th {\n",
              "        vertical-align: top;\n",
              "    }\n",
              "\n",
              "    .dataframe thead th {\n",
              "        text-align: right;\n",
              "    }\n",
              "</style>\n",
              "<table border=\"1\" class=\"dataframe\">\n",
              "  <thead>\n",
              "    <tr style=\"text-align: right;\">\n",
              "      <th></th>\n",
              "      <th>YearBuilt</th>\n",
              "      <th>MSSubClass</th>\n",
              "    </tr>\n",
              "  </thead>\n",
              "  <tbody>\n",
              "    <tr>\n",
              "      <th>count</th>\n",
              "      <td>1460.000000</td>\n",
              "      <td>1460.000000</td>\n",
              "    </tr>\n",
              "    <tr>\n",
              "      <th>mean</th>\n",
              "      <td>1971.267808</td>\n",
              "      <td>56.897260</td>\n",
              "    </tr>\n",
              "    <tr>\n",
              "      <th>std</th>\n",
              "      <td>30.202904</td>\n",
              "      <td>42.300571</td>\n",
              "    </tr>\n",
              "    <tr>\n",
              "      <th>min</th>\n",
              "      <td>1872.000000</td>\n",
              "      <td>20.000000</td>\n",
              "    </tr>\n",
              "    <tr>\n",
              "      <th>25%</th>\n",
              "      <td>1954.000000</td>\n",
              "      <td>20.000000</td>\n",
              "    </tr>\n",
              "    <tr>\n",
              "      <th>50%</th>\n",
              "      <td>1973.000000</td>\n",
              "      <td>50.000000</td>\n",
              "    </tr>\n",
              "    <tr>\n",
              "      <th>75%</th>\n",
              "      <td>2000.000000</td>\n",
              "      <td>70.000000</td>\n",
              "    </tr>\n",
              "    <tr>\n",
              "      <th>max</th>\n",
              "      <td>2010.000000</td>\n",
              "      <td>190.000000</td>\n",
              "    </tr>\n",
              "  </tbody>\n",
              "</table>\n",
              "</div>"
            ],
            "text/plain": [
              "         YearBuilt   MSSubClass\n",
              "count  1460.000000  1460.000000\n",
              "mean   1971.267808    56.897260\n",
              "std      30.202904    42.300571\n",
              "min    1872.000000    20.000000\n",
              "25%    1954.000000    20.000000\n",
              "50%    1973.000000    50.000000\n",
              "75%    2000.000000    70.000000\n",
              "max    2010.000000   190.000000"
            ]
          },
          "metadata": {
            "tags": []
          },
          "execution_count": 83
        }
      ]
    },
    {
      "cell_type": "code",
      "metadata": {
        "id": "ph6AQe-uJrgR",
        "colab_type": "code",
        "colab": {
          "base_uri": "https://localhost:8080/",
          "height": 101
        },
        "outputId": "0f572291-e472-4c86-82e5-d712c3e7b532"
      },
      "source": [
        "pd.set_option('display.max_rows', 100)\n",
        "iowa.dtypes[:4]"
      ],
      "execution_count": 84,
      "outputs": [
        {
          "output_type": "execute_result",
          "data": {
            "text/plain": [
              "Id               int64\n",
              "MSSubClass       int64\n",
              "MSZoning        object\n",
              "LotFrontage    float64\n",
              "dtype: object"
            ]
          },
          "metadata": {
            "tags": []
          },
          "execution_count": 84
        }
      ]
    },
    {
      "cell_type": "code",
      "metadata": {
        "id": "bxN_ijTtJrck",
        "colab_type": "code",
        "colab": {
          "base_uri": "https://localhost:8080/",
          "height": 34
        },
        "outputId": "ce8f456b-f1b9-49ba-dfb4-115d6bb6d202"
      },
      "source": [
        "iowa['BedroomAbvGr'].dtype"
      ],
      "execution_count": 85,
      "outputs": [
        {
          "output_type": "execute_result",
          "data": {
            "text/plain": [
              "dtype('int64')"
            ]
          },
          "metadata": {
            "tags": []
          },
          "execution_count": 85
        }
      ]
    },
    {
      "cell_type": "code",
      "metadata": {
        "id": "PlqeUgqIJrY6",
        "colab_type": "code",
        "colab": {
          "base_uri": "https://localhost:8080/",
          "height": 101
        },
        "outputId": "917d4f83-5047-4af3-b6db-3f748ced03d6"
      },
      "source": [
        "iowa.Fireplaces.sample(4)"
      ],
      "execution_count": 86,
      "outputs": [
        {
          "output_type": "execute_result",
          "data": {
            "text/plain": [
              "1184    2\n",
              "444     1\n",
              "972     1\n",
              "1135    1\n",
              "Name: Fireplaces, dtype: int64"
            ]
          },
          "metadata": {
            "tags": []
          },
          "execution_count": 86
        }
      ]
    },
    {
      "cell_type": "code",
      "metadata": {
        "id": "FgpMlHKcJrVW",
        "colab_type": "code",
        "colab": {
          "base_uri": "https://localhost:8080/",
          "height": 101
        },
        "outputId": "b27cb97d-77c8-4894-a16d-b9c134b8aef3"
      },
      "source": [
        "iowa['Fireplaces'].sample(4)"
      ],
      "execution_count": 87,
      "outputs": [
        {
          "output_type": "execute_result",
          "data": {
            "text/plain": [
              "567     0\n",
              "744     1\n",
              "1392    1\n",
              "94      0\n",
              "Name: Fireplaces, dtype: int64"
            ]
          },
          "metadata": {
            "tags": []
          },
          "execution_count": 87
        }
      ]
    },
    {
      "cell_type": "code",
      "metadata": {
        "id": "NlDmgG88JrQ0",
        "colab_type": "code",
        "colab": {
          "base_uri": "https://localhost:8080/",
          "height": 166
        },
        "outputId": "0f18485b-9fd4-4c51-d4b4-b385df9d7f9e"
      },
      "source": [
        "iowa[['Fireplaces', 'BedroomAbvGr']].sample(4)"
      ],
      "execution_count": 88,
      "outputs": [
        {
          "output_type": "execute_result",
          "data": {
            "text/html": [
              "<div>\n",
              "<style scoped>\n",
              "    .dataframe tbody tr th:only-of-type {\n",
              "        vertical-align: middle;\n",
              "    }\n",
              "\n",
              "    .dataframe tbody tr th {\n",
              "        vertical-align: top;\n",
              "    }\n",
              "\n",
              "    .dataframe thead th {\n",
              "        text-align: right;\n",
              "    }\n",
              "</style>\n",
              "<table border=\"1\" class=\"dataframe\">\n",
              "  <thead>\n",
              "    <tr style=\"text-align: right;\">\n",
              "      <th></th>\n",
              "      <th>Fireplaces</th>\n",
              "      <th>BedroomAbvGr</th>\n",
              "    </tr>\n",
              "  </thead>\n",
              "  <tbody>\n",
              "    <tr>\n",
              "      <th>340</th>\n",
              "      <td>0</td>\n",
              "      <td>4</td>\n",
              "    </tr>\n",
              "    <tr>\n",
              "      <th>1352</th>\n",
              "      <td>0</td>\n",
              "      <td>2</td>\n",
              "    </tr>\n",
              "    <tr>\n",
              "      <th>1296</th>\n",
              "      <td>0</td>\n",
              "      <td>3</td>\n",
              "    </tr>\n",
              "    <tr>\n",
              "      <th>877</th>\n",
              "      <td>1</td>\n",
              "      <td>4</td>\n",
              "    </tr>\n",
              "  </tbody>\n",
              "</table>\n",
              "</div>"
            ],
            "text/plain": [
              "      Fireplaces  BedroomAbvGr\n",
              "340            0             4\n",
              "1352           0             2\n",
              "1296           0             3\n",
              "877            1             4"
            ]
          },
          "metadata": {
            "tags": []
          },
          "execution_count": 88
        }
      ]
    },
    {
      "cell_type": "code",
      "metadata": {
        "id": "a1tKbakvJrNn",
        "colab_type": "code",
        "colab": {
          "base_uri": "https://localhost:8080/",
          "height": 118
        },
        "outputId": "0c49d954-929d-4b62-f1e2-1422995a946a"
      },
      "source": [
        "iowa['LotFrontage'].head()"
      ],
      "execution_count": 89,
      "outputs": [
        {
          "output_type": "execute_result",
          "data": {
            "text/plain": [
              "0    65.0\n",
              "1    80.0\n",
              "2    68.0\n",
              "3    60.0\n",
              "4    84.0\n",
              "Name: LotFrontage, dtype: float64"
            ]
          },
          "metadata": {
            "tags": []
          },
          "execution_count": 89
        }
      ]
    },
    {
      "cell_type": "code",
      "metadata": {
        "id": "iosKK7EKJrJj",
        "colab_type": "code",
        "colab": {
          "base_uri": "https://localhost:8080/",
          "height": 218
        },
        "outputId": "c51c7b20-353f-47ea-9317-21cfc4d6d156"
      },
      "source": [
        "iowa['LotFrontage'].value_counts(dropna=False)"
      ],
      "execution_count": 90,
      "outputs": [
        {
          "output_type": "execute_result",
          "data": {
            "text/plain": [
              "NaN      259\n",
              "60.0     143\n",
              "70.0      70\n",
              "80.0      69\n",
              "50.0      57\n",
              "        ... \n",
              "106.0      1\n",
              "38.0       1\n",
              "138.0      1\n",
              "140.0      1\n",
              "137.0      1\n",
              "Name: LotFrontage, Length: 111, dtype: int64"
            ]
          },
          "metadata": {
            "tags": []
          },
          "execution_count": 90
        }
      ]
    },
    {
      "cell_type": "code",
      "metadata": {
        "id": "jjvANUtIJrFt",
        "colab_type": "code",
        "colab": {
          "base_uri": "https://localhost:8080/",
          "height": 34
        },
        "outputId": "a0a4da43-37a4-4d1b-d1da-a6c387499d7e"
      },
      "source": [
        "import numpy as np\n",
        "np.nan"
      ],
      "execution_count": 91,
      "outputs": [
        {
          "output_type": "execute_result",
          "data": {
            "text/plain": [
              "nan"
            ]
          },
          "metadata": {
            "tags": []
          },
          "execution_count": 91
        }
      ]
    },
    {
      "cell_type": "code",
      "metadata": {
        "id": "QRDVMsizJrCW",
        "colab_type": "code",
        "colab": {
          "base_uri": "https://localhost:8080/",
          "height": 34
        },
        "outputId": "0ed5e141-f06f-4388-b6cc-1c61a5cf668c"
      },
      "source": [
        "type(np.nan)"
      ],
      "execution_count": 92,
      "outputs": [
        {
          "output_type": "execute_result",
          "data": {
            "text/plain": [
              "float"
            ]
          },
          "metadata": {
            "tags": []
          },
          "execution_count": 92
        }
      ]
    },
    {
      "cell_type": "code",
      "metadata": {
        "id": "bXpfw8kCJq-E",
        "colab_type": "code",
        "colab": {
          "base_uri": "https://localhost:8080/",
          "height": 34
        },
        "outputId": "36e751dd-45ba-4e17-a492-68a5ed783e7c"
      },
      "source": [
        "iowa['LotFrontage'].isnull().sum()"
      ],
      "execution_count": 93,
      "outputs": [
        {
          "output_type": "execute_result",
          "data": {
            "text/plain": [
              "259"
            ]
          },
          "metadata": {
            "tags": []
          },
          "execution_count": 93
        }
      ]
    },
    {
      "cell_type": "code",
      "metadata": {
        "id": "s68Ew3G-Jq6a",
        "colab_type": "code",
        "colab": {
          "base_uri": "https://localhost:8080/",
          "height": 34
        },
        "outputId": "de215a18-b8c3-42b4-d915-b74cfff3de95"
      },
      "source": [
        "iowa.shape"
      ],
      "execution_count": 94,
      "outputs": [
        {
          "output_type": "execute_result",
          "data": {
            "text/plain": [
              "(1460, 81)"
            ]
          },
          "metadata": {
            "tags": []
          },
          "execution_count": 94
        }
      ]
    },
    {
      "cell_type": "code",
      "metadata": {
        "id": "WWsMH2wrJqx9",
        "colab_type": "code",
        "colab": {}
      },
      "source": [
        "iowa['LotFrontage'].dropna(inplace=True)"
      ],
      "execution_count": 0,
      "outputs": []
    },
    {
      "cell_type": "code",
      "metadata": {
        "id": "uLrk2N9SJquD",
        "colab_type": "code",
        "colab": {
          "base_uri": "https://localhost:8080/",
          "height": 34
        },
        "outputId": "693cc53f-036a-4b7a-f5c7-074a8b7e8f52"
      },
      "source": [
        "iowa['LotFrontage'].isnull().sum()"
      ],
      "execution_count": 96,
      "outputs": [
        {
          "output_type": "execute_result",
          "data": {
            "text/plain": [
              "0"
            ]
          },
          "metadata": {
            "tags": []
          },
          "execution_count": 96
        }
      ]
    },
    {
      "cell_type": "code",
      "metadata": {
        "id": "G3TRo5mzJqqk",
        "colab_type": "code",
        "colab": {
          "base_uri": "https://localhost:8080/",
          "height": 136
        },
        "outputId": "dc8f74f1-00c3-403a-fb5c-b8f96cfab81b"
      },
      "source": [
        "small=iowa[['TotalBsmtSF', '1stFlrSF', '2ndFlrSF', 'SalePrice']].copy()\n",
        "small.sample(3)"
      ],
      "execution_count": 97,
      "outputs": [
        {
          "output_type": "execute_result",
          "data": {
            "text/html": [
              "<div>\n",
              "<style scoped>\n",
              "    .dataframe tbody tr th:only-of-type {\n",
              "        vertical-align: middle;\n",
              "    }\n",
              "\n",
              "    .dataframe tbody tr th {\n",
              "        vertical-align: top;\n",
              "    }\n",
              "\n",
              "    .dataframe thead th {\n",
              "        text-align: right;\n",
              "    }\n",
              "</style>\n",
              "<table border=\"1\" class=\"dataframe\">\n",
              "  <thead>\n",
              "    <tr style=\"text-align: right;\">\n",
              "      <th></th>\n",
              "      <th>TotalBsmtSF</th>\n",
              "      <th>1stFlrSF</th>\n",
              "      <th>2ndFlrSF</th>\n",
              "      <th>SalePrice</th>\n",
              "    </tr>\n",
              "  </thead>\n",
              "  <tbody>\n",
              "    <tr>\n",
              "      <th>265</th>\n",
              "      <td>1422</td>\n",
              "      <td>1422</td>\n",
              "      <td>0</td>\n",
              "      <td>175500</td>\n",
              "    </tr>\n",
              "    <tr>\n",
              "      <th>749</th>\n",
              "      <td>0</td>\n",
              "      <td>1088</td>\n",
              "      <td>441</td>\n",
              "      <td>98000</td>\n",
              "    </tr>\n",
              "    <tr>\n",
              "      <th>1227</th>\n",
              "      <td>912</td>\n",
              "      <td>912</td>\n",
              "      <td>0</td>\n",
              "      <td>147000</td>\n",
              "    </tr>\n",
              "  </tbody>\n",
              "</table>\n",
              "</div>"
            ],
            "text/plain": [
              "      TotalBsmtSF  1stFlrSF  2ndFlrSF  SalePrice\n",
              "265          1422      1422         0     175500\n",
              "749             0      1088       441      98000\n",
              "1227          912       912         0     147000"
            ]
          },
          "metadata": {
            "tags": []
          },
          "execution_count": 97
        }
      ]
    },
    {
      "cell_type": "code",
      "metadata": {
        "id": "6Agyhc5HJqm0",
        "colab_type": "code",
        "colab": {
          "base_uri": "https://localhost:8080/",
          "height": 195
        },
        "outputId": "83e4576d-9f92-46d7-b3a8-24c595aca35d"
      },
      "source": [
        "small['TotalSF'] = small['TotalBsmtSF'] + small['1stFlrSF'] + small['2ndFlrSF']\n",
        "small.head()"
      ],
      "execution_count": 98,
      "outputs": [
        {
          "output_type": "execute_result",
          "data": {
            "text/html": [
              "<div>\n",
              "<style scoped>\n",
              "    .dataframe tbody tr th:only-of-type {\n",
              "        vertical-align: middle;\n",
              "    }\n",
              "\n",
              "    .dataframe tbody tr th {\n",
              "        vertical-align: top;\n",
              "    }\n",
              "\n",
              "    .dataframe thead th {\n",
              "        text-align: right;\n",
              "    }\n",
              "</style>\n",
              "<table border=\"1\" class=\"dataframe\">\n",
              "  <thead>\n",
              "    <tr style=\"text-align: right;\">\n",
              "      <th></th>\n",
              "      <th>TotalBsmtSF</th>\n",
              "      <th>1stFlrSF</th>\n",
              "      <th>2ndFlrSF</th>\n",
              "      <th>SalePrice</th>\n",
              "      <th>TotalSF</th>\n",
              "    </tr>\n",
              "  </thead>\n",
              "  <tbody>\n",
              "    <tr>\n",
              "      <th>0</th>\n",
              "      <td>856</td>\n",
              "      <td>856</td>\n",
              "      <td>854</td>\n",
              "      <td>208500</td>\n",
              "      <td>2566</td>\n",
              "    </tr>\n",
              "    <tr>\n",
              "      <th>1</th>\n",
              "      <td>1262</td>\n",
              "      <td>1262</td>\n",
              "      <td>0</td>\n",
              "      <td>181500</td>\n",
              "      <td>2524</td>\n",
              "    </tr>\n",
              "    <tr>\n",
              "      <th>2</th>\n",
              "      <td>920</td>\n",
              "      <td>920</td>\n",
              "      <td>866</td>\n",
              "      <td>223500</td>\n",
              "      <td>2706</td>\n",
              "    </tr>\n",
              "    <tr>\n",
              "      <th>3</th>\n",
              "      <td>756</td>\n",
              "      <td>961</td>\n",
              "      <td>756</td>\n",
              "      <td>140000</td>\n",
              "      <td>2473</td>\n",
              "    </tr>\n",
              "    <tr>\n",
              "      <th>4</th>\n",
              "      <td>1145</td>\n",
              "      <td>1145</td>\n",
              "      <td>1053</td>\n",
              "      <td>250000</td>\n",
              "      <td>3343</td>\n",
              "    </tr>\n",
              "  </tbody>\n",
              "</table>\n",
              "</div>"
            ],
            "text/plain": [
              "   TotalBsmtSF  1stFlrSF  2ndFlrSF  SalePrice  TotalSF\n",
              "0          856       856       854     208500     2566\n",
              "1         1262      1262         0     181500     2524\n",
              "2          920       920       866     223500     2706\n",
              "3          756       961       756     140000     2473\n",
              "4         1145      1145      1053     250000     3343"
            ]
          },
          "metadata": {
            "tags": []
          },
          "execution_count": 98
        }
      ]
    },
    {
      "cell_type": "code",
      "metadata": {
        "id": "Yw7WsyXBJqiu",
        "colab_type": "code",
        "colab": {
          "base_uri": "https://localhost:8080/",
          "height": 195
        },
        "outputId": "bdba7943-22f1-48c9-cb4c-ba66607cf226"
      },
      "source": [
        "small['PricePerSF'] = small['SalePrice'] / small['TotalSF']\n",
        "small.sample(5)"
      ],
      "execution_count": 99,
      "outputs": [
        {
          "output_type": "execute_result",
          "data": {
            "text/html": [
              "<div>\n",
              "<style scoped>\n",
              "    .dataframe tbody tr th:only-of-type {\n",
              "        vertical-align: middle;\n",
              "    }\n",
              "\n",
              "    .dataframe tbody tr th {\n",
              "        vertical-align: top;\n",
              "    }\n",
              "\n",
              "    .dataframe thead th {\n",
              "        text-align: right;\n",
              "    }\n",
              "</style>\n",
              "<table border=\"1\" class=\"dataframe\">\n",
              "  <thead>\n",
              "    <tr style=\"text-align: right;\">\n",
              "      <th></th>\n",
              "      <th>TotalBsmtSF</th>\n",
              "      <th>1stFlrSF</th>\n",
              "      <th>2ndFlrSF</th>\n",
              "      <th>SalePrice</th>\n",
              "      <th>TotalSF</th>\n",
              "      <th>PricePerSF</th>\n",
              "    </tr>\n",
              "  </thead>\n",
              "  <tbody>\n",
              "    <tr>\n",
              "      <th>864</th>\n",
              "      <td>1372</td>\n",
              "      <td>1372</td>\n",
              "      <td>0</td>\n",
              "      <td>250580</td>\n",
              "      <td>2744</td>\n",
              "      <td>91.319242</td>\n",
              "    </tr>\n",
              "    <tr>\n",
              "      <th>608</th>\n",
              "      <td>965</td>\n",
              "      <td>1940</td>\n",
              "      <td>1254</td>\n",
              "      <td>359100</td>\n",
              "      <td>4159</td>\n",
              "      <td>86.342871</td>\n",
              "    </tr>\n",
              "    <tr>\n",
              "      <th>654</th>\n",
              "      <td>2109</td>\n",
              "      <td>2113</td>\n",
              "      <td>0</td>\n",
              "      <td>350000</td>\n",
              "      <td>4222</td>\n",
              "      <td>82.899100</td>\n",
              "    </tr>\n",
              "    <tr>\n",
              "      <th>509</th>\n",
              "      <td>1041</td>\n",
              "      <td>1041</td>\n",
              "      <td>0</td>\n",
              "      <td>124500</td>\n",
              "      <td>2082</td>\n",
              "      <td>59.798271</td>\n",
              "    </tr>\n",
              "    <tr>\n",
              "      <th>1283</th>\n",
              "      <td>912</td>\n",
              "      <td>912</td>\n",
              "      <td>912</td>\n",
              "      <td>139000</td>\n",
              "      <td>2736</td>\n",
              "      <td>50.804094</td>\n",
              "    </tr>\n",
              "  </tbody>\n",
              "</table>\n",
              "</div>"
            ],
            "text/plain": [
              "      TotalBsmtSF  1stFlrSF  2ndFlrSF  SalePrice  TotalSF  PricePerSF\n",
              "864          1372      1372         0     250580     2744   91.319242\n",
              "608           965      1940      1254     359100     4159   86.342871\n",
              "654          2109      2113         0     350000     4222   82.899100\n",
              "509          1041      1041         0     124500     2082   59.798271\n",
              "1283          912       912       912     139000     2736   50.804094"
            ]
          },
          "metadata": {
            "tags": []
          },
          "execution_count": 99
        }
      ]
    },
    {
      "cell_type": "code",
      "metadata": {
        "id": "nNHPT2zFJqdm",
        "colab_type": "code",
        "colab": {
          "base_uri": "https://localhost:8080/",
          "height": 319
        },
        "outputId": "cefe699b-14f9-4c0b-9228-03cef8a125dd"
      },
      "source": [
        "iowa.columns"
      ],
      "execution_count": 100,
      "outputs": [
        {
          "output_type": "execute_result",
          "data": {
            "text/plain": [
              "Index(['Id', 'MSSubClass', 'MSZoning', 'LotFrontage', 'LotArea', 'Street',\n",
              "       'Alley', 'LotShape', 'LandContour', 'Utilities', 'LotConfig',\n",
              "       'LandSlope', 'Neighborhood', 'Condition1', 'Condition2', 'BldgType',\n",
              "       'HouseStyle', 'OverallQual', 'OverallCond', 'YearBuilt', 'YearRemodAdd',\n",
              "       'RoofStyle', 'RoofMatl', 'Exterior1st', 'Exterior2nd', 'MasVnrType',\n",
              "       'MasVnrArea', 'ExterQual', 'ExterCond', 'Foundation', 'BsmtQual',\n",
              "       'BsmtCond', 'BsmtExposure', 'BsmtFinType1', 'BsmtFinSF1',\n",
              "       'BsmtFinType2', 'BsmtFinSF2', 'BsmtUnfSF', 'TotalBsmtSF', 'Heating',\n",
              "       'HeatingQC', 'CentralAir', 'Electrical', '1stFlrSF', '2ndFlrSF',\n",
              "       'LowQualFinSF', 'GrLivArea', 'BsmtFullBath', 'BsmtHalfBath', 'FullBath',\n",
              "       'HalfBath', 'BedroomAbvGr', 'KitchenAbvGr', 'KitchenQual',\n",
              "       'TotRmsAbvGrd', 'Functional', 'Fireplaces', 'FireplaceQu', 'GarageType',\n",
              "       'GarageYrBlt', 'GarageFinish', 'GarageCars', 'GarageArea', 'GarageQual',\n",
              "       'GarageCond', 'PavedDrive', 'WoodDeckSF', 'OpenPorchSF',\n",
              "       'EnclosedPorch', '3SsnPorch', 'ScreenPorch', 'PoolArea', 'PoolQC',\n",
              "       'Fence', 'MiscFeature', 'MiscVal', 'MoSold', 'YrSold', 'SaleType',\n",
              "       'SaleCondition', 'SalePrice'],\n",
              "      dtype='object')"
            ]
          },
          "metadata": {
            "tags": []
          },
          "execution_count": 100
        }
      ]
    },
    {
      "cell_type": "code",
      "metadata": {
        "id": "EnLSJXnqLKBk",
        "colab_type": "code",
        "colab": {
          "base_uri": "https://localhost:8080/",
          "height": 195
        },
        "outputId": "1807959a-5f67-4eeb-927c-8ff6c856d721"
      },
      "source": [
        "iowa[['LotShape', 'Alley', 'Street', 'SaleCondition']].sample(5)"
      ],
      "execution_count": 101,
      "outputs": [
        {
          "output_type": "execute_result",
          "data": {
            "text/html": [
              "<div>\n",
              "<style scoped>\n",
              "    .dataframe tbody tr th:only-of-type {\n",
              "        vertical-align: middle;\n",
              "    }\n",
              "\n",
              "    .dataframe tbody tr th {\n",
              "        vertical-align: top;\n",
              "    }\n",
              "\n",
              "    .dataframe thead th {\n",
              "        text-align: right;\n",
              "    }\n",
              "</style>\n",
              "<table border=\"1\" class=\"dataframe\">\n",
              "  <thead>\n",
              "    <tr style=\"text-align: right;\">\n",
              "      <th></th>\n",
              "      <th>LotShape</th>\n",
              "      <th>Alley</th>\n",
              "      <th>Street</th>\n",
              "      <th>SaleCondition</th>\n",
              "    </tr>\n",
              "  </thead>\n",
              "  <tbody>\n",
              "    <tr>\n",
              "      <th>1306</th>\n",
              "      <td>IR1</td>\n",
              "      <td>NaN</td>\n",
              "      <td>Pave</td>\n",
              "      <td>Partial</td>\n",
              "    </tr>\n",
              "    <tr>\n",
              "      <th>1101</th>\n",
              "      <td>IR1</td>\n",
              "      <td>NaN</td>\n",
              "      <td>Pave</td>\n",
              "      <td>Normal</td>\n",
              "    </tr>\n",
              "    <tr>\n",
              "      <th>155</th>\n",
              "      <td>Reg</td>\n",
              "      <td>NaN</td>\n",
              "      <td>Pave</td>\n",
              "      <td>Normal</td>\n",
              "    </tr>\n",
              "    <tr>\n",
              "      <th>439</th>\n",
              "      <td>Reg</td>\n",
              "      <td>Grvl</td>\n",
              "      <td>Pave</td>\n",
              "      <td>Normal</td>\n",
              "    </tr>\n",
              "    <tr>\n",
              "      <th>466</th>\n",
              "      <td>Reg</td>\n",
              "      <td>NaN</td>\n",
              "      <td>Pave</td>\n",
              "      <td>Normal</td>\n",
              "    </tr>\n",
              "  </tbody>\n",
              "</table>\n",
              "</div>"
            ],
            "text/plain": [
              "     LotShape Alley Street SaleCondition\n",
              "1306      IR1   NaN   Pave       Partial\n",
              "1101      IR1   NaN   Pave        Normal\n",
              "155       Reg   NaN   Pave        Normal\n",
              "439       Reg  Grvl   Pave        Normal\n",
              "466       Reg   NaN   Pave        Normal"
            ]
          },
          "metadata": {
            "tags": []
          },
          "execution_count": 101
        }
      ]
    },
    {
      "cell_type": "code",
      "metadata": {
        "id": "R7M5XLrBLJ9s",
        "colab_type": "code",
        "colab": {
          "base_uri": "https://localhost:8080/",
          "height": 134
        },
        "outputId": "6ba90e83-b692-4399-f447-c770861210ff"
      },
      "source": [
        "iowa['SaleCondition'].value_counts()"
      ],
      "execution_count": 102,
      "outputs": [
        {
          "output_type": "execute_result",
          "data": {
            "text/plain": [
              "Normal     1198\n",
              "Partial     125\n",
              "Abnorml     101\n",
              "Family       20\n",
              "Alloca       12\n",
              "AdjLand       4\n",
              "Name: SaleCondition, dtype: int64"
            ]
          },
          "metadata": {
            "tags": []
          },
          "execution_count": 102
        }
      ]
    },
    {
      "cell_type": "code",
      "metadata": {
        "id": "7LoKgpZ7LJ44",
        "colab_type": "code",
        "colab": {
          "base_uri": "https://localhost:8080/",
          "height": 67
        },
        "outputId": "4d045f2e-2b7f-464f-9e11-deb21e205c67"
      },
      "source": [
        "iowa['NormalCondition'] = np.where(iowa['SaleCondition']=='Normal', 1, 0)\n",
        "iowa['NormalCondition'].value_counts()"
      ],
      "execution_count": 103,
      "outputs": [
        {
          "output_type": "execute_result",
          "data": {
            "text/plain": [
              "1    1198\n",
              "0     262\n",
              "Name: NormalCondition, dtype: int64"
            ]
          },
          "metadata": {
            "tags": []
          },
          "execution_count": 103
        }
      ]
    },
    {
      "cell_type": "code",
      "metadata": {
        "id": "diol0CM4LJzA",
        "colab_type": "code",
        "colab": {
          "base_uri": "https://localhost:8080/",
          "height": 101
        },
        "outputId": "8ff3448d-f00c-49b6-c3b5-c9f9e737fcca"
      },
      "source": [
        "iowa['LotShape'].value_counts()"
      ],
      "execution_count": 104,
      "outputs": [
        {
          "output_type": "execute_result",
          "data": {
            "text/plain": [
              "Reg    925\n",
              "IR1    484\n",
              "IR2     41\n",
              "IR3     10\n",
              "Name: LotShape, dtype: int64"
            ]
          },
          "metadata": {
            "tags": []
          },
          "execution_count": 104
        }
      ]
    },
    {
      "cell_type": "code",
      "metadata": {
        "id": "FCqZxdRhLJul",
        "colab_type": "code",
        "colab": {
          "base_uri": "https://localhost:8080/",
          "height": 84
        },
        "outputId": "dbd899f0-d915-4db5-a63e-d18ad3a8e953"
      },
      "source": [
        "# read .map doc\n",
        "iowa['LotShape3'] = iowa['LotShape'].map({'Reg':'Regular',\n",
        "                                          'IR1':'Irregular',\n",
        "                                          'IR2':'Other',\n",
        "                                          'IR3':'Other'})\n",
        "iowa['LotShape3'].value_counts()"
      ],
      "execution_count": 105,
      "outputs": [
        {
          "output_type": "execute_result",
          "data": {
            "text/plain": [
              "Regular      925\n",
              "Irregular    484\n",
              "Other         51\n",
              "Name: LotShape3, dtype: int64"
            ]
          },
          "metadata": {
            "tags": []
          },
          "execution_count": 105
        }
      ]
    },
    {
      "cell_type": "code",
      "metadata": {
        "id": "5e2XF1kcLJq_",
        "colab_type": "code",
        "colab": {
          "base_uri": "https://localhost:8080/",
          "height": 454
        },
        "outputId": "fdd78e33-e379-4e21-9dc6-099be94766e6"
      },
      "source": [
        "iowa['Neighborhood'].value_counts()"
      ],
      "execution_count": 106,
      "outputs": [
        {
          "output_type": "execute_result",
          "data": {
            "text/plain": [
              "NAmes      225\n",
              "CollgCr    150\n",
              "OldTown    113\n",
              "Edwards    100\n",
              "Somerst     86\n",
              "Gilbert     79\n",
              "NridgHt     77\n",
              "Sawyer      74\n",
              "NWAmes      73\n",
              "SawyerW     59\n",
              "BrkSide     58\n",
              "Crawfor     51\n",
              "Mitchel     49\n",
              "NoRidge     41\n",
              "Timber      38\n",
              "IDOTRR      37\n",
              "ClearCr     28\n",
              "SWISU       25\n",
              "StoneBr     25\n",
              "Blmngtn     17\n",
              "MeadowV     17\n",
              "BrDale      16\n",
              "Veenker     11\n",
              "NPkVill      9\n",
              "Blueste      2\n",
              "Name: Neighborhood, dtype: int64"
            ]
          },
          "metadata": {
            "tags": []
          },
          "execution_count": 106
        }
      ]
    },
    {
      "cell_type": "code",
      "metadata": {
        "id": "2gqBcbneLJnZ",
        "colab_type": "code",
        "colab": {
          "base_uri": "https://localhost:8080/",
          "height": 195
        },
        "outputId": "3473382d-5130-4b30-e37b-2d421e876b56"
      },
      "source": [
        "iowa['top_neighbors']='All Others'\n",
        "iowa[['top_neighbors', 'Neighborhood']].head()"
      ],
      "execution_count": 107,
      "outputs": [
        {
          "output_type": "execute_result",
          "data": {
            "text/html": [
              "<div>\n",
              "<style scoped>\n",
              "    .dataframe tbody tr th:only-of-type {\n",
              "        vertical-align: middle;\n",
              "    }\n",
              "\n",
              "    .dataframe tbody tr th {\n",
              "        vertical-align: top;\n",
              "    }\n",
              "\n",
              "    .dataframe thead th {\n",
              "        text-align: right;\n",
              "    }\n",
              "</style>\n",
              "<table border=\"1\" class=\"dataframe\">\n",
              "  <thead>\n",
              "    <tr style=\"text-align: right;\">\n",
              "      <th></th>\n",
              "      <th>top_neighbors</th>\n",
              "      <th>Neighborhood</th>\n",
              "    </tr>\n",
              "  </thead>\n",
              "  <tbody>\n",
              "    <tr>\n",
              "      <th>0</th>\n",
              "      <td>All Others</td>\n",
              "      <td>CollgCr</td>\n",
              "    </tr>\n",
              "    <tr>\n",
              "      <th>1</th>\n",
              "      <td>All Others</td>\n",
              "      <td>Veenker</td>\n",
              "    </tr>\n",
              "    <tr>\n",
              "      <th>2</th>\n",
              "      <td>All Others</td>\n",
              "      <td>CollgCr</td>\n",
              "    </tr>\n",
              "    <tr>\n",
              "      <th>3</th>\n",
              "      <td>All Others</td>\n",
              "      <td>Crawfor</td>\n",
              "    </tr>\n",
              "    <tr>\n",
              "      <th>4</th>\n",
              "      <td>All Others</td>\n",
              "      <td>NoRidge</td>\n",
              "    </tr>\n",
              "  </tbody>\n",
              "</table>\n",
              "</div>"
            ],
            "text/plain": [
              "  top_neighbors Neighborhood\n",
              "0    All Others      CollgCr\n",
              "1    All Others      Veenker\n",
              "2    All Others      CollgCr\n",
              "3    All Others      Crawfor\n",
              "4    All Others      NoRidge"
            ]
          },
          "metadata": {
            "tags": []
          },
          "execution_count": 107
        }
      ]
    },
    {
      "cell_type": "code",
      "metadata": {
        "id": "ffBL7YjULJj9",
        "colab_type": "code",
        "colab": {
          "base_uri": "https://localhost:8080/",
          "height": 343
        },
        "outputId": "141aeabf-7a42-40aa-a400-1fc8f45dedb0"
      },
      "source": [
        "iowa.loc[iowa['Neighborhood']=='NAmes', 'top_neighbors']='North Ames'\n",
        "iowa[['top_neighbors', 'Neighborhood']].sample(10)"
      ],
      "execution_count": 108,
      "outputs": [
        {
          "output_type": "execute_result",
          "data": {
            "text/html": [
              "<div>\n",
              "<style scoped>\n",
              "    .dataframe tbody tr th:only-of-type {\n",
              "        vertical-align: middle;\n",
              "    }\n",
              "\n",
              "    .dataframe tbody tr th {\n",
              "        vertical-align: top;\n",
              "    }\n",
              "\n",
              "    .dataframe thead th {\n",
              "        text-align: right;\n",
              "    }\n",
              "</style>\n",
              "<table border=\"1\" class=\"dataframe\">\n",
              "  <thead>\n",
              "    <tr style=\"text-align: right;\">\n",
              "      <th></th>\n",
              "      <th>top_neighbors</th>\n",
              "      <th>Neighborhood</th>\n",
              "    </tr>\n",
              "  </thead>\n",
              "  <tbody>\n",
              "    <tr>\n",
              "      <th>801</th>\n",
              "      <td>All Others</td>\n",
              "      <td>IDOTRR</td>\n",
              "    </tr>\n",
              "    <tr>\n",
              "      <th>960</th>\n",
              "      <td>All Others</td>\n",
              "      <td>BrkSide</td>\n",
              "    </tr>\n",
              "    <tr>\n",
              "      <th>445</th>\n",
              "      <td>All Others</td>\n",
              "      <td>Edwards</td>\n",
              "    </tr>\n",
              "    <tr>\n",
              "      <th>1459</th>\n",
              "      <td>All Others</td>\n",
              "      <td>Edwards</td>\n",
              "    </tr>\n",
              "    <tr>\n",
              "      <th>479</th>\n",
              "      <td>All Others</td>\n",
              "      <td>OldTown</td>\n",
              "    </tr>\n",
              "    <tr>\n",
              "      <th>589</th>\n",
              "      <td>All Others</td>\n",
              "      <td>BrkSide</td>\n",
              "    </tr>\n",
              "    <tr>\n",
              "      <th>1432</th>\n",
              "      <td>All Others</td>\n",
              "      <td>OldTown</td>\n",
              "    </tr>\n",
              "    <tr>\n",
              "      <th>788</th>\n",
              "      <td>All Others</td>\n",
              "      <td>OldTown</td>\n",
              "    </tr>\n",
              "    <tr>\n",
              "      <th>899</th>\n",
              "      <td>All Others</td>\n",
              "      <td>Sawyer</td>\n",
              "    </tr>\n",
              "    <tr>\n",
              "      <th>55</th>\n",
              "      <td>North Ames</td>\n",
              "      <td>NAmes</td>\n",
              "    </tr>\n",
              "  </tbody>\n",
              "</table>\n",
              "</div>"
            ],
            "text/plain": [
              "     top_neighbors Neighborhood\n",
              "801     All Others       IDOTRR\n",
              "960     All Others      BrkSide\n",
              "445     All Others      Edwards\n",
              "1459    All Others      Edwards\n",
              "479     All Others      OldTown\n",
              "589     All Others      BrkSide\n",
              "1432    All Others      OldTown\n",
              "788     All Others      OldTown\n",
              "899     All Others       Sawyer\n",
              "55      North Ames        NAmes"
            ]
          },
          "metadata": {
            "tags": []
          },
          "execution_count": 108
        }
      ]
    },
    {
      "cell_type": "code",
      "metadata": {
        "id": "k_siZk0dLJcK",
        "colab_type": "code",
        "colab": {
          "base_uri": "https://localhost:8080/",
          "height": 343
        },
        "outputId": "99594bf8-bda5-4caa-f632-26e71620dee8"
      },
      "source": [
        "iowa.loc[iowa['Neighborhood']=='CollgCr', 'top_neighbors']='College Circle'\n",
        "iowa.loc[iowa['Neighborhood']=='Gilbert', 'top_neighbors']='Favorite Neighborhood'\n",
        "iowa.loc[iowa['Neighborhood']=='Somerst', 'top_neighbors']='Favorite Neighborhood'\n",
        "iowa[['top_neighbors', 'Neighborhood']].sample(10)"
      ],
      "execution_count": 109,
      "outputs": [
        {
          "output_type": "execute_result",
          "data": {
            "text/html": [
              "<div>\n",
              "<style scoped>\n",
              "    .dataframe tbody tr th:only-of-type {\n",
              "        vertical-align: middle;\n",
              "    }\n",
              "\n",
              "    .dataframe tbody tr th {\n",
              "        vertical-align: top;\n",
              "    }\n",
              "\n",
              "    .dataframe thead th {\n",
              "        text-align: right;\n",
              "    }\n",
              "</style>\n",
              "<table border=\"1\" class=\"dataframe\">\n",
              "  <thead>\n",
              "    <tr style=\"text-align: right;\">\n",
              "      <th></th>\n",
              "      <th>top_neighbors</th>\n",
              "      <th>Neighborhood</th>\n",
              "    </tr>\n",
              "  </thead>\n",
              "  <tbody>\n",
              "    <tr>\n",
              "      <th>529</th>\n",
              "      <td>All Others</td>\n",
              "      <td>Crawfor</td>\n",
              "    </tr>\n",
              "    <tr>\n",
              "      <th>1059</th>\n",
              "      <td>All Others</td>\n",
              "      <td>Crawfor</td>\n",
              "    </tr>\n",
              "    <tr>\n",
              "      <th>505</th>\n",
              "      <td>All Others</td>\n",
              "      <td>OldTown</td>\n",
              "    </tr>\n",
              "    <tr>\n",
              "      <th>94</th>\n",
              "      <td>College Circle</td>\n",
              "      <td>CollgCr</td>\n",
              "    </tr>\n",
              "    <tr>\n",
              "      <th>121</th>\n",
              "      <td>All Others</td>\n",
              "      <td>IDOTRR</td>\n",
              "    </tr>\n",
              "    <tr>\n",
              "      <th>948</th>\n",
              "      <td>College Circle</td>\n",
              "      <td>CollgCr</td>\n",
              "    </tr>\n",
              "    <tr>\n",
              "      <th>1272</th>\n",
              "      <td>All Others</td>\n",
              "      <td>Sawyer</td>\n",
              "    </tr>\n",
              "    <tr>\n",
              "      <th>707</th>\n",
              "      <td>All Others</td>\n",
              "      <td>NridgHt</td>\n",
              "    </tr>\n",
              "    <tr>\n",
              "      <th>824</th>\n",
              "      <td>Favorite Neighborhood</td>\n",
              "      <td>Somerst</td>\n",
              "    </tr>\n",
              "    <tr>\n",
              "      <th>1305</th>\n",
              "      <td>All Others</td>\n",
              "      <td>NridgHt</td>\n",
              "    </tr>\n",
              "  </tbody>\n",
              "</table>\n",
              "</div>"
            ],
            "text/plain": [
              "              top_neighbors Neighborhood\n",
              "529              All Others      Crawfor\n",
              "1059             All Others      Crawfor\n",
              "505              All Others      OldTown\n",
              "94           College Circle      CollgCr\n",
              "121              All Others       IDOTRR\n",
              "948          College Circle      CollgCr\n",
              "1272             All Others       Sawyer\n",
              "707              All Others      NridgHt\n",
              "824   Favorite Neighborhood      Somerst\n",
              "1305             All Others      NridgHt"
            ]
          },
          "metadata": {
            "tags": []
          },
          "execution_count": 109
        }
      ]
    },
    {
      "cell_type": "code",
      "metadata": {
        "id": "GZ3QrfaDLJYc",
        "colab_type": "code",
        "colab": {
          "base_uri": "https://localhost:8080/",
          "height": 101
        },
        "outputId": "5fa64a8d-b33c-4c65-bd90-b6641a6d81cb"
      },
      "source": [
        "iowa['top_neighbors'].value_counts()"
      ],
      "execution_count": 110,
      "outputs": [
        {
          "output_type": "execute_result",
          "data": {
            "text/plain": [
              "All Others               920\n",
              "North Ames               225\n",
              "Favorite Neighborhood    165\n",
              "College Circle           150\n",
              "Name: top_neighbors, dtype: int64"
            ]
          },
          "metadata": {
            "tags": []
          },
          "execution_count": 110
        }
      ]
    },
    {
      "cell_type": "code",
      "metadata": {
        "id": "FA158dXYLJVJ",
        "colab_type": "code",
        "colab": {
          "base_uri": "https://localhost:8080/",
          "height": 195
        },
        "outputId": "27ae7b12-6730-48c8-ee4e-dd0dd7597d9f"
      },
      "source": [
        "pd.crosstab(iowa['top_neighbors'], iowa['LotShape3'])"
      ],
      "execution_count": 111,
      "outputs": [
        {
          "output_type": "execute_result",
          "data": {
            "text/html": [
              "<div>\n",
              "<style scoped>\n",
              "    .dataframe tbody tr th:only-of-type {\n",
              "        vertical-align: middle;\n",
              "    }\n",
              "\n",
              "    .dataframe tbody tr th {\n",
              "        vertical-align: top;\n",
              "    }\n",
              "\n",
              "    .dataframe thead th {\n",
              "        text-align: right;\n",
              "    }\n",
              "</style>\n",
              "<table border=\"1\" class=\"dataframe\">\n",
              "  <thead>\n",
              "    <tr style=\"text-align: right;\">\n",
              "      <th>LotShape3</th>\n",
              "      <th>Irregular</th>\n",
              "      <th>Other</th>\n",
              "      <th>Regular</th>\n",
              "    </tr>\n",
              "    <tr>\n",
              "      <th>top_neighbors</th>\n",
              "      <th></th>\n",
              "      <th></th>\n",
              "      <th></th>\n",
              "    </tr>\n",
              "  </thead>\n",
              "  <tbody>\n",
              "    <tr>\n",
              "      <th>All Others</th>\n",
              "      <td>294</td>\n",
              "      <td>23</td>\n",
              "      <td>603</td>\n",
              "    </tr>\n",
              "    <tr>\n",
              "      <th>College Circle</th>\n",
              "      <td>53</td>\n",
              "      <td>11</td>\n",
              "      <td>86</td>\n",
              "    </tr>\n",
              "    <tr>\n",
              "      <th>Favorite Neighborhood</th>\n",
              "      <td>71</td>\n",
              "      <td>15</td>\n",
              "      <td>79</td>\n",
              "    </tr>\n",
              "    <tr>\n",
              "      <th>North Ames</th>\n",
              "      <td>66</td>\n",
              "      <td>2</td>\n",
              "      <td>157</td>\n",
              "    </tr>\n",
              "  </tbody>\n",
              "</table>\n",
              "</div>"
            ],
            "text/plain": [
              "LotShape3              Irregular  Other  Regular\n",
              "top_neighbors                                   \n",
              "All Others                   294     23      603\n",
              "College Circle                53     11       86\n",
              "Favorite Neighborhood         71     15       79\n",
              "North Ames                    66      2      157"
            ]
          },
          "metadata": {
            "tags": []
          },
          "execution_count": 111
        }
      ]
    },
    {
      "cell_type": "code",
      "metadata": {
        "id": "3UEYcLn0LJRz",
        "colab_type": "code",
        "colab": {
          "base_uri": "https://localhost:8080/",
          "height": 225
        },
        "outputId": "30530d29-dc73-402c-8ac0-c05174593dcd"
      },
      "source": [
        "pd.crosstab(iowa['top_neighbors'], iowa['LotShape3'], margins=True)"
      ],
      "execution_count": 112,
      "outputs": [
        {
          "output_type": "execute_result",
          "data": {
            "text/html": [
              "<div>\n",
              "<style scoped>\n",
              "    .dataframe tbody tr th:only-of-type {\n",
              "        vertical-align: middle;\n",
              "    }\n",
              "\n",
              "    .dataframe tbody tr th {\n",
              "        vertical-align: top;\n",
              "    }\n",
              "\n",
              "    .dataframe thead th {\n",
              "        text-align: right;\n",
              "    }\n",
              "</style>\n",
              "<table border=\"1\" class=\"dataframe\">\n",
              "  <thead>\n",
              "    <tr style=\"text-align: right;\">\n",
              "      <th>LotShape3</th>\n",
              "      <th>Irregular</th>\n",
              "      <th>Other</th>\n",
              "      <th>Regular</th>\n",
              "      <th>All</th>\n",
              "    </tr>\n",
              "    <tr>\n",
              "      <th>top_neighbors</th>\n",
              "      <th></th>\n",
              "      <th></th>\n",
              "      <th></th>\n",
              "      <th></th>\n",
              "    </tr>\n",
              "  </thead>\n",
              "  <tbody>\n",
              "    <tr>\n",
              "      <th>All Others</th>\n",
              "      <td>294</td>\n",
              "      <td>23</td>\n",
              "      <td>603</td>\n",
              "      <td>920</td>\n",
              "    </tr>\n",
              "    <tr>\n",
              "      <th>College Circle</th>\n",
              "      <td>53</td>\n",
              "      <td>11</td>\n",
              "      <td>86</td>\n",
              "      <td>150</td>\n",
              "    </tr>\n",
              "    <tr>\n",
              "      <th>Favorite Neighborhood</th>\n",
              "      <td>71</td>\n",
              "      <td>15</td>\n",
              "      <td>79</td>\n",
              "      <td>165</td>\n",
              "    </tr>\n",
              "    <tr>\n",
              "      <th>North Ames</th>\n",
              "      <td>66</td>\n",
              "      <td>2</td>\n",
              "      <td>157</td>\n",
              "      <td>225</td>\n",
              "    </tr>\n",
              "    <tr>\n",
              "      <th>All</th>\n",
              "      <td>484</td>\n",
              "      <td>51</td>\n",
              "      <td>925</td>\n",
              "      <td>1460</td>\n",
              "    </tr>\n",
              "  </tbody>\n",
              "</table>\n",
              "</div>"
            ],
            "text/plain": [
              "LotShape3              Irregular  Other  Regular   All\n",
              "top_neighbors                                         \n",
              "All Others                   294     23      603   920\n",
              "College Circle                53     11       86   150\n",
              "Favorite Neighborhood         71     15       79   165\n",
              "North Ames                    66      2      157   225\n",
              "All                          484     51      925  1460"
            ]
          },
          "metadata": {
            "tags": []
          },
          "execution_count": 112
        }
      ]
    },
    {
      "cell_type": "code",
      "metadata": {
        "id": "QtsjOkb9LJOA",
        "colab_type": "code",
        "colab": {
          "base_uri": "https://localhost:8080/",
          "height": 195
        },
        "outputId": "198c1c85-a4bd-4458-e435-65c16e86b794"
      },
      "source": [
        "pd.crosstab(iowa['top_neighbors'], iowa['LotShape3'], normalize='index', margins=True)\n",
        "pd.crosstab(iowa['top_neighbors'], iowa['LotShape3'], normalize='columns', margins=True)"
      ],
      "execution_count": 113,
      "outputs": [
        {
          "output_type": "execute_result",
          "data": {
            "text/html": [
              "<div>\n",
              "<style scoped>\n",
              "    .dataframe tbody tr th:only-of-type {\n",
              "        vertical-align: middle;\n",
              "    }\n",
              "\n",
              "    .dataframe tbody tr th {\n",
              "        vertical-align: top;\n",
              "    }\n",
              "\n",
              "    .dataframe thead th {\n",
              "        text-align: right;\n",
              "    }\n",
              "</style>\n",
              "<table border=\"1\" class=\"dataframe\">\n",
              "  <thead>\n",
              "    <tr style=\"text-align: right;\">\n",
              "      <th>LotShape3</th>\n",
              "      <th>Irregular</th>\n",
              "      <th>Other</th>\n",
              "      <th>Regular</th>\n",
              "      <th>All</th>\n",
              "    </tr>\n",
              "    <tr>\n",
              "      <th>top_neighbors</th>\n",
              "      <th></th>\n",
              "      <th></th>\n",
              "      <th></th>\n",
              "      <th></th>\n",
              "    </tr>\n",
              "  </thead>\n",
              "  <tbody>\n",
              "    <tr>\n",
              "      <th>All Others</th>\n",
              "      <td>0.607438</td>\n",
              "      <td>0.450980</td>\n",
              "      <td>0.651892</td>\n",
              "      <td>0.630137</td>\n",
              "    </tr>\n",
              "    <tr>\n",
              "      <th>College Circle</th>\n",
              "      <td>0.109504</td>\n",
              "      <td>0.215686</td>\n",
              "      <td>0.092973</td>\n",
              "      <td>0.102740</td>\n",
              "    </tr>\n",
              "    <tr>\n",
              "      <th>Favorite Neighborhood</th>\n",
              "      <td>0.146694</td>\n",
              "      <td>0.294118</td>\n",
              "      <td>0.085405</td>\n",
              "      <td>0.113014</td>\n",
              "    </tr>\n",
              "    <tr>\n",
              "      <th>North Ames</th>\n",
              "      <td>0.136364</td>\n",
              "      <td>0.039216</td>\n",
              "      <td>0.169730</td>\n",
              "      <td>0.154110</td>\n",
              "    </tr>\n",
              "  </tbody>\n",
              "</table>\n",
              "</div>"
            ],
            "text/plain": [
              "LotShape3              Irregular     Other   Regular       All\n",
              "top_neighbors                                                 \n",
              "All Others              0.607438  0.450980  0.651892  0.630137\n",
              "College Circle          0.109504  0.215686  0.092973  0.102740\n",
              "Favorite Neighborhood   0.146694  0.294118  0.085405  0.113014\n",
              "North Ames              0.136364  0.039216  0.169730  0.154110"
            ]
          },
          "metadata": {
            "tags": []
          },
          "execution_count": 113
        }
      ]
    },
    {
      "cell_type": "code",
      "metadata": {
        "id": "YIQEEqDhLJKy",
        "colab_type": "code",
        "colab": {
          "base_uri": "https://localhost:8080/",
          "height": 383
        },
        "outputId": "8bc24c91-0b97-48f8-ba95-e879e2997c41"
      },
      "source": [
        "myresults = pd.crosstab(iowa['top_neighbors'], iowa['LotShape3'])\n",
        "myresults.plot(kind='bar');"
      ],
      "execution_count": 114,
      "outputs": [
        {
          "output_type": "display_data",
          "data": {
            "image/png": "[encoded data removed]",
            "text/plain": [
              "<Figure size 432x288 with 1 Axes>"
            ]
          },
          "metadata": {
            "tags": [],
            "needs_background": "light"
          }
        }
      ]
    },
    {
      "cell_type": "code",
      "metadata": {
        "id": "sc8rkjeCLJGs",
        "colab_type": "code",
        "colab": {
          "base_uri": "https://localhost:8080/",
          "height": 373
        },
        "outputId": "e53305e0-52a6-4e21-fb79-619f3862e636"
      },
      "source": [
        "pd.crosstab(iowa['OverallQual'], iowa['top_neighbors'])"
      ],
      "execution_count": 115,
      "outputs": [
        {
          "output_type": "execute_result",
          "data": {
            "text/html": [
              "<div>\n",
              "<style scoped>\n",
              "    .dataframe tbody tr th:only-of-type {\n",
              "        vertical-align: middle;\n",
              "    }\n",
              "\n",
              "    .dataframe tbody tr th {\n",
              "        vertical-align: top;\n",
              "    }\n",
              "\n",
              "    .dataframe thead th {\n",
              "        text-align: right;\n",
              "    }\n",
              "</style>\n",
              "<table border=\"1\" class=\"dataframe\">\n",
              "  <thead>\n",
              "    <tr style=\"text-align: right;\">\n",
              "      <th>top_neighbors</th>\n",
              "      <th>All Others</th>\n",
              "      <th>College Circle</th>\n",
              "      <th>Favorite Neighborhood</th>\n",
              "      <th>North Ames</th>\n",
              "    </tr>\n",
              "    <tr>\n",
              "      <th>OverallQual</th>\n",
              "      <th></th>\n",
              "      <th></th>\n",
              "      <th></th>\n",
              "      <th></th>\n",
              "    </tr>\n",
              "  </thead>\n",
              "  <tbody>\n",
              "    <tr>\n",
              "      <th>1</th>\n",
              "      <td>2</td>\n",
              "      <td>0</td>\n",
              "      <td>0</td>\n",
              "      <td>0</td>\n",
              "    </tr>\n",
              "    <tr>\n",
              "      <th>2</th>\n",
              "      <td>3</td>\n",
              "      <td>0</td>\n",
              "      <td>0</td>\n",
              "      <td>0</td>\n",
              "    </tr>\n",
              "    <tr>\n",
              "      <th>3</th>\n",
              "      <td>17</td>\n",
              "      <td>0</td>\n",
              "      <td>0</td>\n",
              "      <td>3</td>\n",
              "    </tr>\n",
              "    <tr>\n",
              "      <th>4</th>\n",
              "      <td>94</td>\n",
              "      <td>1</td>\n",
              "      <td>1</td>\n",
              "      <td>20</td>\n",
              "    </tr>\n",
              "    <tr>\n",
              "      <th>5</th>\n",
              "      <td>253</td>\n",
              "      <td>28</td>\n",
              "      <td>3</td>\n",
              "      <td>113</td>\n",
              "    </tr>\n",
              "    <tr>\n",
              "      <th>6</th>\n",
              "      <td>232</td>\n",
              "      <td>24</td>\n",
              "      <td>44</td>\n",
              "      <td>74</td>\n",
              "    </tr>\n",
              "    <tr>\n",
              "      <th>7</th>\n",
              "      <td>159</td>\n",
              "      <td>71</td>\n",
              "      <td>77</td>\n",
              "      <td>12</td>\n",
              "    </tr>\n",
              "    <tr>\n",
              "      <th>8</th>\n",
              "      <td>108</td>\n",
              "      <td>23</td>\n",
              "      <td>34</td>\n",
              "      <td>3</td>\n",
              "    </tr>\n",
              "    <tr>\n",
              "      <th>9</th>\n",
              "      <td>35</td>\n",
              "      <td>3</td>\n",
              "      <td>5</td>\n",
              "      <td>0</td>\n",
              "    </tr>\n",
              "    <tr>\n",
              "      <th>10</th>\n",
              "      <td>17</td>\n",
              "      <td>0</td>\n",
              "      <td>1</td>\n",
              "      <td>0</td>\n",
              "    </tr>\n",
              "  </tbody>\n",
              "</table>\n",
              "</div>"
            ],
            "text/plain": [
              "top_neighbors  All Others  College Circle  Favorite Neighborhood  North Ames\n",
              "OverallQual                                                                 \n",
              "1                       2               0                      0           0\n",
              "2                       3               0                      0           0\n",
              "3                      17               0                      0           3\n",
              "4                      94               1                      1          20\n",
              "5                     253              28                      3         113\n",
              "6                     232              24                     44          74\n",
              "7                     159              71                     77          12\n",
              "8                     108              23                     34           3\n",
              "9                      35               3                      5           0\n",
              "10                     17               0                      1           0"
            ]
          },
          "metadata": {
            "tags": []
          },
          "execution_count": 115
        }
      ]
    },
    {
      "cell_type": "code",
      "metadata": {
        "id": "McgHqdQ0LJBu",
        "colab_type": "code",
        "colab": {
          "base_uri": "https://localhost:8080/",
          "height": 265
        },
        "outputId": "5bb1c324-8773-452c-8985-42400fd6a192"
      },
      "source": [
        "myresults.plot(kind='barh');"
      ],
      "execution_count": 116,
      "outputs": [
        {
          "output_type": "display_data",
          "data": {
            "image/png": "[encoded data removed]",
            "text/plain": [
              "<Figure size 432x288 with 1 Axes>"
            ]
          },
          "metadata": {
            "tags": [],
            "needs_background": "light"
          }
        }
      ]
    },
    {
      "cell_type": "code",
      "metadata": {
        "id": "-RcMWreI12ay",
        "colab_type": "code",
        "colab": {
          "base_uri": "https://localhost:8080/",
          "height": 222
        },
        "outputId": "2642c3db-b7c6-4a6b-daff-a1cab870f6d8"
      },
      "source": [
        "! wget https://resources.lendingclub.com/LoanStats_2018Q4.csv.zip"
      ],
      "execution_count": 117,
      "outputs": [
        {
          "output_type": "stream",
          "text": [
            "--2020-05-08 21:38:20--  https://resources.lendingclub.com/LoanStats_2018Q4.csv.zip\n",
            "Resolving resources.lendingclub.com (resources.lendingclub.com)... 52.89.126.95, 54.201.144.36, 44.225.46.60\n",
            "Connecting to resources.lendingclub.com (resources.lendingclub.com)|52.89.126.95|:443... connected.\n",
            "HTTP request sent, awaiting response... 200 OK\n",
            "Length: unspecified [application/zip]\n",
            "Saving to: ‘LoanStats_2018Q4.csv.zip.1’\n",
            "\n",
            "LoanStats_2018Q4.cs     [          <=>       ]  22.05M  2.00MB/s    in 12s     \n",
            "\n",
            "2020-05-08 21:38:32 (1.84 MB/s) - ‘LoanStats_2018Q4.csv.zip.1’ saved [23121687]\n",
            "\n"
          ],
          "name": "stdout"
        }
      ]
    },
    {
      "cell_type": "code",
      "metadata": {
        "id": "eORkQlQb12g0",
        "colab_type": "code",
        "colab": {}
      },
      "source": [
        "!unzip LoanStats_2018Q4.csv.zip"
      ],
      "execution_count": 0,
      "outputs": []
    },
    {
      "cell_type": "code",
      "metadata": {
        "id": "0DQasAGw12kR",
        "colab_type": "code",
        "colab": {
          "base_uri": "https://localhost:8080/",
          "height": 501
        },
        "outputId": "89898e5d-9508-40f6-d01d-dd47ec586efd"
      },
      "source": [
        "loans = pd.read_csv('LoanStats_2018Q4.csv')\n",
        "loans.tail()"
      ],
      "execution_count": 119,
      "outputs": [
        {
          "output_type": "stream",
          "text": [
            "/usr/local/lib/python3.6/dist-packages/IPython/core/interactiveshell.py:2718: DtypeWarning: Columns (0,1,2,3,4,7,13,18,19,24,25,27,28,29,30,31,32,34,36,37,38,39,40,41,42,43,44,46,49,50,51,53,54,56,57,58,59,60,61,62,63,64,65,66,67,68,69,70,71,72,73,74,75,76,77,78,79,80,81,82,83,84,85,86,87,88,89,90,91,92,93,94,95,96,97,98,99,100,101,102,103,104,105,106,107,108,109,110,111,113,114,115,116,117,118,119,120,121,126,127,131,132,134,135,136,141,142,143) have mixed types.Specify dtype option on import or set low_memory=False.\n",
            "  interactivity=interactivity, compiler=compiler, result=result)\n"
          ],
          "name": "stderr"
        },
        {
          "output_type": "execute_result",
          "data": {
            "text/html": [
              "<div>\n",
              "<style scoped>\n",
              "    .dataframe tbody tr th:only-of-type {\n",
              "        vertical-align: middle;\n",
              "    }\n",
              "\n",
              "    .dataframe tbody tr th {\n",
              "        vertical-align: top;\n",
              "    }\n",
              "\n",
              "    .dataframe thead th {\n",
              "        text-align: right;\n",
              "    }\n",
              "</style>\n",
              "<table border=\"1\" class=\"dataframe\">\n",
              "  <thead>\n",
              "    <tr style=\"text-align: right;\">\n",
              "      <th></th>\n",
              "      <th></th>\n",
              "      <th></th>\n",
              "      <th></th>\n",
              "      <th></th>\n",
              "      <th></th>\n",
              "      <th></th>\n",
              "      <th></th>\n",
              "      <th></th>\n",
              "      <th></th>\n",
              "      <th></th>\n",
              "      <th></th>\n",
              "      <th></th>\n",
              "      <th></th>\n",
              "      <th></th>\n",
              "      <th></th>\n",
              "      <th></th>\n",
              "      <th></th>\n",
              "      <th></th>\n",
              "      <th></th>\n",
              "      <th></th>\n",
              "      <th></th>\n",
              "      <th></th>\n",
              "      <th></th>\n",
              "      <th></th>\n",
              "      <th></th>\n",
              "      <th></th>\n",
              "      <th></th>\n",
              "      <th></th>\n",
              "      <th></th>\n",
              "      <th></th>\n",
              "      <th></th>\n",
              "      <th></th>\n",
              "      <th></th>\n",
              "      <th></th>\n",
              "      <th></th>\n",
              "      <th></th>\n",
              "      <th></th>\n",
              "      <th></th>\n",
              "      <th></th>\n",
              "      <th></th>\n",
              "      <th></th>\n",
              "      <th></th>\n",
              "      <th></th>\n",
              "      <th></th>\n",
              "      <th></th>\n",
              "      <th></th>\n",
              "      <th></th>\n",
              "      <th></th>\n",
              "      <th></th>\n",
              "      <th></th>\n",
              "      <th></th>\n",
              "      <th></th>\n",
              "      <th></th>\n",
              "      <th></th>\n",
              "      <th></th>\n",
              "      <th></th>\n",
              "      <th></th>\n",
              "      <th></th>\n",
              "      <th></th>\n",
              "      <th></th>\n",
              "      <th></th>\n",
              "      <th></th>\n",
              "      <th></th>\n",
              "      <th></th>\n",
              "      <th></th>\n",
              "      <th></th>\n",
              "      <th></th>\n",
              "      <th></th>\n",
              "      <th></th>\n",
              "      <th></th>\n",
              "      <th></th>\n",
              "      <th></th>\n",
              "      <th></th>\n",
              "      <th></th>\n",
              "      <th></th>\n",
              "      <th></th>\n",
              "      <th></th>\n",
              "      <th></th>\n",
              "      <th></th>\n",
              "      <th></th>\n",
              "      <th></th>\n",
              "      <th></th>\n",
              "      <th></th>\n",
              "      <th></th>\n",
              "      <th></th>\n",
              "      <th></th>\n",
              "      <th></th>\n",
              "      <th></th>\n",
              "      <th></th>\n",
              "      <th></th>\n",
              "      <th></th>\n",
              "      <th></th>\n",
              "      <th></th>\n",
              "      <th></th>\n",
              "      <th></th>\n",
              "      <th></th>\n",
              "      <th></th>\n",
              "      <th></th>\n",
              "      <th></th>\n",
              "      <th></th>\n",
              "      <th></th>\n",
              "      <th></th>\n",
              "      <th></th>\n",
              "      <th></th>\n",
              "      <th></th>\n",
              "      <th></th>\n",
              "      <th></th>\n",
              "      <th></th>\n",
              "      <th></th>\n",
              "      <th></th>\n",
              "      <th></th>\n",
              "      <th></th>\n",
              "      <th></th>\n",
              "      <th></th>\n",
              "      <th></th>\n",
              "      <th></th>\n",
              "      <th></th>\n",
              "      <th></th>\n",
              "      <th></th>\n",
              "      <th></th>\n",
              "      <th></th>\n",
              "      <th></th>\n",
              "      <th></th>\n",
              "      <th></th>\n",
              "      <th></th>\n",
              "      <th></th>\n",
              "      <th></th>\n",
              "      <th></th>\n",
              "      <th></th>\n",
              "      <th></th>\n",
              "      <th></th>\n",
              "      <th></th>\n",
              "      <th></th>\n",
              "      <th></th>\n",
              "      <th></th>\n",
              "      <th></th>\n",
              "      <th></th>\n",
              "      <th></th>\n",
              "      <th></th>\n",
              "      <th></th>\n",
              "      <th></th>\n",
              "      <th></th>\n",
              "      <th>Notes offered by Prospectus (https://www.lendingclub.com/info/prospectus.action)</th>\n",
              "    </tr>\n",
              "  </thead>\n",
              "  <tbody>\n",
              "    <tr>\n",
              "      <th rowspan=\"3\" valign=\"top\">NaN</th>\n",
              "      <th rowspan=\"3\" valign=\"top\">NaN</th>\n",
              "      <th>5000</th>\n",
              "      <th>5000</th>\n",
              "      <th>5000</th>\n",
              "      <th>36 months</th>\n",
              "      <th>13.56%</th>\n",
              "      <th>169.83</th>\n",
              "      <th>C</th>\n",
              "      <th>C1</th>\n",
              "      <th>Payoff Clerk</th>\n",
              "      <th>10+ years</th>\n",
              "      <th>MORTGAGE</th>\n",
              "      <th>35360.0</th>\n",
              "      <th>Not Verified</th>\n",
              "      <th>Oct-2018</th>\n",
              "      <th>Current</th>\n",
              "      <th>n</th>\n",
              "      <th>NaN</th>\n",
              "      <th>NaN</th>\n",
              "      <th>debt_consolidation</th>\n",
              "      <th>Debt consolidation</th>\n",
              "      <th>381xx</th>\n",
              "      <th>TN</th>\n",
              "      <th>11.3</th>\n",
              "      <th>1</th>\n",
              "      <th>Jun-2006</th>\n",
              "      <th>0</th>\n",
              "      <th>21.0</th>\n",
              "      <th>NaN</th>\n",
              "      <th>9</th>\n",
              "      <th>0</th>\n",
              "      <th>2597</th>\n",
              "      <th>27.3%</th>\n",
              "      <th>15</th>\n",
              "      <th>f</th>\n",
              "      <th>2751.79</th>\n",
              "      <th>2751.79</th>\n",
              "      <th>3053.17</th>\n",
              "      <th>3053.17</th>\n",
              "      <th>2248.21</th>\n",
              "      <th>804.96</th>\n",
              "      <th>0.0</th>\n",
              "      <th>0.0</th>\n",
              "      <th>0.0</th>\n",
              "      <th>Apr-2020</th>\n",
              "      <th>169.83</th>\n",
              "      <th>May-2020</th>\n",
              "      <th>Apr-2020</th>\n",
              "      <th>0</th>\n",
              "      <th>NaN</th>\n",
              "      <th>1</th>\n",
              "      <th>Individual</th>\n",
              "      <th>NaN</th>\n",
              "      <th>NaN</th>\n",
              "      <th>NaN</th>\n",
              "      <th>0</th>\n",
              "      <th>1413</th>\n",
              "      <th>69785</th>\n",
              "      <th>0</th>\n",
              "      <th>2</th>\n",
              "      <th>0</th>\n",
              "      <th>1</th>\n",
              "      <th>16.0</th>\n",
              "      <th>2379</th>\n",
              "      <th>40.0</th>\n",
              "      <th>3</th>\n",
              "      <th>4</th>\n",
              "      <th>1826</th>\n",
              "      <th>32.0</th>\n",
              "      <th>9500</th>\n",
              "      <th>0</th>\n",
              "      <th>0</th>\n",
              "      <th>1</th>\n",
              "      <th>5</th>\n",
              "      <th>8723</th>\n",
              "      <th>1174.0</th>\n",
              "      <th>60.9</th>\n",
              "      <th>0</th>\n",
              "      <th>0</th>\n",
              "      <th>147.0</th>\n",
              "      <th>85</th>\n",
              "      <th>9</th>\n",
              "      <th>9</th>\n",
              "      <th>2</th>\n",
              "      <th>10.0</th>\n",
              "      <th>21.0</th>\n",
              "      <th>9.0</th>\n",
              "      <th>21.0</th>\n",
              "      <th>0</th>\n",
              "      <th>1</th>\n",
              "      <th>3</th>\n",
              "      <th>2</th>\n",
              "      <th>2</th>\n",
              "      <th>6</th>\n",
              "      <th>6</th>\n",
              "      <th>7</th>\n",
              "      <th>3</th>\n",
              "      <th>9</th>\n",
              "      <th>0.0</th>\n",
              "      <th>0</th>\n",
              "      <th>0</th>\n",
              "      <th>3</th>\n",
              "      <th>92.9</th>\n",
              "      <th>50.0</th>\n",
              "      <th>0</th>\n",
              "      <th>0</th>\n",
              "      <th>93908</th>\n",
              "      <th>4976</th>\n",
              "      <th>3000</th>\n",
              "      <th>6028.0</th>\n",
              "      <th>NaN</th>\n",
              "      <th>NaN</th>\n",
              "      <th>NaN</th>\n",
              "      <th>NaN</th>\n",
              "      <th>NaN</th>\n",
              "      <th>NaN</th>\n",
              "      <th>NaN</th>\n",
              "      <th>NaN</th>\n",
              "      <th>NaN</th>\n",
              "      <th>NaN</th>\n",
              "      <th>NaN</th>\n",
              "      <th>N</th>\n",
              "      <th>NaN</th>\n",
              "      <th>NaN</th>\n",
              "      <th>NaN</th>\n",
              "      <th>NaN</th>\n",
              "      <th>NaN</th>\n",
              "      <th>NaN</th>\n",
              "      <th>NaN</th>\n",
              "      <th>NaN</th>\n",
              "      <th>NaN</th>\n",
              "      <th>NaN</th>\n",
              "      <th>NaN</th>\n",
              "      <th>NaN</th>\n",
              "      <th>NaN</th>\n",
              "      <th>NaN</th>\n",
              "      <th>N</th>\n",
              "      <th>NaN</th>\n",
              "      <th>NaN</th>\n",
              "      <th>NaN</th>\n",
              "      <th>NaN</th>\n",
              "      <th>NaN</th>\n",
              "      <td>NaN</td>\n",
              "    </tr>\n",
              "    <tr>\n",
              "      <th rowspan=\"2\" valign=\"top\">10000</th>\n",
              "      <th rowspan=\"2\" valign=\"top\">10000</th>\n",
              "      <th>9750</th>\n",
              "      <th>36 months</th>\n",
              "      <th>11.06%</th>\n",
              "      <th>327.68</th>\n",
              "      <th>B</th>\n",
              "      <th>B3</th>\n",
              "      <th>NaN</th>\n",
              "      <th>NaN</th>\n",
              "      <th>RENT</th>\n",
              "      <th>44400.0</th>\n",
              "      <th>Source Verified</th>\n",
              "      <th>Oct-2018</th>\n",
              "      <th>Current</th>\n",
              "      <th>n</th>\n",
              "      <th>NaN</th>\n",
              "      <th>NaN</th>\n",
              "      <th>credit_card</th>\n",
              "      <th>Credit card refinancing</th>\n",
              "      <th>980xx</th>\n",
              "      <th>WA</th>\n",
              "      <th>11.78</th>\n",
              "      <th>0</th>\n",
              "      <th>Oct-2008</th>\n",
              "      <th>2</th>\n",
              "      <th>40.0</th>\n",
              "      <th>NaN</th>\n",
              "      <th>15</th>\n",
              "      <th>0</th>\n",
              "      <th>6269</th>\n",
              "      <th>13.1%</th>\n",
              "      <th>25</th>\n",
              "      <th>f</th>\n",
              "      <th>5411.74</th>\n",
              "      <th>5276.45</th>\n",
              "      <th>5882.88</th>\n",
              "      <th>5735.81</th>\n",
              "      <th>4588.26</th>\n",
              "      <th>1294.62</th>\n",
              "      <th>0.0</th>\n",
              "      <th>0.0</th>\n",
              "      <th>0.0</th>\n",
              "      <th>Apr-2020</th>\n",
              "      <th>327.68</th>\n",
              "      <th>May-2020</th>\n",
              "      <th>Apr-2020</th>\n",
              "      <th>0</th>\n",
              "      <th>53.0</th>\n",
              "      <th>1</th>\n",
              "      <th>Individual</th>\n",
              "      <th>NaN</th>\n",
              "      <th>NaN</th>\n",
              "      <th>NaN</th>\n",
              "      <th>0</th>\n",
              "      <th>520</th>\n",
              "      <th>16440</th>\n",
              "      <th>3</th>\n",
              "      <th>1</th>\n",
              "      <th>1</th>\n",
              "      <th>1</th>\n",
              "      <th>2.0</th>\n",
              "      <th>10171</th>\n",
              "      <th>100.0</th>\n",
              "      <th>2</th>\n",
              "      <th>5</th>\n",
              "      <th>404</th>\n",
              "      <th>28.0</th>\n",
              "      <th>47700</th>\n",
              "      <th>0</th>\n",
              "      <th>3</th>\n",
              "      <th>5</th>\n",
              "      <th>6</th>\n",
              "      <th>1265.0</th>\n",
              "      <th>20037.0</th>\n",
              "      <th>2.3</th>\n",
              "      <th>0</th>\n",
              "      <th>0</th>\n",
              "      <th>61.0</th>\n",
              "      <th>119</th>\n",
              "      <th>1</th>\n",
              "      <th>1</th>\n",
              "      <th>0</th>\n",
              "      <th>1.0</th>\n",
              "      <th>NaN</th>\n",
              "      <th>1.0</th>\n",
              "      <th>40.0</th>\n",
              "      <th>1</th>\n",
              "      <th>2</th>\n",
              "      <th>4</th>\n",
              "      <th>6</th>\n",
              "      <th>8</th>\n",
              "      <th>3</th>\n",
              "      <th>14</th>\n",
              "      <th>22</th>\n",
              "      <th>4</th>\n",
              "      <th>15</th>\n",
              "      <th>0.0</th>\n",
              "      <th>0</th>\n",
              "      <th>0</th>\n",
              "      <th>3</th>\n",
              "      <th>92.0</th>\n",
              "      <th>0.0</th>\n",
              "      <th>0</th>\n",
              "      <th>0</th>\n",
              "      <th>57871.0</th>\n",
              "      <th>16440</th>\n",
              "      <th>20500</th>\n",
              "      <th>10171.0</th>\n",
              "      <th>NaN</th>\n",
              "      <th>NaN</th>\n",
              "      <th>NaN</th>\n",
              "      <th>NaN</th>\n",
              "      <th>NaN</th>\n",
              "      <th>NaN</th>\n",
              "      <th>NaN</th>\n",
              "      <th>NaN</th>\n",
              "      <th>NaN</th>\n",
              "      <th>NaN</th>\n",
              "      <th>NaN</th>\n",
              "      <th>N</th>\n",
              "      <th>NaN</th>\n",
              "      <th>NaN</th>\n",
              "      <th>NaN</th>\n",
              "      <th>NaN</th>\n",
              "      <th>NaN</th>\n",
              "      <th>NaN</th>\n",
              "      <th>NaN</th>\n",
              "      <th>NaN</th>\n",
              "      <th>NaN</th>\n",
              "      <th>NaN</th>\n",
              "      <th>NaN</th>\n",
              "      <th>NaN</th>\n",
              "      <th>NaN</th>\n",
              "      <th>NaN</th>\n",
              "      <th>N</th>\n",
              "      <th>NaN</th>\n",
              "      <th>NaN</th>\n",
              "      <th>NaN</th>\n",
              "      <th>NaN</th>\n",
              "      <th>NaN</th>\n",
              "      <td>NaN</td>\n",
              "    </tr>\n",
              "    <tr>\n",
              "      <th>10000</th>\n",
              "      <th>36 months</th>\n",
              "      <th>16.91%</th>\n",
              "      <th>356.08</th>\n",
              "      <th>C</th>\n",
              "      <th>C5</th>\n",
              "      <th>Key Accounts Manager</th>\n",
              "      <th>2 years</th>\n",
              "      <th>RENT</th>\n",
              "      <th>80000.0</th>\n",
              "      <th>Not Verified</th>\n",
              "      <th>Oct-2018</th>\n",
              "      <th>Current</th>\n",
              "      <th>n</th>\n",
              "      <th>NaN</th>\n",
              "      <th>NaN</th>\n",
              "      <th>other</th>\n",
              "      <th>Other</th>\n",
              "      <th>021xx</th>\n",
              "      <th>MA</th>\n",
              "      <th>17.72</th>\n",
              "      <th>1</th>\n",
              "      <th>Sep-2006</th>\n",
              "      <th>0</th>\n",
              "      <th>14.0</th>\n",
              "      <th>NaN</th>\n",
              "      <th>17</th>\n",
              "      <th>0</th>\n",
              "      <th>1942</th>\n",
              "      <th>30.8%</th>\n",
              "      <th>31</th>\n",
              "      <th>w</th>\n",
              "      <th>5626.39</th>\n",
              "      <th>5626.39</th>\n",
              "      <th>6400.05</th>\n",
              "      <th>6400.05</th>\n",
              "      <th>4373.61</th>\n",
              "      <th>2026.44</th>\n",
              "      <th>0.0</th>\n",
              "      <th>0.0</th>\n",
              "      <th>0.0</th>\n",
              "      <th>Apr-2020</th>\n",
              "      <th>356.08</th>\n",
              "      <th>May-2020</th>\n",
              "      <th>Apr-2020</th>\n",
              "      <th>0</th>\n",
              "      <th>25.0</th>\n",
              "      <th>1</th>\n",
              "      <th>Individual</th>\n",
              "      <th>NaN</th>\n",
              "      <th>NaN</th>\n",
              "      <th>NaN</th>\n",
              "      <th>0</th>\n",
              "      <th>0</th>\n",
              "      <th>59194</th>\n",
              "      <th>0</th>\n",
              "      <th>15</th>\n",
              "      <th>1</th>\n",
              "      <th>1</th>\n",
              "      <th>12.0</th>\n",
              "      <th>57252.0</th>\n",
              "      <th>85.0</th>\n",
              "      <th>0</th>\n",
              "      <th>0</th>\n",
              "      <th>1942</th>\n",
              "      <th>80.0</th>\n",
              "      <th>6300</th>\n",
              "      <th>0</th>\n",
              "      <th>5</th>\n",
              "      <th>0</th>\n",
              "      <th>1</th>\n",
              "      <th>3482</th>\n",
              "      <th>2058.0</th>\n",
              "      <th>48.5</th>\n",
              "      <th>0</th>\n",
              "      <th>0</th>\n",
              "      <th>144.0</th>\n",
              "      <th>142</th>\n",
              "      <th>40</th>\n",
              "      <th>12</th>\n",
              "      <th>0</th>\n",
              "      <th>131.0</th>\n",
              "      <th>30.0</th>\n",
              "      <th>NaN</th>\n",
              "      <th>30.0</th>\n",
              "      <th>3</th>\n",
              "      <th>1</th>\n",
              "      <th>1</th>\n",
              "      <th>1</th>\n",
              "      <th>5</th>\n",
              "      <th>22</th>\n",
              "      <th>2</th>\n",
              "      <th>9</th>\n",
              "      <th>1</th>\n",
              "      <th>17</th>\n",
              "      <th>0.0</th>\n",
              "      <th>0</th>\n",
              "      <th>0</th>\n",
              "      <th>1</th>\n",
              "      <th>74.2</th>\n",
              "      <th>0.0</th>\n",
              "      <th>0</th>\n",
              "      <th>0</th>\n",
              "      <th>73669</th>\n",
              "      <th>59194</th>\n",
              "      <th>4000</th>\n",
              "      <th>67369</th>\n",
              "      <th>NaN</th>\n",
              "      <th>NaN</th>\n",
              "      <th>NaN</th>\n",
              "      <th>NaN</th>\n",
              "      <th>NaN</th>\n",
              "      <th>NaN</th>\n",
              "      <th>NaN</th>\n",
              "      <th>NaN</th>\n",
              "      <th>NaN</th>\n",
              "      <th>NaN</th>\n",
              "      <th>NaN</th>\n",
              "      <th>N</th>\n",
              "      <th>NaN</th>\n",
              "      <th>NaN</th>\n",
              "      <th>NaN</th>\n",
              "      <th>NaN</th>\n",
              "      <th>NaN</th>\n",
              "      <th>NaN</th>\n",
              "      <th>NaN</th>\n",
              "      <th>NaN</th>\n",
              "      <th>NaN</th>\n",
              "      <th>NaN</th>\n",
              "      <th>NaN</th>\n",
              "      <th>NaN</th>\n",
              "      <th>NaN</th>\n",
              "      <th>NaN</th>\n",
              "      <th>N</th>\n",
              "      <th>NaN</th>\n",
              "      <th>NaN</th>\n",
              "      <th>NaN</th>\n",
              "      <th>NaN</th>\n",
              "      <th>NaN</th>\n",
              "      <td>NaN</td>\n",
              "    </tr>\n",
              "    <tr>\n",
              "      <th>Total amount funded in policy code 1: 2050909275</th>\n",
              "      <th>NaN</th>\n",
              "      <th>NaN</th>\n",
              "      <th>NaN</th>\n",
              "      <th>NaN</th>\n",
              "      <th>NaN</th>\n",
              "      <th>NaN</th>\n",
              "      <th>NaN</th>\n",
              "      <th>NaN</th>\n",
              "      <th>NaN</th>\n",
              "      <th>NaN</th>\n",
              "      <th>NaN</th>\n",
              "      <th>NaN</th>\n",
              "      <th>NaN</th>\n",
              "      <th>NaN</th>\n",
              "      <th>NaN</th>\n",
              "      <th>NaN</th>\n",
              "      <th>NaN</th>\n",
              "      <th>NaN</th>\n",
              "      <th>NaN</th>\n",
              "      <th>NaN</th>\n",
              "      <th>NaN</th>\n",
              "      <th>NaN</th>\n",
              "      <th>NaN</th>\n",
              "      <th>NaN</th>\n",
              "      <th>NaN</th>\n",
              "      <th>NaN</th>\n",
              "      <th>NaN</th>\n",
              "      <th>NaN</th>\n",
              "      <th>NaN</th>\n",
              "      <th>NaN</th>\n",
              "      <th>NaN</th>\n",
              "      <th>NaN</th>\n",
              "      <th>NaN</th>\n",
              "      <th>NaN</th>\n",
              "      <th>NaN</th>\n",
              "      <th>NaN</th>\n",
              "      <th>NaN</th>\n",
              "      <th>NaN</th>\n",
              "      <th>NaN</th>\n",
              "      <th>NaN</th>\n",
              "      <th>NaN</th>\n",
              "      <th>NaN</th>\n",
              "      <th>NaN</th>\n",
              "      <th>NaN</th>\n",
              "      <th>NaN</th>\n",
              "      <th>NaN</th>\n",
              "      <th>NaN</th>\n",
              "      <th>NaN</th>\n",
              "      <th>NaN</th>\n",
              "      <th>NaN</th>\n",
              "      <th>NaN</th>\n",
              "      <th>NaN</th>\n",
              "      <th>NaN</th>\n",
              "      <th>NaN</th>\n",
              "      <th>NaN</th>\n",
              "      <th>NaN</th>\n",
              "      <th>NaN</th>\n",
              "      <th>NaN</th>\n",
              "      <th>NaN</th>\n",
              "      <th>NaN</th>\n",
              "      <th>NaN</th>\n",
              "      <th>NaN</th>\n",
              "      <th>NaN</th>\n",
              "      <th>NaN</th>\n",
              "      <th>NaN</th>\n",
              "      <th>NaN</th>\n",
              "      <th>NaN</th>\n",
              "      <th>NaN</th>\n",
              "      <th>NaN</th>\n",
              "      <th>NaN</th>\n",
              "      <th>NaN</th>\n",
              "      <th>NaN</th>\n",
              "      <th>NaN</th>\n",
              "      <th>NaN</th>\n",
              "      <th>NaN</th>\n",
              "      <th>NaN</th>\n",
              "      <th>NaN</th>\n",
              "      <th>NaN</th>\n",
              "      <th>NaN</th>\n",
              "      <th>NaN</th>\n",
              "      <th>NaN</th>\n",
              "      <th>NaN</th>\n",
              "      <th>NaN</th>\n",
              "      <th>NaN</th>\n",
              "      <th>NaN</th>\n",
              "      <th>NaN</th>\n",
              "      <th>NaN</th>\n",
              "      <th>NaN</th>\n",
              "      <th>NaN</th>\n",
              "      <th>NaN</th>\n",
              "      <th>NaN</th>\n",
              "      <th>NaN</th>\n",
              "      <th>NaN</th>\n",
              "      <th>NaN</th>\n",
              "      <th>NaN</th>\n",
              "      <th>NaN</th>\n",
              "      <th>NaN</th>\n",
              "      <th>NaN</th>\n",
              "      <th>NaN</th>\n",
              "      <th>NaN</th>\n",
              "      <th>NaN</th>\n",
              "      <th>NaN</th>\n",
              "      <th>NaN</th>\n",
              "      <th>NaN</th>\n",
              "      <th>NaN</th>\n",
              "      <th>NaN</th>\n",
              "      <th>NaN</th>\n",
              "      <th>NaN</th>\n",
              "      <th>NaN</th>\n",
              "      <th>NaN</th>\n",
              "      <th>NaN</th>\n",
              "      <th>NaN</th>\n",
              "      <th>NaN</th>\n",
              "      <th>NaN</th>\n",
              "      <th>NaN</th>\n",
              "      <th>NaN</th>\n",
              "      <th>NaN</th>\n",
              "      <th>NaN</th>\n",
              "      <th>NaN</th>\n",
              "      <th>NaN</th>\n",
              "      <th>NaN</th>\n",
              "      <th>NaN</th>\n",
              "      <th>NaN</th>\n",
              "      <th>NaN</th>\n",
              "      <th>NaN</th>\n",
              "      <th>NaN</th>\n",
              "      <th>NaN</th>\n",
              "      <th>NaN</th>\n",
              "      <th>NaN</th>\n",
              "      <th>NaN</th>\n",
              "      <th>NaN</th>\n",
              "      <th>NaN</th>\n",
              "      <th>NaN</th>\n",
              "      <th>NaN</th>\n",
              "      <th>NaN</th>\n",
              "      <th>NaN</th>\n",
              "      <th>NaN</th>\n",
              "      <th>NaN</th>\n",
              "      <th>NaN</th>\n",
              "      <th>NaN</th>\n",
              "      <th>NaN</th>\n",
              "      <th>NaN</th>\n",
              "      <td>NaN</td>\n",
              "    </tr>\n",
              "    <tr>\n",
              "      <th>Total amount funded in policy code 2: 820109297</th>\n",
              "      <th>NaN</th>\n",
              "      <th>NaN</th>\n",
              "      <th>NaN</th>\n",
              "      <th>NaN</th>\n",
              "      <th>NaN</th>\n",
              "      <th>NaN</th>\n",
              "      <th>NaN</th>\n",
              "      <th>NaN</th>\n",
              "      <th>NaN</th>\n",
              "      <th>NaN</th>\n",
              "      <th>NaN</th>\n",
              "      <th>NaN</th>\n",
              "      <th>NaN</th>\n",
              "      <th>NaN</th>\n",
              "      <th>NaN</th>\n",
              "      <th>NaN</th>\n",
              "      <th>NaN</th>\n",
              "      <th>NaN</th>\n",
              "      <th>NaN</th>\n",
              "      <th>NaN</th>\n",
              "      <th>NaN</th>\n",
              "      <th>NaN</th>\n",
              "      <th>NaN</th>\n",
              "      <th>NaN</th>\n",
              "      <th>NaN</th>\n",
              "      <th>NaN</th>\n",
              "      <th>NaN</th>\n",
              "      <th>NaN</th>\n",
              "      <th>NaN</th>\n",
              "      <th>NaN</th>\n",
              "      <th>NaN</th>\n",
              "      <th>NaN</th>\n",
              "      <th>NaN</th>\n",
              "      <th>NaN</th>\n",
              "      <th>NaN</th>\n",
              "      <th>NaN</th>\n",
              "      <th>NaN</th>\n",
              "      <th>NaN</th>\n",
              "      <th>NaN</th>\n",
              "      <th>NaN</th>\n",
              "      <th>NaN</th>\n",
              "      <th>NaN</th>\n",
              "      <th>NaN</th>\n",
              "      <th>NaN</th>\n",
              "      <th>NaN</th>\n",
              "      <th>NaN</th>\n",
              "      <th>NaN</th>\n",
              "      <th>NaN</th>\n",
              "      <th>NaN</th>\n",
              "      <th>NaN</th>\n",
              "      <th>NaN</th>\n",
              "      <th>NaN</th>\n",
              "      <th>NaN</th>\n",
              "      <th>NaN</th>\n",
              "      <th>NaN</th>\n",
              "      <th>NaN</th>\n",
              "      <th>NaN</th>\n",
              "      <th>NaN</th>\n",
              "      <th>NaN</th>\n",
              "      <th>NaN</th>\n",
              "      <th>NaN</th>\n",
              "      <th>NaN</th>\n",
              "      <th>NaN</th>\n",
              "      <th>NaN</th>\n",
              "      <th>NaN</th>\n",
              "      <th>NaN</th>\n",
              "      <th>NaN</th>\n",
              "      <th>NaN</th>\n",
              "      <th>NaN</th>\n",
              "      <th>NaN</th>\n",
              "      <th>NaN</th>\n",
              "      <th>NaN</th>\n",
              "      <th>NaN</th>\n",
              "      <th>NaN</th>\n",
              "      <th>NaN</th>\n",
              "      <th>NaN</th>\n",
              "      <th>NaN</th>\n",
              "      <th>NaN</th>\n",
              "      <th>NaN</th>\n",
              "      <th>NaN</th>\n",
              "      <th>NaN</th>\n",
              "      <th>NaN</th>\n",
              "      <th>NaN</th>\n",
              "      <th>NaN</th>\n",
              "      <th>NaN</th>\n",
              "      <th>NaN</th>\n",
              "      <th>NaN</th>\n",
              "      <th>NaN</th>\n",
              "      <th>NaN</th>\n",
              "      <th>NaN</th>\n",
              "      <th>NaN</th>\n",
              "      <th>NaN</th>\n",
              "      <th>NaN</th>\n",
              "      <th>NaN</th>\n",
              "      <th>NaN</th>\n",
              "      <th>NaN</th>\n",
              "      <th>NaN</th>\n",
              "      <th>NaN</th>\n",
              "      <th>NaN</th>\n",
              "      <th>NaN</th>\n",
              "      <th>NaN</th>\n",
              "      <th>NaN</th>\n",
              "      <th>NaN</th>\n",
              "      <th>NaN</th>\n",
              "      <th>NaN</th>\n",
              "      <th>NaN</th>\n",
              "      <th>NaN</th>\n",
              "      <th>NaN</th>\n",
              "      <th>NaN</th>\n",
              "      <th>NaN</th>\n",
              "      <th>NaN</th>\n",
              "      <th>NaN</th>\n",
              "      <th>NaN</th>\n",
              "      <th>NaN</th>\n",
              "      <th>NaN</th>\n",
              "      <th>NaN</th>\n",
              "      <th>NaN</th>\n",
              "      <th>NaN</th>\n",
              "      <th>NaN</th>\n",
              "      <th>NaN</th>\n",
              "      <th>NaN</th>\n",
              "      <th>NaN</th>\n",
              "      <th>NaN</th>\n",
              "      <th>NaN</th>\n",
              "      <th>NaN</th>\n",
              "      <th>NaN</th>\n",
              "      <th>NaN</th>\n",
              "      <th>NaN</th>\n",
              "      <th>NaN</th>\n",
              "      <th>NaN</th>\n",
              "      <th>NaN</th>\n",
              "      <th>NaN</th>\n",
              "      <th>NaN</th>\n",
              "      <th>NaN</th>\n",
              "      <th>NaN</th>\n",
              "      <th>NaN</th>\n",
              "      <th>NaN</th>\n",
              "      <th>NaN</th>\n",
              "      <th>NaN</th>\n",
              "      <th>NaN</th>\n",
              "      <th>NaN</th>\n",
              "      <th>NaN</th>\n",
              "      <td>NaN</td>\n",
              "    </tr>\n",
              "  </tbody>\n",
              "</table>\n",
              "</div>"
            ],
            "text/plain": [
              "                                                                                                                                                                                                                                                                                                                                                                                                                                                                                                                                                                                                                                                                                                                                                                                                                                                              Notes offered by Prospectus (https://www.lendingclub.com/info/prospectus.action)\n",
              "NaN                                              NaN 5000  5000  5000   36 months  13.56% 169.83 C   C1  Payoff Clerk         10+ years MORTGAGE 35360.0 Not Verified    Oct-2018 Current n   NaN NaN debt_consolidation Debt consolidation      381xx TN  11.3  1   Jun-2006 0   21.0 NaN 9   0   2597 27.3% 15  f   2751.79 2751.79 3053.17 3053.17 2248.21 804.96  0.0 0.0 0.0 Apr-2020 169.83 May-2020 Apr-2020 0   NaN  1   Individual NaN NaN NaN 0   1413 69785 0   2   0   1   16.0 2379    40.0  3   4   1826 32.0 9500  0   0   1   5   8723   1174.0  60.9 0   0   147.0 85  9   9   2   10.0  21.0 9.0 21.0 0   1   3   2   2   6   6   7   3   9   0.0 0   0   3   92.9 50.0 0   0   93908   4976  3000  6028.0  NaN NaN NaN NaN NaN NaN NaN NaN NaN NaN NaN N   NaN NaN NaN NaN NaN NaN NaN NaN NaN NaN NaN NaN NaN NaN N   NaN NaN NaN NaN NaN                                                NaN                              \n",
              "                                                     10000 10000 9750   36 months  11.06% 327.68 B   B3  NaN                  NaN       RENT     44400.0 Source Verified Oct-2018 Current n   NaN NaN credit_card        Credit card refinancing 980xx WA  11.78 0   Oct-2008 2   40.0 NaN 15  0   6269 13.1% 25  f   5411.74 5276.45 5882.88 5735.81 4588.26 1294.62 0.0 0.0 0.0 Apr-2020 327.68 May-2020 Apr-2020 0   53.0 1   Individual NaN NaN NaN 0   520  16440 3   1   1   1   2.0  10171   100.0 2   5   404  28.0 47700 0   3   5   6   1265.0 20037.0 2.3  0   0   61.0  119 1   1   0   1.0   NaN  1.0 40.0 1   2   4   6   8   3   14  22  4   15  0.0 0   0   3   92.0 0.0  0   0   57871.0 16440 20500 10171.0 NaN NaN NaN NaN NaN NaN NaN NaN NaN NaN NaN N   NaN NaN NaN NaN NaN NaN NaN NaN NaN NaN NaN NaN NaN NaN N   NaN NaN NaN NaN NaN                                                NaN                              \n",
              "                                                                 10000  36 months  16.91% 356.08 C   C5  Key Accounts Manager 2 years   RENT     80000.0 Not Verified    Oct-2018 Current n   NaN NaN other              Other                   021xx MA  17.72 1   Sep-2006 0   14.0 NaN 17  0   1942 30.8% 31  w   5626.39 5626.39 6400.05 6400.05 4373.61 2026.44 0.0 0.0 0.0 Apr-2020 356.08 May-2020 Apr-2020 0   25.0 1   Individual NaN NaN NaN 0   0    59194 0   15  1   1   12.0 57252.0 85.0  0   0   1942 80.0 6300  0   5   0   1   3482   2058.0  48.5 0   0   144.0 142 40  12  0   131.0 30.0 NaN 30.0 3   1   1   1   5   22  2   9   1   17  0.0 0   0   1   74.2 0.0  0   0   73669   59194 4000  67369   NaN NaN NaN NaN NaN NaN NaN NaN NaN NaN NaN N   NaN NaN NaN NaN NaN NaN NaN NaN NaN NaN NaN NaN NaN NaN N   NaN NaN NaN NaN NaN                                                NaN                              \n",
              "Total amount funded in policy code 1: 2050909275 NaN NaN   NaN   NaN   NaN        NaN     NaN    NaN NaN NaN                  NaN       NaN      NaN     NaN             NaN      NaN     NaN NaN NaN NaN                NaN                     NaN   NaN NaN   NaN NaN      NaN NaN  NaN NaN NaN NaN  NaN   NaN NaN NaN     NaN     NaN     NaN     NaN     NaN     NaN NaN NaN NaN      NaN    NaN      NaN      NaN NaN  NaN NaN        NaN NaN NaN NaN NaN  NaN   NaN NaN NaN NaN NaN  NaN     NaN   NaN NaN NaN  NaN  NaN   NaN NaN NaN NaN NaN    NaN     NaN  NaN NaN NaN   NaN NaN NaN NaN NaN   NaN  NaN NaN  NaN NaN NaN NaN NaN NaN NaN NaN NaN NaN NaN NaN NaN NaN NaN  NaN  NaN NaN NaN     NaN   NaN   NaN     NaN NaN NaN NaN NaN NaN NaN NaN NaN NaN NaN NaN NaN NaN NaN NaN NaN NaN NaN NaN NaN NaN NaN NaN NaN NaN NaN NaN NaN NaN NaN NaN                                                NaN                              \n",
              "Total amount funded in policy code 2: 820109297  NaN NaN   NaN   NaN   NaN        NaN     NaN    NaN NaN NaN                  NaN       NaN      NaN     NaN             NaN      NaN     NaN NaN NaN NaN                NaN                     NaN   NaN NaN   NaN NaN      NaN NaN  NaN NaN NaN NaN  NaN   NaN NaN NaN     NaN     NaN     NaN     NaN     NaN     NaN NaN NaN NaN      NaN    NaN      NaN      NaN NaN  NaN NaN        NaN NaN NaN NaN NaN  NaN   NaN NaN NaN NaN NaN  NaN     NaN   NaN NaN NaN  NaN  NaN   NaN NaN NaN NaN NaN    NaN     NaN  NaN NaN NaN   NaN NaN NaN NaN NaN   NaN  NaN NaN  NaN NaN NaN NaN NaN NaN NaN NaN NaN NaN NaN NaN NaN NaN NaN  NaN  NaN NaN NaN     NaN   NaN   NaN     NaN NaN NaN NaN NaN NaN NaN NaN NaN NaN NaN NaN NaN NaN NaN NaN NaN NaN NaN NaN NaN NaN NaN NaN NaN NaN NaN NaN NaN NaN NaN NaN                                                NaN                              "
            ]
          },
          "metadata": {
            "tags": []
          },
          "execution_count": 119
        }
      ]
    },
    {
      "cell_type": "code",
      "metadata": {
        "id": "Wd53AMsE12tZ",
        "colab_type": "code",
        "colab": {
          "base_uri": "https://localhost:8080/",
          "height": 378
        },
        "outputId": "9cb812c1-5de5-4765-fee4-20bb2a0fc2a6"
      },
      "source": [
        "loans = pd.read_csv('LoanStats_2018Q4.csv', header=1, skipfooter=2)\n",
        "loans.head()\n"
      ],
      "execution_count": 120,
      "outputs": [
        {
          "output_type": "stream",
          "text": [
            "/usr/local/lib/python3.6/dist-packages/ipykernel_launcher.py:1: ParserWarning: Falling back to the 'python' engine because the 'c' engine does not support skipfooter; you can avoid this warning by specifying engine='python'.\n",
            "  \"\"\"Entry point for launching an IPython kernel.\n"
          ],
          "name": "stderr"
        },
        {
          "output_type": "execute_result",
          "data": {
            "text/html": [
              "<div>\n",
              "<style scoped>\n",
              "    .dataframe tbody tr th:only-of-type {\n",
              "        vertical-align: middle;\n",
              "    }\n",
              "\n",
              "    .dataframe tbody tr th {\n",
              "        vertical-align: top;\n",
              "    }\n",
              "\n",
              "    .dataframe thead th {\n",
              "        text-align: right;\n",
              "    }\n",
              "</style>\n",
              "<table border=\"1\" class=\"dataframe\">\n",
              "  <thead>\n",
              "    <tr style=\"text-align: right;\">\n",
              "      <th></th>\n",
              "      <th>id</th>\n",
              "      <th>member_id</th>\n",
              "      <th>loan_amnt</th>\n",
              "      <th>funded_amnt</th>\n",
              "      <th>funded_amnt_inv</th>\n",
              "      <th>term</th>\n",
              "      <th>int_rate</th>\n",
              "      <th>installment</th>\n",
              "      <th>grade</th>\n",
              "      <th>sub_grade</th>\n",
              "      <th>emp_title</th>\n",
              "      <th>emp_length</th>\n",
              "      <th>home_ownership</th>\n",
              "      <th>annual_inc</th>\n",
              "      <th>verification_status</th>\n",
              "      <th>issue_d</th>\n",
              "      <th>loan_status</th>\n",
              "      <th>pymnt_plan</th>\n",
              "      <th>url</th>\n",
              "      <th>desc</th>\n",
              "      <th>purpose</th>\n",
              "      <th>title</th>\n",
              "      <th>zip_code</th>\n",
              "      <th>addr_state</th>\n",
              "      <th>dti</th>\n",
              "      <th>delinq_2yrs</th>\n",
              "      <th>earliest_cr_line</th>\n",
              "      <th>inq_last_6mths</th>\n",
              "      <th>mths_since_last_delinq</th>\n",
              "      <th>mths_since_last_record</th>\n",
              "      <th>open_acc</th>\n",
              "      <th>pub_rec</th>\n",
              "      <th>revol_bal</th>\n",
              "      <th>revol_util</th>\n",
              "      <th>total_acc</th>\n",
              "      <th>initial_list_status</th>\n",
              "      <th>out_prncp</th>\n",
              "      <th>out_prncp_inv</th>\n",
              "      <th>total_pymnt</th>\n",
              "      <th>total_pymnt_inv</th>\n",
              "      <th>...</th>\n",
              "      <th>percent_bc_gt_75</th>\n",
              "      <th>pub_rec_bankruptcies</th>\n",
              "      <th>tax_liens</th>\n",
              "      <th>tot_hi_cred_lim</th>\n",
              "      <th>total_bal_ex_mort</th>\n",
              "      <th>total_bc_limit</th>\n",
              "      <th>total_il_high_credit_limit</th>\n",
              "      <th>revol_bal_joint</th>\n",
              "      <th>sec_app_earliest_cr_line</th>\n",
              "      <th>sec_app_inq_last_6mths</th>\n",
              "      <th>sec_app_mort_acc</th>\n",
              "      <th>sec_app_open_acc</th>\n",
              "      <th>sec_app_revol_util</th>\n",
              "      <th>sec_app_open_act_il</th>\n",
              "      <th>sec_app_num_rev_accts</th>\n",
              "      <th>sec_app_chargeoff_within_12_mths</th>\n",
              "      <th>sec_app_collections_12_mths_ex_med</th>\n",
              "      <th>sec_app_mths_since_last_major_derog</th>\n",
              "      <th>hardship_flag</th>\n",
              "      <th>hardship_type</th>\n",
              "      <th>hardship_reason</th>\n",
              "      <th>hardship_status</th>\n",
              "      <th>deferral_term</th>\n",
              "      <th>hardship_amount</th>\n",
              "      <th>hardship_start_date</th>\n",
              "      <th>hardship_end_date</th>\n",
              "      <th>payment_plan_start_date</th>\n",
              "      <th>hardship_length</th>\n",
              "      <th>hardship_dpd</th>\n",
              "      <th>hardship_loan_status</th>\n",
              "      <th>orig_projected_additional_accrued_interest</th>\n",
              "      <th>hardship_payoff_balance_amount</th>\n",
              "      <th>hardship_last_payment_amount</th>\n",
              "      <th>debt_settlement_flag</th>\n",
              "      <th>debt_settlement_flag_date</th>\n",
              "      <th>settlement_status</th>\n",
              "      <th>settlement_date</th>\n",
              "      <th>settlement_amount</th>\n",
              "      <th>settlement_percentage</th>\n",
              "      <th>settlement_term</th>\n",
              "    </tr>\n",
              "  </thead>\n",
              "  <tbody>\n",
              "    <tr>\n",
              "      <th>0</th>\n",
              "      <td>NaN</td>\n",
              "      <td>NaN</td>\n",
              "      <td>10000</td>\n",
              "      <td>10000</td>\n",
              "      <td>10000.0</td>\n",
              "      <td>60 months</td>\n",
              "      <td>16.14%</td>\n",
              "      <td>243.93</td>\n",
              "      <td>C</td>\n",
              "      <td>C4</td>\n",
              "      <td>Sale Consultant</td>\n",
              "      <td>2 years</td>\n",
              "      <td>RENT</td>\n",
              "      <td>90000.0</td>\n",
              "      <td>Not Verified</td>\n",
              "      <td>Dec-2018</td>\n",
              "      <td>Fully Paid</td>\n",
              "      <td>n</td>\n",
              "      <td>NaN</td>\n",
              "      <td>NaN</td>\n",
              "      <td>debt_consolidation</td>\n",
              "      <td>Debt consolidation</td>\n",
              "      <td>079xx</td>\n",
              "      <td>NJ</td>\n",
              "      <td>8.80</td>\n",
              "      <td>0</td>\n",
              "      <td>Mar-1991</td>\n",
              "      <td>1</td>\n",
              "      <td>NaN</td>\n",
              "      <td>43.0</td>\n",
              "      <td>11</td>\n",
              "      <td>1</td>\n",
              "      <td>10582</td>\n",
              "      <td>58.5%</td>\n",
              "      <td>32</td>\n",
              "      <td>w</td>\n",
              "      <td>0.00</td>\n",
              "      <td>0.00</td>\n",
              "      <td>10661.057727</td>\n",
              "      <td>10661.06</td>\n",
              "      <td>...</td>\n",
              "      <td>80.0</td>\n",
              "      <td>1</td>\n",
              "      <td>0</td>\n",
              "      <td>25600</td>\n",
              "      <td>15470</td>\n",
              "      <td>15000</td>\n",
              "      <td>7500</td>\n",
              "      <td>NaN</td>\n",
              "      <td>NaN</td>\n",
              "      <td>NaN</td>\n",
              "      <td>NaN</td>\n",
              "      <td>NaN</td>\n",
              "      <td>NaN</td>\n",
              "      <td>NaN</td>\n",
              "      <td>NaN</td>\n",
              "      <td>NaN</td>\n",
              "      <td>NaN</td>\n",
              "      <td>NaN</td>\n",
              "      <td>N</td>\n",
              "      <td>NaN</td>\n",
              "      <td>NaN</td>\n",
              "      <td>NaN</td>\n",
              "      <td>NaN</td>\n",
              "      <td>NaN</td>\n",
              "      <td>NaN</td>\n",
              "      <td>NaN</td>\n",
              "      <td>NaN</td>\n",
              "      <td>NaN</td>\n",
              "      <td>NaN</td>\n",
              "      <td>NaN</td>\n",
              "      <td>NaN</td>\n",
              "      <td>NaN</td>\n",
              "      <td>NaN</td>\n",
              "      <td>N</td>\n",
              "      <td>NaN</td>\n",
              "      <td>NaN</td>\n",
              "      <td>NaN</td>\n",
              "      <td>NaN</td>\n",
              "      <td>NaN</td>\n",
              "      <td>NaN</td>\n",
              "    </tr>\n",
              "    <tr>\n",
              "      <th>1</th>\n",
              "      <td>NaN</td>\n",
              "      <td>NaN</td>\n",
              "      <td>6500</td>\n",
              "      <td>6500</td>\n",
              "      <td>6500.0</td>\n",
              "      <td>36 months</td>\n",
              "      <td>11.80%</td>\n",
              "      <td>215.28</td>\n",
              "      <td>B</td>\n",
              "      <td>B4</td>\n",
              "      <td>Educator</td>\n",
              "      <td>2 years</td>\n",
              "      <td>RENT</td>\n",
              "      <td>46500.0</td>\n",
              "      <td>Source Verified</td>\n",
              "      <td>Dec-2018</td>\n",
              "      <td>Current</td>\n",
              "      <td>n</td>\n",
              "      <td>NaN</td>\n",
              "      <td>NaN</td>\n",
              "      <td>debt_consolidation</td>\n",
              "      <td>Debt consolidation</td>\n",
              "      <td>352xx</td>\n",
              "      <td>AL</td>\n",
              "      <td>21.01</td>\n",
              "      <td>0</td>\n",
              "      <td>Aug-2011</td>\n",
              "      <td>1</td>\n",
              "      <td>61.0</td>\n",
              "      <td>NaN</td>\n",
              "      <td>24</td>\n",
              "      <td>0</td>\n",
              "      <td>6741</td>\n",
              "      <td>41.6%</td>\n",
              "      <td>30</td>\n",
              "      <td>w</td>\n",
              "      <td>4066.26</td>\n",
              "      <td>4066.26</td>\n",
              "      <td>3222.810000</td>\n",
              "      <td>3222.81</td>\n",
              "      <td>...</td>\n",
              "      <td>0.0</td>\n",
              "      <td>0</td>\n",
              "      <td>0</td>\n",
              "      <td>50845</td>\n",
              "      <td>40223</td>\n",
              "      <td>13300</td>\n",
              "      <td>34645</td>\n",
              "      <td>NaN</td>\n",
              "      <td>NaN</td>\n",
              "      <td>NaN</td>\n",
              "      <td>NaN</td>\n",
              "      <td>NaN</td>\n",
              "      <td>NaN</td>\n",
              "      <td>NaN</td>\n",
              "      <td>NaN</td>\n",
              "      <td>NaN</td>\n",
              "      <td>NaN</td>\n",
              "      <td>NaN</td>\n",
              "      <td>N</td>\n",
              "      <td>NaN</td>\n",
              "      <td>NaN</td>\n",
              "      <td>NaN</td>\n",
              "      <td>NaN</td>\n",
              "      <td>NaN</td>\n",
              "      <td>NaN</td>\n",
              "      <td>NaN</td>\n",
              "      <td>NaN</td>\n",
              "      <td>NaN</td>\n",
              "      <td>NaN</td>\n",
              "      <td>NaN</td>\n",
              "      <td>NaN</td>\n",
              "      <td>NaN</td>\n",
              "      <td>NaN</td>\n",
              "      <td>N</td>\n",
              "      <td>NaN</td>\n",
              "      <td>NaN</td>\n",
              "      <td>NaN</td>\n",
              "      <td>NaN</td>\n",
              "      <td>NaN</td>\n",
              "      <td>NaN</td>\n",
              "    </tr>\n",
              "    <tr>\n",
              "      <th>2</th>\n",
              "      <td>NaN</td>\n",
              "      <td>NaN</td>\n",
              "      <td>4500</td>\n",
              "      <td>4500</td>\n",
              "      <td>4500.0</td>\n",
              "      <td>36 months</td>\n",
              "      <td>11.31%</td>\n",
              "      <td>147.99</td>\n",
              "      <td>B</td>\n",
              "      <td>B3</td>\n",
              "      <td>Accounts Examiner III</td>\n",
              "      <td>10+ years</td>\n",
              "      <td>RENT</td>\n",
              "      <td>38500.0</td>\n",
              "      <td>Not Verified</td>\n",
              "      <td>Dec-2018</td>\n",
              "      <td>Fully Paid</td>\n",
              "      <td>n</td>\n",
              "      <td>NaN</td>\n",
              "      <td>NaN</td>\n",
              "      <td>credit_card</td>\n",
              "      <td>Credit card refinancing</td>\n",
              "      <td>786xx</td>\n",
              "      <td>TX</td>\n",
              "      <td>4.64</td>\n",
              "      <td>0</td>\n",
              "      <td>Dec-2003</td>\n",
              "      <td>0</td>\n",
              "      <td>25.0</td>\n",
              "      <td>NaN</td>\n",
              "      <td>12</td>\n",
              "      <td>0</td>\n",
              "      <td>4472</td>\n",
              "      <td>15.3%</td>\n",
              "      <td>25</td>\n",
              "      <td>w</td>\n",
              "      <td>0.00</td>\n",
              "      <td>0.00</td>\n",
              "      <td>4549.217149</td>\n",
              "      <td>4549.22</td>\n",
              "      <td>...</td>\n",
              "      <td>0.0</td>\n",
              "      <td>0</td>\n",
              "      <td>0</td>\n",
              "      <td>53795</td>\n",
              "      <td>29137</td>\n",
              "      <td>15100</td>\n",
              "      <td>24595</td>\n",
              "      <td>NaN</td>\n",
              "      <td>NaN</td>\n",
              "      <td>NaN</td>\n",
              "      <td>NaN</td>\n",
              "      <td>NaN</td>\n",
              "      <td>NaN</td>\n",
              "      <td>NaN</td>\n",
              "      <td>NaN</td>\n",
              "      <td>NaN</td>\n",
              "      <td>NaN</td>\n",
              "      <td>NaN</td>\n",
              "      <td>N</td>\n",
              "      <td>NaN</td>\n",
              "      <td>NaN</td>\n",
              "      <td>NaN</td>\n",
              "      <td>NaN</td>\n",
              "      <td>NaN</td>\n",
              "      <td>NaN</td>\n",
              "      <td>NaN</td>\n",
              "      <td>NaN</td>\n",
              "      <td>NaN</td>\n",
              "      <td>NaN</td>\n",
              "      <td>NaN</td>\n",
              "      <td>NaN</td>\n",
              "      <td>NaN</td>\n",
              "      <td>NaN</td>\n",
              "      <td>N</td>\n",
              "      <td>NaN</td>\n",
              "      <td>NaN</td>\n",
              "      <td>NaN</td>\n",
              "      <td>NaN</td>\n",
              "      <td>NaN</td>\n",
              "      <td>NaN</td>\n",
              "    </tr>\n",
              "    <tr>\n",
              "      <th>3</th>\n",
              "      <td>NaN</td>\n",
              "      <td>NaN</td>\n",
              "      <td>25000</td>\n",
              "      <td>25000</td>\n",
              "      <td>25000.0</td>\n",
              "      <td>60 months</td>\n",
              "      <td>14.47%</td>\n",
              "      <td>587.82</td>\n",
              "      <td>C</td>\n",
              "      <td>C2</td>\n",
              "      <td>teacher</td>\n",
              "      <td>10+ years</td>\n",
              "      <td>OWN</td>\n",
              "      <td>110000.0</td>\n",
              "      <td>Not Verified</td>\n",
              "      <td>Dec-2018</td>\n",
              "      <td>Charged Off</td>\n",
              "      <td>n</td>\n",
              "      <td>NaN</td>\n",
              "      <td>NaN</td>\n",
              "      <td>credit_card</td>\n",
              "      <td>Credit card refinancing</td>\n",
              "      <td>117xx</td>\n",
              "      <td>NY</td>\n",
              "      <td>26.43</td>\n",
              "      <td>1</td>\n",
              "      <td>Jan-1997</td>\n",
              "      <td>0</td>\n",
              "      <td>7.0</td>\n",
              "      <td>NaN</td>\n",
              "      <td>23</td>\n",
              "      <td>0</td>\n",
              "      <td>39053</td>\n",
              "      <td>45.7%</td>\n",
              "      <td>49</td>\n",
              "      <td>w</td>\n",
              "      <td>0.00</td>\n",
              "      <td>0.00</td>\n",
              "      <td>5848.050000</td>\n",
              "      <td>5848.05</td>\n",
              "      <td>...</td>\n",
              "      <td>10.0</td>\n",
              "      <td>0</td>\n",
              "      <td>0</td>\n",
              "      <td>179321</td>\n",
              "      <td>95648</td>\n",
              "      <td>62800</td>\n",
              "      <td>91424</td>\n",
              "      <td>NaN</td>\n",
              "      <td>NaN</td>\n",
              "      <td>NaN</td>\n",
              "      <td>NaN</td>\n",
              "      <td>NaN</td>\n",
              "      <td>NaN</td>\n",
              "      <td>NaN</td>\n",
              "      <td>NaN</td>\n",
              "      <td>NaN</td>\n",
              "      <td>NaN</td>\n",
              "      <td>NaN</td>\n",
              "      <td>N</td>\n",
              "      <td>NaN</td>\n",
              "      <td>NaN</td>\n",
              "      <td>NaN</td>\n",
              "      <td>NaN</td>\n",
              "      <td>NaN</td>\n",
              "      <td>NaN</td>\n",
              "      <td>NaN</td>\n",
              "      <td>NaN</td>\n",
              "      <td>NaN</td>\n",
              "      <td>NaN</td>\n",
              "      <td>NaN</td>\n",
              "      <td>NaN</td>\n",
              "      <td>NaN</td>\n",
              "      <td>NaN</td>\n",
              "      <td>N</td>\n",
              "      <td>NaN</td>\n",
              "      <td>NaN</td>\n",
              "      <td>NaN</td>\n",
              "      <td>NaN</td>\n",
              "      <td>NaN</td>\n",
              "      <td>NaN</td>\n",
              "    </tr>\n",
              "    <tr>\n",
              "      <th>4</th>\n",
              "      <td>NaN</td>\n",
              "      <td>NaN</td>\n",
              "      <td>30000</td>\n",
              "      <td>30000</td>\n",
              "      <td>30000.0</td>\n",
              "      <td>60 months</td>\n",
              "      <td>27.27%</td>\n",
              "      <td>920.91</td>\n",
              "      <td>E</td>\n",
              "      <td>E5</td>\n",
              "      <td>Claims Analyst</td>\n",
              "      <td>1 year</td>\n",
              "      <td>RENT</td>\n",
              "      <td>50000.0</td>\n",
              "      <td>Not Verified</td>\n",
              "      <td>Dec-2018</td>\n",
              "      <td>Current</td>\n",
              "      <td>n</td>\n",
              "      <td>NaN</td>\n",
              "      <td>NaN</td>\n",
              "      <td>debt_consolidation</td>\n",
              "      <td>Debt consolidation</td>\n",
              "      <td>857xx</td>\n",
              "      <td>AZ</td>\n",
              "      <td>23.62</td>\n",
              "      <td>0</td>\n",
              "      <td>Dec-1997</td>\n",
              "      <td>1</td>\n",
              "      <td>NaN</td>\n",
              "      <td>NaN</td>\n",
              "      <td>10</td>\n",
              "      <td>0</td>\n",
              "      <td>1258</td>\n",
              "      <td>10.7%</td>\n",
              "      <td>16</td>\n",
              "      <td>w</td>\n",
              "      <td>25780.25</td>\n",
              "      <td>25780.25</td>\n",
              "      <td>13745.470000</td>\n",
              "      <td>13745.47</td>\n",
              "      <td>...</td>\n",
              "      <td>0.0</td>\n",
              "      <td>0</td>\n",
              "      <td>0</td>\n",
              "      <td>46300</td>\n",
              "      <td>27364</td>\n",
              "      <td>10100</td>\n",
              "      <td>34500</td>\n",
              "      <td>NaN</td>\n",
              "      <td>NaN</td>\n",
              "      <td>NaN</td>\n",
              "      <td>NaN</td>\n",
              "      <td>NaN</td>\n",
              "      <td>NaN</td>\n",
              "      <td>NaN</td>\n",
              "      <td>NaN</td>\n",
              "      <td>NaN</td>\n",
              "      <td>NaN</td>\n",
              "      <td>NaN</td>\n",
              "      <td>N</td>\n",
              "      <td>NaN</td>\n",
              "      <td>NaN</td>\n",
              "      <td>NaN</td>\n",
              "      <td>NaN</td>\n",
              "      <td>NaN</td>\n",
              "      <td>NaN</td>\n",
              "      <td>NaN</td>\n",
              "      <td>NaN</td>\n",
              "      <td>NaN</td>\n",
              "      <td>NaN</td>\n",
              "      <td>NaN</td>\n",
              "      <td>NaN</td>\n",
              "      <td>NaN</td>\n",
              "      <td>NaN</td>\n",
              "      <td>N</td>\n",
              "      <td>NaN</td>\n",
              "      <td>NaN</td>\n",
              "      <td>NaN</td>\n",
              "      <td>NaN</td>\n",
              "      <td>NaN</td>\n",
              "      <td>NaN</td>\n",
              "    </tr>\n",
              "  </tbody>\n",
              "</table>\n",
              "<p>5 rows × 144 columns</p>\n",
              "</div>"
            ],
            "text/plain": [
              "   id  member_id  ...  settlement_percentage  settlement_term\n",
              "0 NaN        NaN  ...                    NaN              NaN\n",
              "1 NaN        NaN  ...                    NaN              NaN\n",
              "2 NaN        NaN  ...                    NaN              NaN\n",
              "3 NaN        NaN  ...                    NaN              NaN\n",
              "4 NaN        NaN  ...                    NaN              NaN\n",
              "\n",
              "[5 rows x 144 columns]"
            ]
          },
          "metadata": {
            "tags": []
          },
          "execution_count": 120
        }
      ]
    },
    {
      "cell_type": "code",
      "metadata": {
        "id": "XYTljy5912zo",
        "colab_type": "code",
        "colab": {
          "base_uri": "https://localhost:8080/",
          "height": 345
        },
        "outputId": "53a11e72-f64b-4443-81f8-34f8a5713352"
      },
      "source": [
        "loans.tail()"
      ],
      "execution_count": 121,
      "outputs": [
        {
          "output_type": "execute_result",
          "data": {
            "text/html": [
              "<div>\n",
              "<style scoped>\n",
              "    .dataframe tbody tr th:only-of-type {\n",
              "        vertical-align: middle;\n",
              "    }\n",
              "\n",
              "    .dataframe tbody tr th {\n",
              "        vertical-align: top;\n",
              "    }\n",
              "\n",
              "    .dataframe thead th {\n",
              "        text-align: right;\n",
              "    }\n",
              "</style>\n",
              "<table border=\"1\" class=\"dataframe\">\n",
              "  <thead>\n",
              "    <tr style=\"text-align: right;\">\n",
              "      <th></th>\n",
              "      <th>id</th>\n",
              "      <th>member_id</th>\n",
              "      <th>loan_amnt</th>\n",
              "      <th>funded_amnt</th>\n",
              "      <th>funded_amnt_inv</th>\n",
              "      <th>term</th>\n",
              "      <th>int_rate</th>\n",
              "      <th>installment</th>\n",
              "      <th>grade</th>\n",
              "      <th>sub_grade</th>\n",
              "      <th>emp_title</th>\n",
              "      <th>emp_length</th>\n",
              "      <th>home_ownership</th>\n",
              "      <th>annual_inc</th>\n",
              "      <th>verification_status</th>\n",
              "      <th>issue_d</th>\n",
              "      <th>loan_status</th>\n",
              "      <th>pymnt_plan</th>\n",
              "      <th>url</th>\n",
              "      <th>desc</th>\n",
              "      <th>purpose</th>\n",
              "      <th>title</th>\n",
              "      <th>zip_code</th>\n",
              "      <th>addr_state</th>\n",
              "      <th>dti</th>\n",
              "      <th>delinq_2yrs</th>\n",
              "      <th>earliest_cr_line</th>\n",
              "      <th>inq_last_6mths</th>\n",
              "      <th>mths_since_last_delinq</th>\n",
              "      <th>mths_since_last_record</th>\n",
              "      <th>open_acc</th>\n",
              "      <th>pub_rec</th>\n",
              "      <th>revol_bal</th>\n",
              "      <th>revol_util</th>\n",
              "      <th>total_acc</th>\n",
              "      <th>initial_list_status</th>\n",
              "      <th>out_prncp</th>\n",
              "      <th>out_prncp_inv</th>\n",
              "      <th>total_pymnt</th>\n",
              "      <th>total_pymnt_inv</th>\n",
              "      <th>...</th>\n",
              "      <th>percent_bc_gt_75</th>\n",
              "      <th>pub_rec_bankruptcies</th>\n",
              "      <th>tax_liens</th>\n",
              "      <th>tot_hi_cred_lim</th>\n",
              "      <th>total_bal_ex_mort</th>\n",
              "      <th>total_bc_limit</th>\n",
              "      <th>total_il_high_credit_limit</th>\n",
              "      <th>revol_bal_joint</th>\n",
              "      <th>sec_app_earliest_cr_line</th>\n",
              "      <th>sec_app_inq_last_6mths</th>\n",
              "      <th>sec_app_mort_acc</th>\n",
              "      <th>sec_app_open_acc</th>\n",
              "      <th>sec_app_revol_util</th>\n",
              "      <th>sec_app_open_act_il</th>\n",
              "      <th>sec_app_num_rev_accts</th>\n",
              "      <th>sec_app_chargeoff_within_12_mths</th>\n",
              "      <th>sec_app_collections_12_mths_ex_med</th>\n",
              "      <th>sec_app_mths_since_last_major_derog</th>\n",
              "      <th>hardship_flag</th>\n",
              "      <th>hardship_type</th>\n",
              "      <th>hardship_reason</th>\n",
              "      <th>hardship_status</th>\n",
              "      <th>deferral_term</th>\n",
              "      <th>hardship_amount</th>\n",
              "      <th>hardship_start_date</th>\n",
              "      <th>hardship_end_date</th>\n",
              "      <th>payment_plan_start_date</th>\n",
              "      <th>hardship_length</th>\n",
              "      <th>hardship_dpd</th>\n",
              "      <th>hardship_loan_status</th>\n",
              "      <th>orig_projected_additional_accrued_interest</th>\n",
              "      <th>hardship_payoff_balance_amount</th>\n",
              "      <th>hardship_last_payment_amount</th>\n",
              "      <th>debt_settlement_flag</th>\n",
              "      <th>debt_settlement_flag_date</th>\n",
              "      <th>settlement_status</th>\n",
              "      <th>settlement_date</th>\n",
              "      <th>settlement_amount</th>\n",
              "      <th>settlement_percentage</th>\n",
              "      <th>settlement_term</th>\n",
              "    </tr>\n",
              "  </thead>\n",
              "  <tbody>\n",
              "    <tr>\n",
              "      <th>128407</th>\n",
              "      <td>NaN</td>\n",
              "      <td>NaN</td>\n",
              "      <td>23000</td>\n",
              "      <td>23000</td>\n",
              "      <td>23000.0</td>\n",
              "      <td>36 months</td>\n",
              "      <td>15.02%</td>\n",
              "      <td>797.53</td>\n",
              "      <td>C</td>\n",
              "      <td>C3</td>\n",
              "      <td>Tax Consultant</td>\n",
              "      <td>10+ years</td>\n",
              "      <td>MORTGAGE</td>\n",
              "      <td>75000.0</td>\n",
              "      <td>Source Verified</td>\n",
              "      <td>Oct-2018</td>\n",
              "      <td>Charged Off</td>\n",
              "      <td>n</td>\n",
              "      <td>NaN</td>\n",
              "      <td>NaN</td>\n",
              "      <td>debt_consolidation</td>\n",
              "      <td>Debt consolidation</td>\n",
              "      <td>352xx</td>\n",
              "      <td>AL</td>\n",
              "      <td>20.95</td>\n",
              "      <td>1</td>\n",
              "      <td>Aug-1985</td>\n",
              "      <td>2</td>\n",
              "      <td>22.0</td>\n",
              "      <td>NaN</td>\n",
              "      <td>12</td>\n",
              "      <td>0</td>\n",
              "      <td>22465</td>\n",
              "      <td>43.6%</td>\n",
              "      <td>28</td>\n",
              "      <td>w</td>\n",
              "      <td>0.00</td>\n",
              "      <td>0.00</td>\n",
              "      <td>1547.08</td>\n",
              "      <td>1547.08</td>\n",
              "      <td>...</td>\n",
              "      <td>14.3</td>\n",
              "      <td>0</td>\n",
              "      <td>0</td>\n",
              "      <td>296500</td>\n",
              "      <td>40614</td>\n",
              "      <td>47100</td>\n",
              "      <td>21000</td>\n",
              "      <td>NaN</td>\n",
              "      <td>NaN</td>\n",
              "      <td>NaN</td>\n",
              "      <td>NaN</td>\n",
              "      <td>NaN</td>\n",
              "      <td>NaN</td>\n",
              "      <td>NaN</td>\n",
              "      <td>NaN</td>\n",
              "      <td>NaN</td>\n",
              "      <td>NaN</td>\n",
              "      <td>NaN</td>\n",
              "      <td>N</td>\n",
              "      <td>NaN</td>\n",
              "      <td>NaN</td>\n",
              "      <td>NaN</td>\n",
              "      <td>NaN</td>\n",
              "      <td>NaN</td>\n",
              "      <td>NaN</td>\n",
              "      <td>NaN</td>\n",
              "      <td>NaN</td>\n",
              "      <td>NaN</td>\n",
              "      <td>NaN</td>\n",
              "      <td>NaN</td>\n",
              "      <td>NaN</td>\n",
              "      <td>NaN</td>\n",
              "      <td>NaN</td>\n",
              "      <td>N</td>\n",
              "      <td>NaN</td>\n",
              "      <td>NaN</td>\n",
              "      <td>NaN</td>\n",
              "      <td>NaN</td>\n",
              "      <td>NaN</td>\n",
              "      <td>NaN</td>\n",
              "    </tr>\n",
              "    <tr>\n",
              "      <th>128408</th>\n",
              "      <td>NaN</td>\n",
              "      <td>NaN</td>\n",
              "      <td>10000</td>\n",
              "      <td>10000</td>\n",
              "      <td>10000.0</td>\n",
              "      <td>36 months</td>\n",
              "      <td>15.02%</td>\n",
              "      <td>346.76</td>\n",
              "      <td>C</td>\n",
              "      <td>C3</td>\n",
              "      <td>security guard</td>\n",
              "      <td>5 years</td>\n",
              "      <td>MORTGAGE</td>\n",
              "      <td>38000.0</td>\n",
              "      <td>Not Verified</td>\n",
              "      <td>Oct-2018</td>\n",
              "      <td>Current</td>\n",
              "      <td>n</td>\n",
              "      <td>NaN</td>\n",
              "      <td>NaN</td>\n",
              "      <td>debt_consolidation</td>\n",
              "      <td>Debt consolidation</td>\n",
              "      <td>443xx</td>\n",
              "      <td>OH</td>\n",
              "      <td>13.16</td>\n",
              "      <td>3</td>\n",
              "      <td>Jul-1982</td>\n",
              "      <td>0</td>\n",
              "      <td>6.0</td>\n",
              "      <td>NaN</td>\n",
              "      <td>11</td>\n",
              "      <td>0</td>\n",
              "      <td>5634</td>\n",
              "      <td>37.1%</td>\n",
              "      <td>16</td>\n",
              "      <td>w</td>\n",
              "      <td>5557.25</td>\n",
              "      <td>5557.25</td>\n",
              "      <td>6233.34</td>\n",
              "      <td>6233.34</td>\n",
              "      <td>...</td>\n",
              "      <td>40.0</td>\n",
              "      <td>0</td>\n",
              "      <td>0</td>\n",
              "      <td>91403</td>\n",
              "      <td>9323</td>\n",
              "      <td>9100</td>\n",
              "      <td>2000</td>\n",
              "      <td>NaN</td>\n",
              "      <td>NaN</td>\n",
              "      <td>NaN</td>\n",
              "      <td>NaN</td>\n",
              "      <td>NaN</td>\n",
              "      <td>NaN</td>\n",
              "      <td>NaN</td>\n",
              "      <td>NaN</td>\n",
              "      <td>NaN</td>\n",
              "      <td>NaN</td>\n",
              "      <td>NaN</td>\n",
              "      <td>N</td>\n",
              "      <td>NaN</td>\n",
              "      <td>NaN</td>\n",
              "      <td>NaN</td>\n",
              "      <td>NaN</td>\n",
              "      <td>NaN</td>\n",
              "      <td>NaN</td>\n",
              "      <td>NaN</td>\n",
              "      <td>NaN</td>\n",
              "      <td>NaN</td>\n",
              "      <td>NaN</td>\n",
              "      <td>NaN</td>\n",
              "      <td>NaN</td>\n",
              "      <td>NaN</td>\n",
              "      <td>NaN</td>\n",
              "      <td>N</td>\n",
              "      <td>NaN</td>\n",
              "      <td>NaN</td>\n",
              "      <td>NaN</td>\n",
              "      <td>NaN</td>\n",
              "      <td>NaN</td>\n",
              "      <td>NaN</td>\n",
              "    </tr>\n",
              "    <tr>\n",
              "      <th>128409</th>\n",
              "      <td>NaN</td>\n",
              "      <td>NaN</td>\n",
              "      <td>5000</td>\n",
              "      <td>5000</td>\n",
              "      <td>5000.0</td>\n",
              "      <td>36 months</td>\n",
              "      <td>13.56%</td>\n",
              "      <td>169.83</td>\n",
              "      <td>C</td>\n",
              "      <td>C1</td>\n",
              "      <td>Payoff Clerk</td>\n",
              "      <td>10+ years</td>\n",
              "      <td>MORTGAGE</td>\n",
              "      <td>35360.0</td>\n",
              "      <td>Not Verified</td>\n",
              "      <td>Oct-2018</td>\n",
              "      <td>Current</td>\n",
              "      <td>n</td>\n",
              "      <td>NaN</td>\n",
              "      <td>NaN</td>\n",
              "      <td>debt_consolidation</td>\n",
              "      <td>Debt consolidation</td>\n",
              "      <td>381xx</td>\n",
              "      <td>TN</td>\n",
              "      <td>11.30</td>\n",
              "      <td>1</td>\n",
              "      <td>Jun-2006</td>\n",
              "      <td>0</td>\n",
              "      <td>21.0</td>\n",
              "      <td>NaN</td>\n",
              "      <td>9</td>\n",
              "      <td>0</td>\n",
              "      <td>2597</td>\n",
              "      <td>27.3%</td>\n",
              "      <td>15</td>\n",
              "      <td>f</td>\n",
              "      <td>2751.79</td>\n",
              "      <td>2751.79</td>\n",
              "      <td>3053.17</td>\n",
              "      <td>3053.17</td>\n",
              "      <td>...</td>\n",
              "      <td>50.0</td>\n",
              "      <td>0</td>\n",
              "      <td>0</td>\n",
              "      <td>93908</td>\n",
              "      <td>4976</td>\n",
              "      <td>3000</td>\n",
              "      <td>6028</td>\n",
              "      <td>NaN</td>\n",
              "      <td>NaN</td>\n",
              "      <td>NaN</td>\n",
              "      <td>NaN</td>\n",
              "      <td>NaN</td>\n",
              "      <td>NaN</td>\n",
              "      <td>NaN</td>\n",
              "      <td>NaN</td>\n",
              "      <td>NaN</td>\n",
              "      <td>NaN</td>\n",
              "      <td>NaN</td>\n",
              "      <td>N</td>\n",
              "      <td>NaN</td>\n",
              "      <td>NaN</td>\n",
              "      <td>NaN</td>\n",
              "      <td>NaN</td>\n",
              "      <td>NaN</td>\n",
              "      <td>NaN</td>\n",
              "      <td>NaN</td>\n",
              "      <td>NaN</td>\n",
              "      <td>NaN</td>\n",
              "      <td>NaN</td>\n",
              "      <td>NaN</td>\n",
              "      <td>NaN</td>\n",
              "      <td>NaN</td>\n",
              "      <td>NaN</td>\n",
              "      <td>N</td>\n",
              "      <td>NaN</td>\n",
              "      <td>NaN</td>\n",
              "      <td>NaN</td>\n",
              "      <td>NaN</td>\n",
              "      <td>NaN</td>\n",
              "      <td>NaN</td>\n",
              "    </tr>\n",
              "    <tr>\n",
              "      <th>128410</th>\n",
              "      <td>NaN</td>\n",
              "      <td>NaN</td>\n",
              "      <td>10000</td>\n",
              "      <td>10000</td>\n",
              "      <td>9750.0</td>\n",
              "      <td>36 months</td>\n",
              "      <td>11.06%</td>\n",
              "      <td>327.68</td>\n",
              "      <td>B</td>\n",
              "      <td>B3</td>\n",
              "      <td>NaN</td>\n",
              "      <td>NaN</td>\n",
              "      <td>RENT</td>\n",
              "      <td>44400.0</td>\n",
              "      <td>Source Verified</td>\n",
              "      <td>Oct-2018</td>\n",
              "      <td>Current</td>\n",
              "      <td>n</td>\n",
              "      <td>NaN</td>\n",
              "      <td>NaN</td>\n",
              "      <td>credit_card</td>\n",
              "      <td>Credit card refinancing</td>\n",
              "      <td>980xx</td>\n",
              "      <td>WA</td>\n",
              "      <td>11.78</td>\n",
              "      <td>0</td>\n",
              "      <td>Oct-2008</td>\n",
              "      <td>2</td>\n",
              "      <td>40.0</td>\n",
              "      <td>NaN</td>\n",
              "      <td>15</td>\n",
              "      <td>0</td>\n",
              "      <td>6269</td>\n",
              "      <td>13.1%</td>\n",
              "      <td>25</td>\n",
              "      <td>f</td>\n",
              "      <td>5411.74</td>\n",
              "      <td>5276.45</td>\n",
              "      <td>5882.88</td>\n",
              "      <td>5735.81</td>\n",
              "      <td>...</td>\n",
              "      <td>0.0</td>\n",
              "      <td>0</td>\n",
              "      <td>0</td>\n",
              "      <td>57871</td>\n",
              "      <td>16440</td>\n",
              "      <td>20500</td>\n",
              "      <td>10171</td>\n",
              "      <td>NaN</td>\n",
              "      <td>NaN</td>\n",
              "      <td>NaN</td>\n",
              "      <td>NaN</td>\n",
              "      <td>NaN</td>\n",
              "      <td>NaN</td>\n",
              "      <td>NaN</td>\n",
              "      <td>NaN</td>\n",
              "      <td>NaN</td>\n",
              "      <td>NaN</td>\n",
              "      <td>NaN</td>\n",
              "      <td>N</td>\n",
              "      <td>NaN</td>\n",
              "      <td>NaN</td>\n",
              "      <td>NaN</td>\n",
              "      <td>NaN</td>\n",
              "      <td>NaN</td>\n",
              "      <td>NaN</td>\n",
              "      <td>NaN</td>\n",
              "      <td>NaN</td>\n",
              "      <td>NaN</td>\n",
              "      <td>NaN</td>\n",
              "      <td>NaN</td>\n",
              "      <td>NaN</td>\n",
              "      <td>NaN</td>\n",
              "      <td>NaN</td>\n",
              "      <td>N</td>\n",
              "      <td>NaN</td>\n",
              "      <td>NaN</td>\n",
              "      <td>NaN</td>\n",
              "      <td>NaN</td>\n",
              "      <td>NaN</td>\n",
              "      <td>NaN</td>\n",
              "    </tr>\n",
              "    <tr>\n",
              "      <th>128411</th>\n",
              "      <td>NaN</td>\n",
              "      <td>NaN</td>\n",
              "      <td>10000</td>\n",
              "      <td>10000</td>\n",
              "      <td>10000.0</td>\n",
              "      <td>36 months</td>\n",
              "      <td>16.91%</td>\n",
              "      <td>356.08</td>\n",
              "      <td>C</td>\n",
              "      <td>C5</td>\n",
              "      <td>Key Accounts Manager</td>\n",
              "      <td>2 years</td>\n",
              "      <td>RENT</td>\n",
              "      <td>80000.0</td>\n",
              "      <td>Not Verified</td>\n",
              "      <td>Oct-2018</td>\n",
              "      <td>Current</td>\n",
              "      <td>n</td>\n",
              "      <td>NaN</td>\n",
              "      <td>NaN</td>\n",
              "      <td>other</td>\n",
              "      <td>Other</td>\n",
              "      <td>021xx</td>\n",
              "      <td>MA</td>\n",
              "      <td>17.72</td>\n",
              "      <td>1</td>\n",
              "      <td>Sep-2006</td>\n",
              "      <td>0</td>\n",
              "      <td>14.0</td>\n",
              "      <td>NaN</td>\n",
              "      <td>17</td>\n",
              "      <td>0</td>\n",
              "      <td>1942</td>\n",
              "      <td>30.8%</td>\n",
              "      <td>31</td>\n",
              "      <td>w</td>\n",
              "      <td>5626.39</td>\n",
              "      <td>5626.39</td>\n",
              "      <td>6400.05</td>\n",
              "      <td>6400.05</td>\n",
              "      <td>...</td>\n",
              "      <td>0.0</td>\n",
              "      <td>0</td>\n",
              "      <td>0</td>\n",
              "      <td>73669</td>\n",
              "      <td>59194</td>\n",
              "      <td>4000</td>\n",
              "      <td>67369</td>\n",
              "      <td>NaN</td>\n",
              "      <td>NaN</td>\n",
              "      <td>NaN</td>\n",
              "      <td>NaN</td>\n",
              "      <td>NaN</td>\n",
              "      <td>NaN</td>\n",
              "      <td>NaN</td>\n",
              "      <td>NaN</td>\n",
              "      <td>NaN</td>\n",
              "      <td>NaN</td>\n",
              "      <td>NaN</td>\n",
              "      <td>N</td>\n",
              "      <td>NaN</td>\n",
              "      <td>NaN</td>\n",
              "      <td>NaN</td>\n",
              "      <td>NaN</td>\n",
              "      <td>NaN</td>\n",
              "      <td>NaN</td>\n",
              "      <td>NaN</td>\n",
              "      <td>NaN</td>\n",
              "      <td>NaN</td>\n",
              "      <td>NaN</td>\n",
              "      <td>NaN</td>\n",
              "      <td>NaN</td>\n",
              "      <td>NaN</td>\n",
              "      <td>NaN</td>\n",
              "      <td>N</td>\n",
              "      <td>NaN</td>\n",
              "      <td>NaN</td>\n",
              "      <td>NaN</td>\n",
              "      <td>NaN</td>\n",
              "      <td>NaN</td>\n",
              "      <td>NaN</td>\n",
              "    </tr>\n",
              "  </tbody>\n",
              "</table>\n",
              "<p>5 rows × 144 columns</p>\n",
              "</div>"
            ],
            "text/plain": [
              "        id  member_id  ...  settlement_percentage  settlement_term\n",
              "128407 NaN        NaN  ...                    NaN              NaN\n",
              "128408 NaN        NaN  ...                    NaN              NaN\n",
              "128409 NaN        NaN  ...                    NaN              NaN\n",
              "128410 NaN        NaN  ...                    NaN              NaN\n",
              "128411 NaN        NaN  ...                    NaN              NaN\n",
              "\n",
              "[5 rows x 144 columns]"
            ]
          },
          "metadata": {
            "tags": []
          },
          "execution_count": 121
        }
      ]
    },
    {
      "cell_type": "code",
      "metadata": {
        "id": "W5ZKGo_61223",
        "colab_type": "code",
        "colab": {
          "base_uri": "https://localhost:8080/",
          "height": 34
        },
        "outputId": "fa85f2b7-1a80-4a43-b598-626937708186"
      },
      "source": [
        "loans.shape"
      ],
      "execution_count": 122,
      "outputs": [
        {
          "output_type": "execute_result",
          "data": {
            "text/plain": [
              "(128412, 144)"
            ]
          },
          "metadata": {
            "tags": []
          },
          "execution_count": 122
        }
      ]
    },
    {
      "cell_type": "code",
      "metadata": {
        "id": "P-msISoZ128s",
        "colab_type": "code",
        "colab": {
          "base_uri": "https://localhost:8080/",
          "height": 1000
        },
        "outputId": "cdac2449-1dea-4834-909a-e92e34421508"
      },
      "source": [
        "# read pd.set_options doc\n",
        "pd.set_option('display.max_rows', 1000)\n",
        "loans.isnull().sum().sort_values(ascending=False)"
      ],
      "execution_count": 123,
      "outputs": [
        {
          "output_type": "execute_result",
          "data": {
            "text/plain": [
              "id                                            128412\n",
              "member_id                                     128412\n",
              "url                                           128412\n",
              "desc                                          128412\n",
              "settlement_percentage                         127661\n",
              "settlement_term                               127661\n",
              "settlement_date                               127661\n",
              "debt_settlement_flag_date                     127661\n",
              "settlement_status                             127661\n",
              "settlement_amount                             127661\n",
              "sec_app_mths_since_last_major_derog           123258\n",
              "hardship_loan_status                          117705\n",
              "hardship_status                               117691\n",
              "hardship_reason                               117691\n",
              "hardship_dpd                                  117690\n",
              "hardship_length                               117690\n",
              "payment_plan_start_date                       117690\n",
              "hardship_end_date                             117690\n",
              "hardship_start_date                           117690\n",
              "deferral_term                                 117690\n",
              "hardship_type                                 117690\n",
              "orig_projected_additional_accrued_interest    114943\n",
              "hardship_last_payment_amount                  114919\n",
              "hardship_amount                               114919\n",
              "hardship_payoff_balance_amount                114919\n",
              "verification_status_joint                     113564\n",
              "mths_since_last_record                        112962\n",
              "sec_app_revol_util                            111888\n",
              "sec_app_collections_12_mths_ex_med            111630\n",
              "sec_app_num_rev_accts                         111630\n",
              "sec_app_open_act_il                           111630\n",
              "sec_app_open_acc                              111630\n",
              "sec_app_mort_acc                              111630\n",
              "sec_app_inq_last_6mths                        111630\n",
              "sec_app_earliest_cr_line                      111630\n",
              "revol_bal_joint                               111630\n",
              "dti_joint                                     111630\n",
              "annual_inc_joint                              111630\n",
              "sec_app_chargeoff_within_12_mths              111630\n",
              "mths_since_recent_bc_dlq                      103243\n",
              "mths_since_last_major_derog                    99232\n",
              "mths_since_recent_revol_delinq                 91630\n",
              "mths_since_last_delinq                         72196\n",
              "next_pymnt_d                                   36394\n",
              "emp_title                                      20947\n",
              "il_util                                        20274\n",
              "mths_since_recent_inq                          16047\n",
              "emp_length                                     11704\n",
              "mths_since_rcnt_il                              4478\n",
              "mo_sin_old_il_acct                              4478\n",
              "num_tl_120dpd_2m                                2859\n",
              "hardship_flag                                   2771\n",
              "bc_util                                         1754\n",
              "percent_bc_gt_75                                1692\n",
              "bc_open_to_buy                                  1691\n",
              "mths_since_recent_bc                            1591\n",
              "dti                                              237\n",
              "last_pymnt_d                                     159\n",
              "revol_util                                       156\n",
              "all_util                                          37\n",
              "avg_cur_bal                                       13\n",
              "last_credit_pull_d                                 1\n",
              "pub_rec                                            0\n",
              "revol_bal                                          0\n",
              "total_pymnt_inv                                    0\n",
              "total_acc                                          0\n",
              "initial_list_status                                0\n",
              "out_prncp                                          0\n",
              "out_prncp_inv                                      0\n",
              "total_pymnt                                        0\n",
              "total_rec_prncp                                    0\n",
              "total_rec_late_fee                                 0\n",
              "recoveries                                         0\n",
              "total_rec_int                                      0\n",
              "debt_settlement_flag                               0\n",
              "open_acc                                           0\n",
              "annual_inc                                         0\n",
              "loan_amnt                                          0\n",
              "funded_amnt                                        0\n",
              "funded_amnt_inv                                    0\n",
              "term                                               0\n",
              "int_rate                                           0\n",
              "installment                                        0\n",
              "grade                                              0\n",
              "sub_grade                                          0\n",
              "home_ownership                                     0\n",
              "verification_status                                0\n",
              "inq_last_6mths                                     0\n",
              "issue_d                                            0\n",
              "loan_status                                        0\n",
              "pymnt_plan                                         0\n",
              "purpose                                            0\n",
              "title                                              0\n",
              "zip_code                                           0\n",
              "addr_state                                         0\n",
              "delinq_2yrs                                        0\n",
              "earliest_cr_line                                   0\n",
              "collection_recovery_fee                            0\n",
              "max_bal_bc                                         0\n",
              "last_pymnt_amnt                                    0\n",
              "mort_acc                                           0\n",
              "num_actv_bc_tl                                     0\n",
              "num_actv_rev_tl                                    0\n",
              "num_bc_sats                                        0\n",
              "num_bc_tl                                          0\n",
              "num_il_tl                                          0\n",
              "num_op_rev_tl                                      0\n",
              "num_rev_accts                                      0\n",
              "num_rev_tl_bal_gt_0                                0\n",
              "num_sats                                           0\n",
              "num_tl_30dpd                                       0\n",
              "num_tl_90g_dpd_24m                                 0\n",
              "num_tl_op_past_12m                                 0\n",
              "pct_tl_nvr_dlq                                     0\n",
              "pub_rec_bankruptcies                               0\n",
              "tax_liens                                          0\n",
              "tot_hi_cred_lim                                    0\n",
              "total_bal_ex_mort                                  0\n",
              "total_bc_limit                                     0\n",
              "total_il_high_credit_limit                         0\n",
              "num_accts_ever_120_pd                              0\n",
              "mo_sin_rcnt_tl                                     0\n",
              "collections_12_mths_ex_med                         0\n",
              "mo_sin_rcnt_rev_tl_op                              0\n",
              "policy_code                                        0\n",
              "application_type                                   0\n",
              "acc_now_delinq                                     0\n",
              "tot_coll_amt                                       0\n",
              "tot_cur_bal                                        0\n",
              "open_acc_6m                                        0\n",
              "open_act_il                                        0\n",
              "open_il_12m                                        0\n",
              "open_il_24m                                        0\n",
              "total_bal_il                                       0\n",
              "open_rv_12m                                        0\n",
              "open_rv_24m                                        0\n",
              "total_rev_hi_lim                                   0\n",
              "total_cu_tl                                        0\n",
              "inq_last_12m                                       0\n",
              "acc_open_past_24mths                               0\n",
              "chargeoff_within_12_mths                           0\n",
              "delinq_amnt                                        0\n",
              "mo_sin_old_rev_tl_op                               0\n",
              "inq_fi                                             0\n",
              "dtype: int64"
            ]
          },
          "metadata": {
            "tags": []
          },
          "execution_count": 123
        }
      ]
    },
    {
      "cell_type": "code",
      "metadata": {
        "id": "lZ5pQSwU12_9",
        "colab_type": "code",
        "colab": {}
      },
      "source": [
        "loans.drop('url',axis=1,inplace=True)\n"
      ],
      "execution_count": 0,
      "outputs": []
    },
    {
      "cell_type": "code",
      "metadata": {
        "id": "DvzyBJEEEHPw",
        "colab_type": "code",
        "colab": {
          "base_uri": "https://localhost:8080/",
          "height": 202
        },
        "outputId": "d148bbf6-9297-476b-8f29-ac4f8c7e37ca"
      },
      "source": [
        "loans['int_rate'].head(10)"
      ],
      "execution_count": 125,
      "outputs": [
        {
          "output_type": "execute_result",
          "data": {
            "text/plain": [
              "0     16.14%\n",
              "1     11.80%\n",
              "2     11.31%\n",
              "3     14.47%\n",
              "4     27.27%\n",
              "5     16.14%\n",
              "6     12.98%\n",
              "7     12.98%\n",
              "8     10.33%\n",
              "9     23.40%\n",
              "Name: int_rate, dtype: object"
            ]
          },
          "metadata": {
            "tags": []
          },
          "execution_count": 125
        }
      ]
    },
    {
      "cell_type": "code",
      "metadata": {
        "id": "UsGmz86oEIAG",
        "colab_type": "code",
        "colab": {
          "base_uri": "https://localhost:8080/",
          "height": 34
        },
        "outputId": "52c1d694-ef59-4721-9468-e244ff403d8f"
      },
      "source": [
        "loans['int_rate'][3]"
      ],
      "execution_count": 126,
      "outputs": [
        {
          "output_type": "execute_result",
          "data": {
            "text/plain": [
              "' 14.47%'"
            ]
          },
          "metadata": {
            "tags": []
          },
          "execution_count": 126
        }
      ]
    },
    {
      "cell_type": "code",
      "metadata": {
        "id": "oZ-dPRW0EH8s",
        "colab_type": "code",
        "colab": {
          "base_uri": "https://localhost:8080/",
          "height": 34
        },
        "outputId": "afdf988f-99ba-4300-df1e-4bd90dba51cd"
      },
      "source": [
        "loans['int_rate'].dtype"
      ],
      "execution_count": 127,
      "outputs": [
        {
          "output_type": "execute_result",
          "data": {
            "text/plain": [
              "dtype('O')"
            ]
          },
          "metadata": {
            "tags": []
          },
          "execution_count": 127
        }
      ]
    },
    {
      "cell_type": "code",
      "metadata": {
        "id": "eP5Yu377EH41",
        "colab_type": "code",
        "colab": {
          "base_uri": "https://localhost:8080/",
          "height": 34
        },
        "outputId": "d62d6e70-b8af-41a3-caa6-7973258fa323"
      },
      "source": [
        "type(loans['int_rate'][3])"
      ],
      "execution_count": 128,
      "outputs": [
        {
          "output_type": "execute_result",
          "data": {
            "text/plain": [
              "str"
            ]
          },
          "metadata": {
            "tags": []
          },
          "execution_count": 128
        }
      ]
    },
    {
      "cell_type": "code",
      "metadata": {
        "id": "HJUwhj57EH1N",
        "colab_type": "code",
        "colab": {}
      },
      "source": [
        "int_rate = ' 14.47%'"
      ],
      "execution_count": 0,
      "outputs": []
    },
    {
      "cell_type": "code",
      "metadata": {
        "id": "6iWHr3K4EHxc",
        "colab_type": "code",
        "colab": {
          "base_uri": "https://localhost:8080/",
          "height": 34
        },
        "outputId": "2b898d00-2846-4376-c14e-d655b5b5b17a"
      },
      "source": [
        "int_rate.strip()"
      ],
      "execution_count": 130,
      "outputs": [
        {
          "output_type": "execute_result",
          "data": {
            "text/plain": [
              "'14.47%'"
            ]
          },
          "metadata": {
            "tags": []
          },
          "execution_count": 130
        }
      ]
    },
    {
      "cell_type": "code",
      "metadata": {
        "id": "nGvsCiRyEHt6",
        "colab_type": "code",
        "colab": {
          "base_uri": "https://localhost:8080/",
          "height": 34
        },
        "outputId": "5e60d04a-664d-40f8-acae-1a907995f836"
      },
      "source": [
        "int_rate.strip('%')"
      ],
      "execution_count": 131,
      "outputs": [
        {
          "output_type": "execute_result",
          "data": {
            "text/plain": [
              "' 14.47'"
            ]
          },
          "metadata": {
            "tags": []
          },
          "execution_count": 131
        }
      ]
    },
    {
      "cell_type": "code",
      "metadata": {
        "id": "IoLckxOeEHp2",
        "colab_type": "code",
        "colab": {
          "base_uri": "https://localhost:8080/",
          "height": 34
        },
        "outputId": "7aa5817b-752a-4b89-a015-7fb1f7445bf0"
      },
      "source": [
        "int_rate.strip().strip('%')"
      ],
      "execution_count": 132,
      "outputs": [
        {
          "output_type": "execute_result",
          "data": {
            "text/plain": [
              "'14.47'"
            ]
          },
          "metadata": {
            "tags": []
          },
          "execution_count": 132
        }
      ]
    },
    {
      "cell_type": "code",
      "metadata": {
        "id": "QNhK9iX1EHg8",
        "colab_type": "code",
        "colab": {
          "base_uri": "https://localhost:8080/",
          "height": 34
        },
        "outputId": "1dcb8642-6590-4757-fc5b-72d4e0d1ed97"
      },
      "source": [
        "float('14.47')"
      ],
      "execution_count": 133,
      "outputs": [
        {
          "output_type": "execute_result",
          "data": {
            "text/plain": [
              "14.47"
            ]
          },
          "metadata": {
            "tags": []
          },
          "execution_count": 133
        }
      ]
    },
    {
      "cell_type": "code",
      "metadata": {
        "id": "0E90ANvREHbu",
        "colab_type": "code",
        "colab": {
          "base_uri": "https://localhost:8080/",
          "height": 34
        },
        "outputId": "c1ec248d-0c10-493d-9264-4dede4ab36f4"
      },
      "source": [
        "float(int_rate.strip().strip('%'))"
      ],
      "execution_count": 134,
      "outputs": [
        {
          "output_type": "execute_result",
          "data": {
            "text/plain": [
              "14.47"
            ]
          },
          "metadata": {
            "tags": []
          },
          "execution_count": 134
        }
      ]
    },
    {
      "cell_type": "code",
      "metadata": {
        "id": "WNWvNxnGMOYD",
        "colab_type": "code",
        "colab": {
          "base_uri": "https://localhost:8080/",
          "height": 34
        },
        "outputId": "14b1387e-180c-475d-9f11-f0fc586e0c90"
      },
      "source": [
        "type(float(int_rate.strip().strip('%')))"
      ],
      "execution_count": 135,
      "outputs": [
        {
          "output_type": "execute_result",
          "data": {
            "text/plain": [
              "float"
            ]
          },
          "metadata": {
            "tags": []
          },
          "execution_count": 135
        }
      ]
    },
    {
      "cell_type": "code",
      "metadata": {
        "id": "wWKDzfPRMOTf",
        "colab_type": "code",
        "colab": {}
      },
      "source": [
        "def myfunc(my_input_value):\n",
        "    return float(my_input_value.strip().strip('%'))"
      ],
      "execution_count": 0,
      "outputs": []
    },
    {
      "cell_type": "code",
      "metadata": {
        "id": "yOmOwqANMOPk",
        "colab_type": "code",
        "colab": {
          "base_uri": "https://localhost:8080/",
          "height": 34
        },
        "outputId": "4e836eb4-0ce0-4f54-aac2-8b7cbb18985f"
      },
      "source": [
        "myfunc(int_rate)"
      ],
      "execution_count": 137,
      "outputs": [
        {
          "output_type": "execute_result",
          "data": {
            "text/plain": [
              "14.47"
            ]
          },
          "metadata": {
            "tags": []
          },
          "execution_count": 137
        }
      ]
    },
    {
      "cell_type": "code",
      "metadata": {
        "id": "wvUfnKuEMOKu",
        "colab_type": "code",
        "colab": {
          "base_uri": "https://localhost:8080/",
          "height": 34
        },
        "outputId": "c103ed17-2e08-4066-db8a-78762ac64ac0"
      },
      "source": [
        "type(myfunc(int_rate))"
      ],
      "execution_count": 138,
      "outputs": [
        {
          "output_type": "execute_result",
          "data": {
            "text/plain": [
              "float"
            ]
          },
          "metadata": {
            "tags": []
          },
          "execution_count": 138
        }
      ]
    },
    {
      "cell_type": "code",
      "metadata": {
        "id": "Mr5nOWgJMOHB",
        "colab_type": "code",
        "colab": {}
      },
      "source": [
        "new_list=[]\n",
        "for cell in loans['int_rate']:\n",
        "  new_list.append(myfunc(cell))"
      ],
      "execution_count": 0,
      "outputs": []
    },
    {
      "cell_type": "code",
      "metadata": {
        "id": "jyh79Y3DMN_U",
        "colab_type": "code",
        "colab": {
          "base_uri": "https://localhost:8080/",
          "height": 34
        },
        "outputId": "ec0abc78-9e1a-4f53-bca4-255a0e9c1921"
      },
      "source": [
        "new_list[:10]"
      ],
      "execution_count": 140,
      "outputs": [
        {
          "output_type": "execute_result",
          "data": {
            "text/plain": [
              "[16.14, 11.8, 11.31, 14.47, 27.27, 16.14, 12.98, 12.98, 10.33, 23.4]"
            ]
          },
          "metadata": {
            "tags": []
          },
          "execution_count": 140
        }
      ]
    },
    {
      "cell_type": "code",
      "metadata": {
        "id": "732DyPCrMN61",
        "colab_type": "code",
        "colab": {
          "base_uri": "https://localhost:8080/",
          "height": 185
        },
        "outputId": "d17ed596-305c-4ba5-bcc1-3ed9d21e1ec5"
      },
      "source": [
        "loans['int_rate'].head()\n",
        "list(loans['int_rate'][:10])"
      ],
      "execution_count": 141,
      "outputs": [
        {
          "output_type": "execute_result",
          "data": {
            "text/plain": [
              "[' 16.14%',\n",
              " ' 11.80%',\n",
              " ' 11.31%',\n",
              " ' 14.47%',\n",
              " ' 27.27%',\n",
              " ' 16.14%',\n",
              " ' 12.98%',\n",
              " ' 12.98%',\n",
              " ' 10.33%',\n",
              " ' 23.40%']"
            ]
          },
          "metadata": {
            "tags": []
          },
          "execution_count": 141
        }
      ]
    },
    {
      "cell_type": "code",
      "metadata": {
        "id": "7_4BxIpjMN0v",
        "colab_type": "code",
        "colab": {}
      },
      "source": [
        "loans['int_rate_clean']=pd.Series(new_list)"
      ],
      "execution_count": 0,
      "outputs": []
    },
    {
      "cell_type": "code",
      "metadata": {
        "id": "nqXNrfRUMNw0",
        "colab_type": "code",
        "colab": {
          "base_uri": "https://localhost:8080/",
          "height": 254
        },
        "outputId": "3bfbd208-727c-4969-9cb6-0538f06b148b"
      },
      "source": [
        "loans[['int_rate', 'int_rate_clean']].sample(7)"
      ],
      "execution_count": 143,
      "outputs": [
        {
          "output_type": "execute_result",
          "data": {
            "text/html": [
              "<div>\n",
              "<style scoped>\n",
              "    .dataframe tbody tr th:only-of-type {\n",
              "        vertical-align: middle;\n",
              "    }\n",
              "\n",
              "    .dataframe tbody tr th {\n",
              "        vertical-align: top;\n",
              "    }\n",
              "\n",
              "    .dataframe thead th {\n",
              "        text-align: right;\n",
              "    }\n",
              "</style>\n",
              "<table border=\"1\" class=\"dataframe\">\n",
              "  <thead>\n",
              "    <tr style=\"text-align: right;\">\n",
              "      <th></th>\n",
              "      <th>int_rate</th>\n",
              "      <th>int_rate_clean</th>\n",
              "    </tr>\n",
              "  </thead>\n",
              "  <tbody>\n",
              "    <tr>\n",
              "      <th>25785</th>\n",
              "      <td>16.14%</td>\n",
              "      <td>16.14</td>\n",
              "    </tr>\n",
              "    <tr>\n",
              "      <th>9967</th>\n",
              "      <td>7.56%</td>\n",
              "      <td>7.56</td>\n",
              "    </tr>\n",
              "    <tr>\n",
              "      <th>47784</th>\n",
              "      <td>8.81%</td>\n",
              "      <td>8.81</td>\n",
              "    </tr>\n",
              "    <tr>\n",
              "      <th>49920</th>\n",
              "      <td>16.91%</td>\n",
              "      <td>16.91</td>\n",
              "    </tr>\n",
              "    <tr>\n",
              "      <th>106691</th>\n",
              "      <td>6.11%</td>\n",
              "      <td>6.11</td>\n",
              "    </tr>\n",
              "    <tr>\n",
              "      <th>66762</th>\n",
              "      <td>7.02%</td>\n",
              "      <td>7.02</td>\n",
              "    </tr>\n",
              "    <tr>\n",
              "      <th>67926</th>\n",
              "      <td>10.72%</td>\n",
              "      <td>10.72</td>\n",
              "    </tr>\n",
              "  </tbody>\n",
              "</table>\n",
              "</div>"
            ],
            "text/plain": [
              "       int_rate  int_rate_clean\n",
              "25785    16.14%           16.14\n",
              "9967      7.56%            7.56\n",
              "47784     8.81%            8.81\n",
              "49920    16.91%           16.91\n",
              "106691    6.11%            6.11\n",
              "66762     7.02%            7.02\n",
              "67926    10.72%           10.72"
            ]
          },
          "metadata": {
            "tags": []
          },
          "execution_count": 143
        }
      ]
    },
    {
      "cell_type": "code",
      "metadata": {
        "id": "JRj94dqLMNsC",
        "colab_type": "code",
        "colab": {
          "base_uri": "https://localhost:8080/",
          "height": 34
        },
        "outputId": "351ece05-b05d-4510-f254-04207861d03c"
      },
      "source": [
        "loans['int_rate_clean'].dtype"
      ],
      "execution_count": 144,
      "outputs": [
        {
          "output_type": "execute_result",
          "data": {
            "text/plain": [
              "dtype('float64')"
            ]
          },
          "metadata": {
            "tags": []
          },
          "execution_count": 144
        }
      ]
    },
    {
      "cell_type": "code",
      "metadata": {
        "id": "wUNv0SFrMNn2",
        "colab_type": "code",
        "colab": {}
      },
      "source": [
        "loans['int_rate_clean2'] = loans['int_rate'].apply(myfunc)"
      ],
      "execution_count": 0,
      "outputs": []
    },
    {
      "cell_type": "code",
      "metadata": {
        "id": "_JObRSpyMNkJ",
        "colab_type": "code",
        "colab": {
          "base_uri": "https://localhost:8080/",
          "height": 254
        },
        "outputId": "cf53ca65-57f4-4f6e-ff45-b8b73e52f45b"
      },
      "source": [
        "loans[['int_rate', 'int_rate_clean', 'int_rate_clean2']].sample(7)"
      ],
      "execution_count": 146,
      "outputs": [
        {
          "output_type": "execute_result",
          "data": {
            "text/html": [
              "<div>\n",
              "<style scoped>\n",
              "    .dataframe tbody tr th:only-of-type {\n",
              "        vertical-align: middle;\n",
              "    }\n",
              "\n",
              "    .dataframe tbody tr th {\n",
              "        vertical-align: top;\n",
              "    }\n",
              "\n",
              "    .dataframe thead th {\n",
              "        text-align: right;\n",
              "    }\n",
              "</style>\n",
              "<table border=\"1\" class=\"dataframe\">\n",
              "  <thead>\n",
              "    <tr style=\"text-align: right;\">\n",
              "      <th></th>\n",
              "      <th>int_rate</th>\n",
              "      <th>int_rate_clean</th>\n",
              "      <th>int_rate_clean2</th>\n",
              "    </tr>\n",
              "  </thead>\n",
              "  <tbody>\n",
              "    <tr>\n",
              "      <th>8786</th>\n",
              "      <td>19.92%</td>\n",
              "      <td>19.92</td>\n",
              "      <td>19.92</td>\n",
              "    </tr>\n",
              "    <tr>\n",
              "      <th>61416</th>\n",
              "      <td>8.81%</td>\n",
              "      <td>8.81</td>\n",
              "      <td>8.81</td>\n",
              "    </tr>\n",
              "    <tr>\n",
              "      <th>16113</th>\n",
              "      <td>8.19%</td>\n",
              "      <td>8.19</td>\n",
              "      <td>8.19</td>\n",
              "    </tr>\n",
              "    <tr>\n",
              "      <th>125996</th>\n",
              "      <td>16.14%</td>\n",
              "      <td>16.14</td>\n",
              "      <td>16.14</td>\n",
              "    </tr>\n",
              "    <tr>\n",
              "      <th>30697</th>\n",
              "      <td>13.56%</td>\n",
              "      <td>13.56</td>\n",
              "      <td>13.56</td>\n",
              "    </tr>\n",
              "    <tr>\n",
              "      <th>52448</th>\n",
              "      <td>8.19%</td>\n",
              "      <td>8.19</td>\n",
              "      <td>8.19</td>\n",
              "    </tr>\n",
              "    <tr>\n",
              "      <th>102439</th>\n",
              "      <td>16.91%</td>\n",
              "      <td>16.91</td>\n",
              "      <td>16.91</td>\n",
              "    </tr>\n",
              "  </tbody>\n",
              "</table>\n",
              "</div>"
            ],
            "text/plain": [
              "       int_rate  int_rate_clean  int_rate_clean2\n",
              "8786     19.92%           19.92            19.92\n",
              "61416     8.81%            8.81             8.81\n",
              "16113     8.19%            8.19             8.19\n",
              "125996   16.14%           16.14            16.14\n",
              "30697    13.56%           13.56            13.56\n",
              "52448     8.19%            8.19             8.19\n",
              "102439   16.91%           16.91            16.91"
            ]
          },
          "metadata": {
            "tags": []
          },
          "execution_count": 146
        }
      ]
    },
    {
      "cell_type": "code",
      "metadata": {
        "id": "WpRocVCxMNfy",
        "colab_type": "code",
        "colab": {
          "base_uri": "https://localhost:8080/",
          "height": 370
        },
        "outputId": "bb1765fb-9c79-40e9-fbc7-58574bc22b03"
      },
      "source": [
        "loans['emp_title'].head(20)"
      ],
      "execution_count": 147,
      "outputs": [
        {
          "output_type": "execute_result",
          "data": {
            "text/plain": [
              "0                          Sale Consultant\n",
              "1                                Educator \n",
              "2                    Accounts Examiner III\n",
              "3                                  teacher\n",
              "4                           Claims Analyst\n",
              "5                         Training Manager\n",
              "6                             Tire builder\n",
              "7               Program Support Assistant \n",
              "8                                   Driver\n",
              "9                                   BANKER\n",
              "10                        Business Analyst\n",
              "11                                OPERATOR\n",
              "12                        Shift Supervisor\n",
              "13                                 Driver \n",
              "14    Assistant to the Treasurer (Payroll)\n",
              "15               Reimbursement specialist \n",
              "16                       Financial Advisor\n",
              "17                                Engineer\n",
              "18                   Sales Account Manager\n",
              "19                                     Cna\n",
              "Name: emp_title, dtype: object"
            ]
          },
          "metadata": {
            "tags": []
          },
          "execution_count": 147
        }
      ]
    },
    {
      "cell_type": "code",
      "metadata": {
        "id": "2rLFFMUZMNb1",
        "colab_type": "code",
        "colab": {
          "base_uri": "https://localhost:8080/",
          "height": 370
        },
        "outputId": "925e7b3a-aa55-474a-d338-cae2b4a14a89"
      },
      "source": [
        "loans['emp_title'].value_counts(dropna=False).head(20)"
      ],
      "execution_count": 148,
      "outputs": [
        {
          "output_type": "execute_result",
          "data": {
            "text/plain": [
              "NaN                   20947\n",
              "Teacher                2090\n",
              "Manager                1773\n",
              "Registered Nurse        952\n",
              "Driver                  924\n",
              "RN                      726\n",
              "Supervisor              697\n",
              "Sales                   580\n",
              "Project Manager         526\n",
              "General Manager         523\n",
              "Office Manager          521\n",
              "Owner                   420\n",
              "Director                402\n",
              "Operations Manager      387\n",
              "Truck Driver            387\n",
              "Nurse                   326\n",
              "Engineer                325\n",
              "Sales Manager           304\n",
              "manager                 301\n",
              "Supervisor              270\n",
              "Name: emp_title, dtype: int64"
            ]
          },
          "metadata": {
            "tags": []
          },
          "execution_count": 148
        }
      ]
    },
    {
      "cell_type": "code",
      "metadata": {
        "id": "Azf5OYtJMNWq",
        "colab_type": "code",
        "colab": {
          "base_uri": "https://localhost:8080/",
          "height": 50
        },
        "outputId": "8b8c9adf-dbc6-456d-cdbe-feb5e07e11a5"
      },
      "source": [
        "print(loans.shape)\n",
        "len(loans['emp_title'].unique())"
      ],
      "execution_count": 149,
      "outputs": [
        {
          "output_type": "stream",
          "text": [
            "(128412, 145)\n"
          ],
          "name": "stdout"
        },
        {
          "output_type": "execute_result",
          "data": {
            "text/plain": [
              "43893"
            ]
          },
          "metadata": {
            "tags": []
          },
          "execution_count": 149
        }
      ]
    },
    {
      "cell_type": "code",
      "metadata": {
        "id": "m7Ehjj12MNSb",
        "colab_type": "code",
        "colab": {
          "base_uri": "https://localhost:8080/",
          "height": 34
        },
        "outputId": "7394fb5f-3231-4ea8-9663-261500e35eae"
      },
      "source": [
        "loans['emp_title'].nunique()"
      ],
      "execution_count": 150,
      "outputs": [
        {
          "output_type": "execute_result",
          "data": {
            "text/plain": [
              "43892"
            ]
          },
          "metadata": {
            "tags": []
          },
          "execution_count": 150
        }
      ]
    },
    {
      "cell_type": "code",
      "metadata": {
        "id": "YJNWPNtzMmgO",
        "colab_type": "code",
        "colab": {
          "base_uri": "https://localhost:8080/",
          "height": 34
        },
        "outputId": "6472df2a-00ff-4d10-d644-6f6462d77cb9"
      },
      "source": [
        "loans['emp_title'].isnull().sum()"
      ],
      "execution_count": 151,
      "outputs": [
        {
          "output_type": "execute_result",
          "data": {
            "text/plain": [
              "20947"
            ]
          },
          "metadata": {
            "tags": []
          },
          "execution_count": 151
        }
      ]
    },
    {
      "cell_type": "code",
      "metadata": {
        "id": "zkdBFizEMmce",
        "colab_type": "code",
        "colab": {}
      },
      "source": [
        "examples = ['owner', 'Supervisor', ' Project Manager', np.nan]"
      ],
      "execution_count": 0,
      "outputs": []
    },
    {
      "cell_type": "code",
      "metadata": {
        "id": "RKLvGJ1EMmXb",
        "colab_type": "code",
        "colab": {
          "base_uri": "https://localhost:8080/",
          "height": 34
        },
        "outputId": "d8f6ef9b-2fcb-4113-f220-4e32bbff30cc"
      },
      "source": [
        "type('Supervisor')\n",
        "isinstance('Supervisor', str)"
      ],
      "execution_count": 277,
      "outputs": [
        {
          "output_type": "execute_result",
          "data": {
            "text/plain": [
              "True"
            ]
          },
          "metadata": {
            "tags": []
          },
          "execution_count": 277
        }
      ]
    },
    {
      "cell_type": "code",
      "metadata": {
        "id": "LYotJNulMmTu",
        "colab_type": "code",
        "colab": {
          "base_uri": "https://localhost:8080/",
          "height": 34
        },
        "outputId": "5317b609-3d4a-4d5b-8375-01e97d8212e7"
      },
      "source": [
        "' supervisor'.title().strip()"
      ],
      "execution_count": 154,
      "outputs": [
        {
          "output_type": "execute_result",
          "data": {
            "text/plain": [
              "'Supervisor'"
            ]
          },
          "metadata": {
            "tags": []
          },
          "execution_count": 154
        }
      ]
    },
    {
      "cell_type": "code",
      "metadata": {
        "id": "YgJR4z6ZMmQB",
        "colab_type": "code",
        "colab": {}
      },
      "source": [
        "def clean_title(jobtitle):\n",
        "  if isinstance(jobtitle, str):\n",
        "    return (jobtitle.title().strip())\n",
        "  else:\n",
        "    return 'Unknown'"
      ],
      "execution_count": 0,
      "outputs": []
    },
    {
      "cell_type": "code",
      "metadata": {
        "id": "5_sZpf5XMmL6",
        "colab_type": "code",
        "colab": {
          "base_uri": "https://localhost:8080/",
          "height": 34
        },
        "outputId": "944be4cc-d501-4d6d-a7ae-e6ca4a005c26"
      },
      "source": [
        "clean_title(' superviSOR')\n",
        "clean_title(np.nan)"
      ],
      "execution_count": 156,
      "outputs": [
        {
          "output_type": "execute_result",
          "data": {
            "text/plain": [
              "'Unknown'"
            ]
          },
          "metadata": {
            "tags": []
          },
          "execution_count": 156
        }
      ]
    },
    {
      "cell_type": "code",
      "metadata": {
        "id": "yPD7Ak-BMmHn",
        "colab_type": "code",
        "colab": {
          "base_uri": "https://localhost:8080/",
          "height": 34
        },
        "outputId": "69e343f7-b9a6-4bfd-e469-69150cd8b27e"
      },
      "source": [
        "mylist = []\n",
        "for jobtitle in examples:\n",
        "  mylist.append(clean_title(jobtitle))\n",
        "mylist"
      ],
      "execution_count": 157,
      "outputs": [
        {
          "output_type": "execute_result",
          "data": {
            "text/plain": [
              "['Owner', 'Supervisor', 'Project Manager', 'Unknown']"
            ]
          },
          "metadata": {
            "tags": []
          },
          "execution_count": 157
        }
      ]
    },
    {
      "cell_type": "code",
      "metadata": {
        "id": "462G27m-MmBR",
        "colab_type": "code",
        "colab": {
          "base_uri": "https://localhost:8080/",
          "height": 34
        },
        "outputId": "10e912b3-305c-491a-9108-055aec47ac3b"
      },
      "source": [
        "[clean_title(jobtitle) for jobtitle in examples]"
      ],
      "execution_count": 158,
      "outputs": [
        {
          "output_type": "execute_result",
          "data": {
            "text/plain": [
              "['Owner', 'Supervisor', 'Project Manager', 'Unknown']"
            ]
          },
          "metadata": {
            "tags": []
          },
          "execution_count": 158
        }
      ]
    },
    {
      "cell_type": "code",
      "metadata": {
        "id": "zjy0-CRCMl7_",
        "colab_type": "code",
        "colab": {}
      },
      "source": [
        "loans['clean_title'] = loans['emp_title'].apply(clean_title)"
      ],
      "execution_count": 0,
      "outputs": []
    },
    {
      "cell_type": "code",
      "metadata": {
        "id": "harSFRvkMlyb",
        "colab_type": "code",
        "colab": {
          "base_uri": "https://localhost:8080/",
          "height": 639
        },
        "outputId": "2860697f-7034-4f9a-d0e8-b32deb756991"
      },
      "source": [
        "loans[['emp_title','clean_title']].sample(20)"
      ],
      "execution_count": 160,
      "outputs": [
        {
          "output_type": "execute_result",
          "data": {
            "text/html": [
              "<div>\n",
              "<style scoped>\n",
              "    .dataframe tbody tr th:only-of-type {\n",
              "        vertical-align: middle;\n",
              "    }\n",
              "\n",
              "    .dataframe tbody tr th {\n",
              "        vertical-align: top;\n",
              "    }\n",
              "\n",
              "    .dataframe thead th {\n",
              "        text-align: right;\n",
              "    }\n",
              "</style>\n",
              "<table border=\"1\" class=\"dataframe\">\n",
              "  <thead>\n",
              "    <tr style=\"text-align: right;\">\n",
              "      <th></th>\n",
              "      <th>emp_title</th>\n",
              "      <th>clean_title</th>\n",
              "    </tr>\n",
              "  </thead>\n",
              "  <tbody>\n",
              "    <tr>\n",
              "      <th>11585</th>\n",
              "      <td>Senior Project Manager</td>\n",
              "      <td>Senior Project Manager</td>\n",
              "    </tr>\n",
              "    <tr>\n",
              "      <th>106830</th>\n",
              "      <td>Retail Store Manager</td>\n",
              "      <td>Retail Store Manager</td>\n",
              "    </tr>\n",
              "    <tr>\n",
              "      <th>14255</th>\n",
              "      <td>Surgery scheduler</td>\n",
              "      <td>Surgery Scheduler</td>\n",
              "    </tr>\n",
              "    <tr>\n",
              "      <th>25731</th>\n",
              "      <td>Underwriting Manager</td>\n",
              "      <td>Underwriting Manager</td>\n",
              "    </tr>\n",
              "    <tr>\n",
              "      <th>95815</th>\n",
              "      <td>SALES BROKER</td>\n",
              "      <td>Sales Broker</td>\n",
              "    </tr>\n",
              "    <tr>\n",
              "      <th>98792</th>\n",
              "      <td>Chemical Coordinator</td>\n",
              "      <td>Chemical Coordinator</td>\n",
              "    </tr>\n",
              "    <tr>\n",
              "      <th>42509</th>\n",
              "      <td>Process Relief Man</td>\n",
              "      <td>Process Relief Man</td>\n",
              "    </tr>\n",
              "    <tr>\n",
              "      <th>64900</th>\n",
              "      <td>Certified registered nurse practitioner</td>\n",
              "      <td>Certified Registered Nurse Practitioner</td>\n",
              "    </tr>\n",
              "    <tr>\n",
              "      <th>122065</th>\n",
              "      <td>Supervisor</td>\n",
              "      <td>Supervisor</td>\n",
              "    </tr>\n",
              "    <tr>\n",
              "      <th>56402</th>\n",
              "      <td>Repair Estimator</td>\n",
              "      <td>Repair Estimator</td>\n",
              "    </tr>\n",
              "    <tr>\n",
              "      <th>49570</th>\n",
              "      <td>Parole Agent I</td>\n",
              "      <td>Parole Agent I</td>\n",
              "    </tr>\n",
              "    <tr>\n",
              "      <th>29957</th>\n",
              "      <td>NaN</td>\n",
              "      <td>Unknown</td>\n",
              "    </tr>\n",
              "    <tr>\n",
              "      <th>97564</th>\n",
              "      <td>school bus driver</td>\n",
              "      <td>School Bus Driver</td>\n",
              "    </tr>\n",
              "    <tr>\n",
              "      <th>1356</th>\n",
              "      <td>Business Analyst</td>\n",
              "      <td>Business Analyst</td>\n",
              "    </tr>\n",
              "    <tr>\n",
              "      <th>22246</th>\n",
              "      <td>Manager</td>\n",
              "      <td>Manager</td>\n",
              "    </tr>\n",
              "    <tr>\n",
              "      <th>72320</th>\n",
              "      <td>Security officer</td>\n",
              "      <td>Security Officer</td>\n",
              "    </tr>\n",
              "    <tr>\n",
              "      <th>121980</th>\n",
              "      <td>Bookkeeper</td>\n",
              "      <td>Bookkeeper</td>\n",
              "    </tr>\n",
              "    <tr>\n",
              "      <th>41209</th>\n",
              "      <td>Sales Associate/Instructor</td>\n",
              "      <td>Sales Associate/Instructor</td>\n",
              "    </tr>\n",
              "    <tr>\n",
              "      <th>117776</th>\n",
              "      <td>ROC specialist</td>\n",
              "      <td>Roc Specialist</td>\n",
              "    </tr>\n",
              "    <tr>\n",
              "      <th>109218</th>\n",
              "      <td>General Clerk 1</td>\n",
              "      <td>General Clerk 1</td>\n",
              "    </tr>\n",
              "  </tbody>\n",
              "</table>\n",
              "</div>"
            ],
            "text/plain": [
              "                                       emp_title                              clean_title\n",
              "11585                     Senior Project Manager                   Senior Project Manager\n",
              "106830                      Retail Store Manager                     Retail Store Manager\n",
              "14255                          Surgery scheduler                        Surgery Scheduler\n",
              "25731                       Underwriting Manager                     Underwriting Manager\n",
              "95815                               SALES BROKER                             Sales Broker\n",
              "98792                       Chemical Coordinator                     Chemical Coordinator\n",
              "42509                         Process Relief Man                       Process Relief Man\n",
              "64900    Certified registered nurse practitioner  Certified Registered Nurse Practitioner\n",
              "122065                                Supervisor                               Supervisor\n",
              "56402                           Repair Estimator                         Repair Estimator\n",
              "49570                             Parole Agent I                           Parole Agent I\n",
              "29957                                        NaN                                  Unknown\n",
              "97564                          school bus driver                        School Bus Driver\n",
              "1356                            Business Analyst                         Business Analyst\n",
              "22246                                    Manager                                  Manager\n",
              "72320                          Security officer                          Security Officer\n",
              "121980                                Bookkeeper                               Bookkeeper\n",
              "41209                 Sales Associate/Instructor               Sales Associate/Instructor\n",
              "117776                            ROC specialist                           Roc Specialist\n",
              "109218                           General Clerk 1                          General Clerk 1"
            ]
          },
          "metadata": {
            "tags": []
          },
          "execution_count": 160
        }
      ]
    },
    {
      "cell_type": "code",
      "metadata": {
        "id": "40KYxnq4Mlsu",
        "colab_type": "code",
        "colab": {
          "base_uri": "https://localhost:8080/",
          "height": 345
        },
        "outputId": "89bc81a2-8676-4fe3-a745-6f8607b0b7d8"
      },
      "source": [
        "loans.head()"
      ],
      "execution_count": 161,
      "outputs": [
        {
          "output_type": "execute_result",
          "data": {
            "text/html": [
              "<div>\n",
              "<style scoped>\n",
              "    .dataframe tbody tr th:only-of-type {\n",
              "        vertical-align: middle;\n",
              "    }\n",
              "\n",
              "    .dataframe tbody tr th {\n",
              "        vertical-align: top;\n",
              "    }\n",
              "\n",
              "    .dataframe thead th {\n",
              "        text-align: right;\n",
              "    }\n",
              "</style>\n",
              "<table border=\"1\" class=\"dataframe\">\n",
              "  <thead>\n",
              "    <tr style=\"text-align: right;\">\n",
              "      <th></th>\n",
              "      <th>id</th>\n",
              "      <th>member_id</th>\n",
              "      <th>loan_amnt</th>\n",
              "      <th>funded_amnt</th>\n",
              "      <th>funded_amnt_inv</th>\n",
              "      <th>term</th>\n",
              "      <th>int_rate</th>\n",
              "      <th>installment</th>\n",
              "      <th>grade</th>\n",
              "      <th>sub_grade</th>\n",
              "      <th>emp_title</th>\n",
              "      <th>emp_length</th>\n",
              "      <th>home_ownership</th>\n",
              "      <th>annual_inc</th>\n",
              "      <th>verification_status</th>\n",
              "      <th>issue_d</th>\n",
              "      <th>loan_status</th>\n",
              "      <th>pymnt_plan</th>\n",
              "      <th>desc</th>\n",
              "      <th>purpose</th>\n",
              "      <th>title</th>\n",
              "      <th>zip_code</th>\n",
              "      <th>addr_state</th>\n",
              "      <th>dti</th>\n",
              "      <th>delinq_2yrs</th>\n",
              "      <th>earliest_cr_line</th>\n",
              "      <th>inq_last_6mths</th>\n",
              "      <th>mths_since_last_delinq</th>\n",
              "      <th>mths_since_last_record</th>\n",
              "      <th>open_acc</th>\n",
              "      <th>pub_rec</th>\n",
              "      <th>revol_bal</th>\n",
              "      <th>revol_util</th>\n",
              "      <th>total_acc</th>\n",
              "      <th>initial_list_status</th>\n",
              "      <th>out_prncp</th>\n",
              "      <th>out_prncp_inv</th>\n",
              "      <th>total_pymnt</th>\n",
              "      <th>total_pymnt_inv</th>\n",
              "      <th>total_rec_prncp</th>\n",
              "      <th>...</th>\n",
              "      <th>tot_hi_cred_lim</th>\n",
              "      <th>total_bal_ex_mort</th>\n",
              "      <th>total_bc_limit</th>\n",
              "      <th>total_il_high_credit_limit</th>\n",
              "      <th>revol_bal_joint</th>\n",
              "      <th>sec_app_earliest_cr_line</th>\n",
              "      <th>sec_app_inq_last_6mths</th>\n",
              "      <th>sec_app_mort_acc</th>\n",
              "      <th>sec_app_open_acc</th>\n",
              "      <th>sec_app_revol_util</th>\n",
              "      <th>sec_app_open_act_il</th>\n",
              "      <th>sec_app_num_rev_accts</th>\n",
              "      <th>sec_app_chargeoff_within_12_mths</th>\n",
              "      <th>sec_app_collections_12_mths_ex_med</th>\n",
              "      <th>sec_app_mths_since_last_major_derog</th>\n",
              "      <th>hardship_flag</th>\n",
              "      <th>hardship_type</th>\n",
              "      <th>hardship_reason</th>\n",
              "      <th>hardship_status</th>\n",
              "      <th>deferral_term</th>\n",
              "      <th>hardship_amount</th>\n",
              "      <th>hardship_start_date</th>\n",
              "      <th>hardship_end_date</th>\n",
              "      <th>payment_plan_start_date</th>\n",
              "      <th>hardship_length</th>\n",
              "      <th>hardship_dpd</th>\n",
              "      <th>hardship_loan_status</th>\n",
              "      <th>orig_projected_additional_accrued_interest</th>\n",
              "      <th>hardship_payoff_balance_amount</th>\n",
              "      <th>hardship_last_payment_amount</th>\n",
              "      <th>debt_settlement_flag</th>\n",
              "      <th>debt_settlement_flag_date</th>\n",
              "      <th>settlement_status</th>\n",
              "      <th>settlement_date</th>\n",
              "      <th>settlement_amount</th>\n",
              "      <th>settlement_percentage</th>\n",
              "      <th>settlement_term</th>\n",
              "      <th>int_rate_clean</th>\n",
              "      <th>int_rate_clean2</th>\n",
              "      <th>clean_title</th>\n",
              "    </tr>\n",
              "  </thead>\n",
              "  <tbody>\n",
              "    <tr>\n",
              "      <th>0</th>\n",
              "      <td>NaN</td>\n",
              "      <td>NaN</td>\n",
              "      <td>10000</td>\n",
              "      <td>10000</td>\n",
              "      <td>10000.0</td>\n",
              "      <td>60 months</td>\n",
              "      <td>16.14%</td>\n",
              "      <td>243.93</td>\n",
              "      <td>C</td>\n",
              "      <td>C4</td>\n",
              "      <td>Sale Consultant</td>\n",
              "      <td>2 years</td>\n",
              "      <td>RENT</td>\n",
              "      <td>90000.0</td>\n",
              "      <td>Not Verified</td>\n",
              "      <td>Dec-2018</td>\n",
              "      <td>Fully Paid</td>\n",
              "      <td>n</td>\n",
              "      <td>NaN</td>\n",
              "      <td>debt_consolidation</td>\n",
              "      <td>Debt consolidation</td>\n",
              "      <td>079xx</td>\n",
              "      <td>NJ</td>\n",
              "      <td>8.80</td>\n",
              "      <td>0</td>\n",
              "      <td>Mar-1991</td>\n",
              "      <td>1</td>\n",
              "      <td>NaN</td>\n",
              "      <td>43.0</td>\n",
              "      <td>11</td>\n",
              "      <td>1</td>\n",
              "      <td>10582</td>\n",
              "      <td>58.5%</td>\n",
              "      <td>32</td>\n",
              "      <td>w</td>\n",
              "      <td>0.00</td>\n",
              "      <td>0.00</td>\n",
              "      <td>10661.057727</td>\n",
              "      <td>10661.06</td>\n",
              "      <td>10000.00</td>\n",
              "      <td>...</td>\n",
              "      <td>25600</td>\n",
              "      <td>15470</td>\n",
              "      <td>15000</td>\n",
              "      <td>7500</td>\n",
              "      <td>NaN</td>\n",
              "      <td>NaN</td>\n",
              "      <td>NaN</td>\n",
              "      <td>NaN</td>\n",
              "      <td>NaN</td>\n",
              "      <td>NaN</td>\n",
              "      <td>NaN</td>\n",
              "      <td>NaN</td>\n",
              "      <td>NaN</td>\n",
              "      <td>NaN</td>\n",
              "      <td>NaN</td>\n",
              "      <td>N</td>\n",
              "      <td>NaN</td>\n",
              "      <td>NaN</td>\n",
              "      <td>NaN</td>\n",
              "      <td>NaN</td>\n",
              "      <td>NaN</td>\n",
              "      <td>NaN</td>\n",
              "      <td>NaN</td>\n",
              "      <td>NaN</td>\n",
              "      <td>NaN</td>\n",
              "      <td>NaN</td>\n",
              "      <td>NaN</td>\n",
              "      <td>NaN</td>\n",
              "      <td>NaN</td>\n",
              "      <td>NaN</td>\n",
              "      <td>N</td>\n",
              "      <td>NaN</td>\n",
              "      <td>NaN</td>\n",
              "      <td>NaN</td>\n",
              "      <td>NaN</td>\n",
              "      <td>NaN</td>\n",
              "      <td>NaN</td>\n",
              "      <td>16.14</td>\n",
              "      <td>16.14</td>\n",
              "      <td>Sale Consultant</td>\n",
              "    </tr>\n",
              "    <tr>\n",
              "      <th>1</th>\n",
              "      <td>NaN</td>\n",
              "      <td>NaN</td>\n",
              "      <td>6500</td>\n",
              "      <td>6500</td>\n",
              "      <td>6500.0</td>\n",
              "      <td>36 months</td>\n",
              "      <td>11.80%</td>\n",
              "      <td>215.28</td>\n",
              "      <td>B</td>\n",
              "      <td>B4</td>\n",
              "      <td>Educator</td>\n",
              "      <td>2 years</td>\n",
              "      <td>RENT</td>\n",
              "      <td>46500.0</td>\n",
              "      <td>Source Verified</td>\n",
              "      <td>Dec-2018</td>\n",
              "      <td>Current</td>\n",
              "      <td>n</td>\n",
              "      <td>NaN</td>\n",
              "      <td>debt_consolidation</td>\n",
              "      <td>Debt consolidation</td>\n",
              "      <td>352xx</td>\n",
              "      <td>AL</td>\n",
              "      <td>21.01</td>\n",
              "      <td>0</td>\n",
              "      <td>Aug-2011</td>\n",
              "      <td>1</td>\n",
              "      <td>61.0</td>\n",
              "      <td>NaN</td>\n",
              "      <td>24</td>\n",
              "      <td>0</td>\n",
              "      <td>6741</td>\n",
              "      <td>41.6%</td>\n",
              "      <td>30</td>\n",
              "      <td>w</td>\n",
              "      <td>4066.26</td>\n",
              "      <td>4066.26</td>\n",
              "      <td>3222.810000</td>\n",
              "      <td>3222.81</td>\n",
              "      <td>2433.74</td>\n",
              "      <td>...</td>\n",
              "      <td>50845</td>\n",
              "      <td>40223</td>\n",
              "      <td>13300</td>\n",
              "      <td>34645</td>\n",
              "      <td>NaN</td>\n",
              "      <td>NaN</td>\n",
              "      <td>NaN</td>\n",
              "      <td>NaN</td>\n",
              "      <td>NaN</td>\n",
              "      <td>NaN</td>\n",
              "      <td>NaN</td>\n",
              "      <td>NaN</td>\n",
              "      <td>NaN</td>\n",
              "      <td>NaN</td>\n",
              "      <td>NaN</td>\n",
              "      <td>N</td>\n",
              "      <td>NaN</td>\n",
              "      <td>NaN</td>\n",
              "      <td>NaN</td>\n",
              "      <td>NaN</td>\n",
              "      <td>NaN</td>\n",
              "      <td>NaN</td>\n",
              "      <td>NaN</td>\n",
              "      <td>NaN</td>\n",
              "      <td>NaN</td>\n",
              "      <td>NaN</td>\n",
              "      <td>NaN</td>\n",
              "      <td>NaN</td>\n",
              "      <td>NaN</td>\n",
              "      <td>NaN</td>\n",
              "      <td>N</td>\n",
              "      <td>NaN</td>\n",
              "      <td>NaN</td>\n",
              "      <td>NaN</td>\n",
              "      <td>NaN</td>\n",
              "      <td>NaN</td>\n",
              "      <td>NaN</td>\n",
              "      <td>11.80</td>\n",
              "      <td>11.80</td>\n",
              "      <td>Educator</td>\n",
              "    </tr>\n",
              "    <tr>\n",
              "      <th>2</th>\n",
              "      <td>NaN</td>\n",
              "      <td>NaN</td>\n",
              "      <td>4500</td>\n",
              "      <td>4500</td>\n",
              "      <td>4500.0</td>\n",
              "      <td>36 months</td>\n",
              "      <td>11.31%</td>\n",
              "      <td>147.99</td>\n",
              "      <td>B</td>\n",
              "      <td>B3</td>\n",
              "      <td>Accounts Examiner III</td>\n",
              "      <td>10+ years</td>\n",
              "      <td>RENT</td>\n",
              "      <td>38500.0</td>\n",
              "      <td>Not Verified</td>\n",
              "      <td>Dec-2018</td>\n",
              "      <td>Fully Paid</td>\n",
              "      <td>n</td>\n",
              "      <td>NaN</td>\n",
              "      <td>credit_card</td>\n",
              "      <td>Credit card refinancing</td>\n",
              "      <td>786xx</td>\n",
              "      <td>TX</td>\n",
              "      <td>4.64</td>\n",
              "      <td>0</td>\n",
              "      <td>Dec-2003</td>\n",
              "      <td>0</td>\n",
              "      <td>25.0</td>\n",
              "      <td>NaN</td>\n",
              "      <td>12</td>\n",
              "      <td>0</td>\n",
              "      <td>4472</td>\n",
              "      <td>15.3%</td>\n",
              "      <td>25</td>\n",
              "      <td>w</td>\n",
              "      <td>0.00</td>\n",
              "      <td>0.00</td>\n",
              "      <td>4549.217149</td>\n",
              "      <td>4549.22</td>\n",
              "      <td>4500.00</td>\n",
              "      <td>...</td>\n",
              "      <td>53795</td>\n",
              "      <td>29137</td>\n",
              "      <td>15100</td>\n",
              "      <td>24595</td>\n",
              "      <td>NaN</td>\n",
              "      <td>NaN</td>\n",
              "      <td>NaN</td>\n",
              "      <td>NaN</td>\n",
              "      <td>NaN</td>\n",
              "      <td>NaN</td>\n",
              "      <td>NaN</td>\n",
              "      <td>NaN</td>\n",
              "      <td>NaN</td>\n",
              "      <td>NaN</td>\n",
              "      <td>NaN</td>\n",
              "      <td>N</td>\n",
              "      <td>NaN</td>\n",
              "      <td>NaN</td>\n",
              "      <td>NaN</td>\n",
              "      <td>NaN</td>\n",
              "      <td>NaN</td>\n",
              "      <td>NaN</td>\n",
              "      <td>NaN</td>\n",
              "      <td>NaN</td>\n",
              "      <td>NaN</td>\n",
              "      <td>NaN</td>\n",
              "      <td>NaN</td>\n",
              "      <td>NaN</td>\n",
              "      <td>NaN</td>\n",
              "      <td>NaN</td>\n",
              "      <td>N</td>\n",
              "      <td>NaN</td>\n",
              "      <td>NaN</td>\n",
              "      <td>NaN</td>\n",
              "      <td>NaN</td>\n",
              "      <td>NaN</td>\n",
              "      <td>NaN</td>\n",
              "      <td>11.31</td>\n",
              "      <td>11.31</td>\n",
              "      <td>Accounts Examiner Iii</td>\n",
              "    </tr>\n",
              "    <tr>\n",
              "      <th>3</th>\n",
              "      <td>NaN</td>\n",
              "      <td>NaN</td>\n",
              "      <td>25000</td>\n",
              "      <td>25000</td>\n",
              "      <td>25000.0</td>\n",
              "      <td>60 months</td>\n",
              "      <td>14.47%</td>\n",
              "      <td>587.82</td>\n",
              "      <td>C</td>\n",
              "      <td>C2</td>\n",
              "      <td>teacher</td>\n",
              "      <td>10+ years</td>\n",
              "      <td>OWN</td>\n",
              "      <td>110000.0</td>\n",
              "      <td>Not Verified</td>\n",
              "      <td>Dec-2018</td>\n",
              "      <td>Charged Off</td>\n",
              "      <td>n</td>\n",
              "      <td>NaN</td>\n",
              "      <td>credit_card</td>\n",
              "      <td>Credit card refinancing</td>\n",
              "      <td>117xx</td>\n",
              "      <td>NY</td>\n",
              "      <td>26.43</td>\n",
              "      <td>1</td>\n",
              "      <td>Jan-1997</td>\n",
              "      <td>0</td>\n",
              "      <td>7.0</td>\n",
              "      <td>NaN</td>\n",
              "      <td>23</td>\n",
              "      <td>0</td>\n",
              "      <td>39053</td>\n",
              "      <td>45.7%</td>\n",
              "      <td>49</td>\n",
              "      <td>w</td>\n",
              "      <td>0.00</td>\n",
              "      <td>0.00</td>\n",
              "      <td>5848.050000</td>\n",
              "      <td>5848.05</td>\n",
              "      <td>3024.11</td>\n",
              "      <td>...</td>\n",
              "      <td>179321</td>\n",
              "      <td>95648</td>\n",
              "      <td>62800</td>\n",
              "      <td>91424</td>\n",
              "      <td>NaN</td>\n",
              "      <td>NaN</td>\n",
              "      <td>NaN</td>\n",
              "      <td>NaN</td>\n",
              "      <td>NaN</td>\n",
              "      <td>NaN</td>\n",
              "      <td>NaN</td>\n",
              "      <td>NaN</td>\n",
              "      <td>NaN</td>\n",
              "      <td>NaN</td>\n",
              "      <td>NaN</td>\n",
              "      <td>N</td>\n",
              "      <td>NaN</td>\n",
              "      <td>NaN</td>\n",
              "      <td>NaN</td>\n",
              "      <td>NaN</td>\n",
              "      <td>NaN</td>\n",
              "      <td>NaN</td>\n",
              "      <td>NaN</td>\n",
              "      <td>NaN</td>\n",
              "      <td>NaN</td>\n",
              "      <td>NaN</td>\n",
              "      <td>NaN</td>\n",
              "      <td>NaN</td>\n",
              "      <td>NaN</td>\n",
              "      <td>NaN</td>\n",
              "      <td>N</td>\n",
              "      <td>NaN</td>\n",
              "      <td>NaN</td>\n",
              "      <td>NaN</td>\n",
              "      <td>NaN</td>\n",
              "      <td>NaN</td>\n",
              "      <td>NaN</td>\n",
              "      <td>14.47</td>\n",
              "      <td>14.47</td>\n",
              "      <td>Teacher</td>\n",
              "    </tr>\n",
              "    <tr>\n",
              "      <th>4</th>\n",
              "      <td>NaN</td>\n",
              "      <td>NaN</td>\n",
              "      <td>30000</td>\n",
              "      <td>30000</td>\n",
              "      <td>30000.0</td>\n",
              "      <td>60 months</td>\n",
              "      <td>27.27%</td>\n",
              "      <td>920.91</td>\n",
              "      <td>E</td>\n",
              "      <td>E5</td>\n",
              "      <td>Claims Analyst</td>\n",
              "      <td>1 year</td>\n",
              "      <td>RENT</td>\n",
              "      <td>50000.0</td>\n",
              "      <td>Not Verified</td>\n",
              "      <td>Dec-2018</td>\n",
              "      <td>Current</td>\n",
              "      <td>n</td>\n",
              "      <td>NaN</td>\n",
              "      <td>debt_consolidation</td>\n",
              "      <td>Debt consolidation</td>\n",
              "      <td>857xx</td>\n",
              "      <td>AZ</td>\n",
              "      <td>23.62</td>\n",
              "      <td>0</td>\n",
              "      <td>Dec-1997</td>\n",
              "      <td>1</td>\n",
              "      <td>NaN</td>\n",
              "      <td>NaN</td>\n",
              "      <td>10</td>\n",
              "      <td>0</td>\n",
              "      <td>1258</td>\n",
              "      <td>10.7%</td>\n",
              "      <td>16</td>\n",
              "      <td>w</td>\n",
              "      <td>25780.25</td>\n",
              "      <td>25780.25</td>\n",
              "      <td>13745.470000</td>\n",
              "      <td>13745.47</td>\n",
              "      <td>4219.75</td>\n",
              "      <td>...</td>\n",
              "      <td>46300</td>\n",
              "      <td>27364</td>\n",
              "      <td>10100</td>\n",
              "      <td>34500</td>\n",
              "      <td>NaN</td>\n",
              "      <td>NaN</td>\n",
              "      <td>NaN</td>\n",
              "      <td>NaN</td>\n",
              "      <td>NaN</td>\n",
              "      <td>NaN</td>\n",
              "      <td>NaN</td>\n",
              "      <td>NaN</td>\n",
              "      <td>NaN</td>\n",
              "      <td>NaN</td>\n",
              "      <td>NaN</td>\n",
              "      <td>N</td>\n",
              "      <td>NaN</td>\n",
              "      <td>NaN</td>\n",
              "      <td>NaN</td>\n",
              "      <td>NaN</td>\n",
              "      <td>NaN</td>\n",
              "      <td>NaN</td>\n",
              "      <td>NaN</td>\n",
              "      <td>NaN</td>\n",
              "      <td>NaN</td>\n",
              "      <td>NaN</td>\n",
              "      <td>NaN</td>\n",
              "      <td>NaN</td>\n",
              "      <td>NaN</td>\n",
              "      <td>NaN</td>\n",
              "      <td>N</td>\n",
              "      <td>NaN</td>\n",
              "      <td>NaN</td>\n",
              "      <td>NaN</td>\n",
              "      <td>NaN</td>\n",
              "      <td>NaN</td>\n",
              "      <td>NaN</td>\n",
              "      <td>27.27</td>\n",
              "      <td>27.27</td>\n",
              "      <td>Claims Analyst</td>\n",
              "    </tr>\n",
              "  </tbody>\n",
              "</table>\n",
              "<p>5 rows × 146 columns</p>\n",
              "</div>"
            ],
            "text/plain": [
              "   id  member_id  ...  int_rate_clean2            clean_title\n",
              "0 NaN        NaN  ...            16.14        Sale Consultant\n",
              "1 NaN        NaN  ...            11.80               Educator\n",
              "2 NaN        NaN  ...            11.31  Accounts Examiner Iii\n",
              "3 NaN        NaN  ...            14.47                Teacher\n",
              "4 NaN        NaN  ...            27.27         Claims Analyst\n",
              "\n",
              "[5 rows x 146 columns]"
            ]
          },
          "metadata": {
            "tags": []
          },
          "execution_count": 161
        }
      ]
    },
    {
      "cell_type": "code",
      "metadata": {
        "id": "A0rooGK3M68o",
        "colab_type": "code",
        "colab": {
          "base_uri": "https://localhost:8080/",
          "height": 151
        },
        "outputId": "77688582-8933-413d-9e79-58e5b2736f7e"
      },
      "source": [
        "loans.columns"
      ],
      "execution_count": 162,
      "outputs": [
        {
          "output_type": "execute_result",
          "data": {
            "text/plain": [
              "Index(['id', 'member_id', 'loan_amnt', 'funded_amnt', 'funded_amnt_inv',\n",
              "       'term', 'int_rate', 'installment', 'grade', 'sub_grade',\n",
              "       ...\n",
              "       'debt_settlement_flag', 'debt_settlement_flag_date',\n",
              "       'settlement_status', 'settlement_date', 'settlement_amount',\n",
              "       'settlement_percentage', 'settlement_term', 'int_rate_clean',\n",
              "       'int_rate_clean2', 'clean_title'],\n",
              "      dtype='object', length=146)"
            ]
          },
          "metadata": {
            "tags": []
          },
          "execution_count": 162
        }
      ]
    },
    {
      "cell_type": "code",
      "metadata": {
        "id": "nHRiPXC2M64M",
        "colab_type": "code",
        "colab": {
          "base_uri": "https://localhost:8080/",
          "height": 118
        },
        "outputId": "65c92b0a-6733-4a69-db35-5c04fa79ea8a"
      },
      "source": [
        "loans['issue_d'].head()"
      ],
      "execution_count": 163,
      "outputs": [
        {
          "output_type": "execute_result",
          "data": {
            "text/plain": [
              "0    Dec-2018\n",
              "1    Dec-2018\n",
              "2    Dec-2018\n",
              "3    Dec-2018\n",
              "4    Dec-2018\n",
              "Name: issue_d, dtype: object"
            ]
          },
          "metadata": {
            "tags": []
          },
          "execution_count": 163
        }
      ]
    },
    {
      "cell_type": "code",
      "metadata": {
        "id": "QqBTThCeM6y9",
        "colab_type": "code",
        "colab": {
          "base_uri": "https://localhost:8080/",
          "height": 34
        },
        "outputId": "f6f4ae1e-0cee-44d0-a585-61ccd07fd5de"
      },
      "source": [
        "mylst = []\n",
        "for col in loans.columns:\n",
        "  if col.endswith('_d'):\n",
        "    mylst.append(col)\n",
        "mylst"
      ],
      "execution_count": 164,
      "outputs": [
        {
          "output_type": "execute_result",
          "data": {
            "text/plain": [
              "['issue_d', 'last_pymnt_d', 'next_pymnt_d', 'last_credit_pull_d']"
            ]
          },
          "metadata": {
            "tags": []
          },
          "execution_count": 164
        }
      ]
    },
    {
      "cell_type": "code",
      "metadata": {
        "id": "kHgueXxAM6tz",
        "colab_type": "code",
        "colab": {
          "base_uri": "https://localhost:8080/",
          "height": 34
        },
        "outputId": "1dbd3fe6-9a97-42f5-890d-e24505b1a6d1"
      },
      "source": [
        "my_date_cols = [col for col in loans.columns if col.endswith('_d')]\n",
        "my_date_cols"
      ],
      "execution_count": 165,
      "outputs": [
        {
          "output_type": "execute_result",
          "data": {
            "text/plain": [
              "['issue_d', 'last_pymnt_d', 'next_pymnt_d', 'last_credit_pull_d']"
            ]
          },
          "metadata": {
            "tags": []
          },
          "execution_count": 165
        }
      ]
    },
    {
      "cell_type": "code",
      "metadata": {
        "id": "ijzn0DL8M6o-",
        "colab_type": "code",
        "colab": {
          "base_uri": "https://localhost:8080/",
          "height": 34
        },
        "outputId": "ef0f85e4-b68d-4c48-f202-80ad377504b8"
      },
      "source": [
        "type(loans['issue_d'][0])"
      ],
      "execution_count": 166,
      "outputs": [
        {
          "output_type": "execute_result",
          "data": {
            "text/plain": [
              "str"
            ]
          },
          "metadata": {
            "tags": []
          },
          "execution_count": 166
        }
      ]
    },
    {
      "cell_type": "code",
      "metadata": {
        "id": "YRIWDw1BM6kY",
        "colab_type": "code",
        "colab": {}
      },
      "source": [
        "loans['new_issue_d'] = pd.to_datetime(loans['issue_d'], infer_datetime_format=True)"
      ],
      "execution_count": 0,
      "outputs": []
    },
    {
      "cell_type": "code",
      "metadata": {
        "id": "_ZoTa20RM6gY",
        "colab_type": "code",
        "colab": {
          "base_uri": "https://localhost:8080/",
          "height": 195
        },
        "outputId": "6e2f48e1-a9ae-4b0d-a17f-4720d870e123"
      },
      "source": [
        "loans[['issue_d', 'new_issue_d']].head()"
      ],
      "execution_count": 168,
      "outputs": [
        {
          "output_type": "execute_result",
          "data": {
            "text/html": [
              "<div>\n",
              "<style scoped>\n",
              "    .dataframe tbody tr th:only-of-type {\n",
              "        vertical-align: middle;\n",
              "    }\n",
              "\n",
              "    .dataframe tbody tr th {\n",
              "        vertical-align: top;\n",
              "    }\n",
              "\n",
              "    .dataframe thead th {\n",
              "        text-align: right;\n",
              "    }\n",
              "</style>\n",
              "<table border=\"1\" class=\"dataframe\">\n",
              "  <thead>\n",
              "    <tr style=\"text-align: right;\">\n",
              "      <th></th>\n",
              "      <th>issue_d</th>\n",
              "      <th>new_issue_d</th>\n",
              "    </tr>\n",
              "  </thead>\n",
              "  <tbody>\n",
              "    <tr>\n",
              "      <th>0</th>\n",
              "      <td>Dec-2018</td>\n",
              "      <td>2018-12-01</td>\n",
              "    </tr>\n",
              "    <tr>\n",
              "      <th>1</th>\n",
              "      <td>Dec-2018</td>\n",
              "      <td>2018-12-01</td>\n",
              "    </tr>\n",
              "    <tr>\n",
              "      <th>2</th>\n",
              "      <td>Dec-2018</td>\n",
              "      <td>2018-12-01</td>\n",
              "    </tr>\n",
              "    <tr>\n",
              "      <th>3</th>\n",
              "      <td>Dec-2018</td>\n",
              "      <td>2018-12-01</td>\n",
              "    </tr>\n",
              "    <tr>\n",
              "      <th>4</th>\n",
              "      <td>Dec-2018</td>\n",
              "      <td>2018-12-01</td>\n",
              "    </tr>\n",
              "  </tbody>\n",
              "</table>\n",
              "</div>"
            ],
            "text/plain": [
              "    issue_d new_issue_d\n",
              "0  Dec-2018  2018-12-01\n",
              "1  Dec-2018  2018-12-01\n",
              "2  Dec-2018  2018-12-01\n",
              "3  Dec-2018  2018-12-01\n",
              "4  Dec-2018  2018-12-01"
            ]
          },
          "metadata": {
            "tags": []
          },
          "execution_count": 168
        }
      ]
    },
    {
      "cell_type": "code",
      "metadata": {
        "id": "7Q76G2NrM6cY",
        "colab_type": "code",
        "colab": {
          "base_uri": "https://localhost:8080/",
          "height": 34
        },
        "outputId": "37d8f1a8-c6ff-4085-c7b7-9a859d5f954a"
      },
      "source": [
        "type(loans['new_issue_d'][3])"
      ],
      "execution_count": 169,
      "outputs": [
        {
          "output_type": "execute_result",
          "data": {
            "text/plain": [
              "pandas._libs.tslibs.timestamps.Timestamp"
            ]
          },
          "metadata": {
            "tags": []
          },
          "execution_count": 169
        }
      ]
    },
    {
      "cell_type": "code",
      "metadata": {
        "id": "C6o5KyWxM6YU",
        "colab_type": "code",
        "colab": {
          "base_uri": "https://localhost:8080/",
          "height": 50
        },
        "outputId": "a9977c7f-9b92-414a-d583-3d1301134ef4"
      },
      "source": [
        "print(loans['new_issue_d'].dtype)\n",
        "loans['new_issue_d'].dtype"
      ],
      "execution_count": 170,
      "outputs": [
        {
          "output_type": "stream",
          "text": [
            "datetime64[ns]\n"
          ],
          "name": "stdout"
        },
        {
          "output_type": "execute_result",
          "data": {
            "text/plain": [
              "dtype('<M8[ns]')"
            ]
          },
          "metadata": {
            "tags": []
          },
          "execution_count": 170
        }
      ]
    },
    {
      "cell_type": "code",
      "metadata": {
        "id": "ag6AC6c4M6UW",
        "colab_type": "code",
        "colab": {
          "base_uri": "https://localhost:8080/",
          "height": 34
        },
        "outputId": "5a5b1628-4e7c-47a6-b146-1403fcf61336"
      },
      "source": [
        "loans['new_issue_d'].head(1).values"
      ],
      "execution_count": 171,
      "outputs": [
        {
          "output_type": "execute_result",
          "data": {
            "text/plain": [
              "array(['2018-12-01T00:00:00.000000000'], dtype='datetime64[ns]')"
            ]
          },
          "metadata": {
            "tags": []
          },
          "execution_count": 171
        }
      ]
    },
    {
      "cell_type": "code",
      "metadata": {
        "id": "OEzdvA1EM6NK",
        "colab_type": "code",
        "colab": {
          "base_uri": "https://localhost:8080/",
          "height": 195
        },
        "outputId": "2807043d-f6b5-4861-e720-defac8d54592"
      },
      "source": [
        "loans['year'] = loans['new_issue_d'].dt.year\n",
        "loans[['issue_d', 'new_issue_d', 'year']].head()"
      ],
      "execution_count": 172,
      "outputs": [
        {
          "output_type": "execute_result",
          "data": {
            "text/html": [
              "<div>\n",
              "<style scoped>\n",
              "    .dataframe tbody tr th:only-of-type {\n",
              "        vertical-align: middle;\n",
              "    }\n",
              "\n",
              "    .dataframe tbody tr th {\n",
              "        vertical-align: top;\n",
              "    }\n",
              "\n",
              "    .dataframe thead th {\n",
              "        text-align: right;\n",
              "    }\n",
              "</style>\n",
              "<table border=\"1\" class=\"dataframe\">\n",
              "  <thead>\n",
              "    <tr style=\"text-align: right;\">\n",
              "      <th></th>\n",
              "      <th>issue_d</th>\n",
              "      <th>new_issue_d</th>\n",
              "      <th>year</th>\n",
              "    </tr>\n",
              "  </thead>\n",
              "  <tbody>\n",
              "    <tr>\n",
              "      <th>0</th>\n",
              "      <td>Dec-2018</td>\n",
              "      <td>2018-12-01</td>\n",
              "      <td>2018</td>\n",
              "    </tr>\n",
              "    <tr>\n",
              "      <th>1</th>\n",
              "      <td>Dec-2018</td>\n",
              "      <td>2018-12-01</td>\n",
              "      <td>2018</td>\n",
              "    </tr>\n",
              "    <tr>\n",
              "      <th>2</th>\n",
              "      <td>Dec-2018</td>\n",
              "      <td>2018-12-01</td>\n",
              "      <td>2018</td>\n",
              "    </tr>\n",
              "    <tr>\n",
              "      <th>3</th>\n",
              "      <td>Dec-2018</td>\n",
              "      <td>2018-12-01</td>\n",
              "      <td>2018</td>\n",
              "    </tr>\n",
              "    <tr>\n",
              "      <th>4</th>\n",
              "      <td>Dec-2018</td>\n",
              "      <td>2018-12-01</td>\n",
              "      <td>2018</td>\n",
              "    </tr>\n",
              "  </tbody>\n",
              "</table>\n",
              "</div>"
            ],
            "text/plain": [
              "    issue_d new_issue_d  year\n",
              "0  Dec-2018  2018-12-01  2018\n",
              "1  Dec-2018  2018-12-01  2018\n",
              "2  Dec-2018  2018-12-01  2018\n",
              "3  Dec-2018  2018-12-01  2018\n",
              "4  Dec-2018  2018-12-01  2018"
            ]
          },
          "metadata": {
            "tags": []
          },
          "execution_count": 172
        }
      ]
    },
    {
      "cell_type": "code",
      "metadata": {
        "id": "EK46e6ysMlnA",
        "colab_type": "code",
        "colab": {
          "base_uri": "https://localhost:8080/",
          "height": 195
        },
        "outputId": "893d3e96-2544-4a75-801c-acd6cdfaeb00"
      },
      "source": [
        "loans['month'] = loans['new_issue_d'].dt.month\n",
        "loans[['issue_d', 'new_issue_d', 'year', 'month']].head()"
      ],
      "execution_count": 173,
      "outputs": [
        {
          "output_type": "execute_result",
          "data": {
            "text/html": [
              "<div>\n",
              "<style scoped>\n",
              "    .dataframe tbody tr th:only-of-type {\n",
              "        vertical-align: middle;\n",
              "    }\n",
              "\n",
              "    .dataframe tbody tr th {\n",
              "        vertical-align: top;\n",
              "    }\n",
              "\n",
              "    .dataframe thead th {\n",
              "        text-align: right;\n",
              "    }\n",
              "</style>\n",
              "<table border=\"1\" class=\"dataframe\">\n",
              "  <thead>\n",
              "    <tr style=\"text-align: right;\">\n",
              "      <th></th>\n",
              "      <th>issue_d</th>\n",
              "      <th>new_issue_d</th>\n",
              "      <th>year</th>\n",
              "      <th>month</th>\n",
              "    </tr>\n",
              "  </thead>\n",
              "  <tbody>\n",
              "    <tr>\n",
              "      <th>0</th>\n",
              "      <td>Dec-2018</td>\n",
              "      <td>2018-12-01</td>\n",
              "      <td>2018</td>\n",
              "      <td>12</td>\n",
              "    </tr>\n",
              "    <tr>\n",
              "      <th>1</th>\n",
              "      <td>Dec-2018</td>\n",
              "      <td>2018-12-01</td>\n",
              "      <td>2018</td>\n",
              "      <td>12</td>\n",
              "    </tr>\n",
              "    <tr>\n",
              "      <th>2</th>\n",
              "      <td>Dec-2018</td>\n",
              "      <td>2018-12-01</td>\n",
              "      <td>2018</td>\n",
              "      <td>12</td>\n",
              "    </tr>\n",
              "    <tr>\n",
              "      <th>3</th>\n",
              "      <td>Dec-2018</td>\n",
              "      <td>2018-12-01</td>\n",
              "      <td>2018</td>\n",
              "      <td>12</td>\n",
              "    </tr>\n",
              "    <tr>\n",
              "      <th>4</th>\n",
              "      <td>Dec-2018</td>\n",
              "      <td>2018-12-01</td>\n",
              "      <td>2018</td>\n",
              "      <td>12</td>\n",
              "    </tr>\n",
              "  </tbody>\n",
              "</table>\n",
              "</div>"
            ],
            "text/plain": [
              "    issue_d new_issue_d  year  month\n",
              "0  Dec-2018  2018-12-01  2018     12\n",
              "1  Dec-2018  2018-12-01  2018     12\n",
              "2  Dec-2018  2018-12-01  2018     12\n",
              "3  Dec-2018  2018-12-01  2018     12\n",
              "4  Dec-2018  2018-12-01  2018     12"
            ]
          },
          "metadata": {
            "tags": []
          },
          "execution_count": 173
        }
      ]
    },
    {
      "cell_type": "code",
      "metadata": {
        "id": "K5XIh2U8Mlbc",
        "colab_type": "code",
        "colab": {
          "base_uri": "https://localhost:8080/",
          "height": 343
        },
        "outputId": "6768104c-1582-4b9f-e902-19de8453570c"
      },
      "source": [
        "loans['weekday'] = loans['new_issue_d'].dt.weekday\n",
        "loans[['issue_d', 'new_issue_d', 'year', 'month', 'weekday']].sample(10)"
      ],
      "execution_count": 174,
      "outputs": [
        {
          "output_type": "execute_result",
          "data": {
            "text/html": [
              "<div>\n",
              "<style scoped>\n",
              "    .dataframe tbody tr th:only-of-type {\n",
              "        vertical-align: middle;\n",
              "    }\n",
              "\n",
              "    .dataframe tbody tr th {\n",
              "        vertical-align: top;\n",
              "    }\n",
              "\n",
              "    .dataframe thead th {\n",
              "        text-align: right;\n",
              "    }\n",
              "</style>\n",
              "<table border=\"1\" class=\"dataframe\">\n",
              "  <thead>\n",
              "    <tr style=\"text-align: right;\">\n",
              "      <th></th>\n",
              "      <th>issue_d</th>\n",
              "      <th>new_issue_d</th>\n",
              "      <th>year</th>\n",
              "      <th>month</th>\n",
              "      <th>weekday</th>\n",
              "    </tr>\n",
              "  </thead>\n",
              "  <tbody>\n",
              "    <tr>\n",
              "      <th>72875</th>\n",
              "      <td>Nov-2018</td>\n",
              "      <td>2018-11-01</td>\n",
              "      <td>2018</td>\n",
              "      <td>11</td>\n",
              "      <td>3</td>\n",
              "    </tr>\n",
              "    <tr>\n",
              "      <th>76755</th>\n",
              "      <td>Nov-2018</td>\n",
              "      <td>2018-11-01</td>\n",
              "      <td>2018</td>\n",
              "      <td>11</td>\n",
              "      <td>3</td>\n",
              "    </tr>\n",
              "    <tr>\n",
              "      <th>42235</th>\n",
              "      <td>Nov-2018</td>\n",
              "      <td>2018-11-01</td>\n",
              "      <td>2018</td>\n",
              "      <td>11</td>\n",
              "      <td>3</td>\n",
              "    </tr>\n",
              "    <tr>\n",
              "      <th>73720</th>\n",
              "      <td>Nov-2018</td>\n",
              "      <td>2018-11-01</td>\n",
              "      <td>2018</td>\n",
              "      <td>11</td>\n",
              "      <td>3</td>\n",
              "    </tr>\n",
              "    <tr>\n",
              "      <th>82983</th>\n",
              "      <td>Oct-2018</td>\n",
              "      <td>2018-10-01</td>\n",
              "      <td>2018</td>\n",
              "      <td>10</td>\n",
              "      <td>0</td>\n",
              "    </tr>\n",
              "    <tr>\n",
              "      <th>90697</th>\n",
              "      <td>Oct-2018</td>\n",
              "      <td>2018-10-01</td>\n",
              "      <td>2018</td>\n",
              "      <td>10</td>\n",
              "      <td>0</td>\n",
              "    </tr>\n",
              "    <tr>\n",
              "      <th>64864</th>\n",
              "      <td>Nov-2018</td>\n",
              "      <td>2018-11-01</td>\n",
              "      <td>2018</td>\n",
              "      <td>11</td>\n",
              "      <td>3</td>\n",
              "    </tr>\n",
              "    <tr>\n",
              "      <th>118715</th>\n",
              "      <td>Oct-2018</td>\n",
              "      <td>2018-10-01</td>\n",
              "      <td>2018</td>\n",
              "      <td>10</td>\n",
              "      <td>0</td>\n",
              "    </tr>\n",
              "    <tr>\n",
              "      <th>104469</th>\n",
              "      <td>Oct-2018</td>\n",
              "      <td>2018-10-01</td>\n",
              "      <td>2018</td>\n",
              "      <td>10</td>\n",
              "      <td>0</td>\n",
              "    </tr>\n",
              "    <tr>\n",
              "      <th>34715</th>\n",
              "      <td>Dec-2018</td>\n",
              "      <td>2018-12-01</td>\n",
              "      <td>2018</td>\n",
              "      <td>12</td>\n",
              "      <td>5</td>\n",
              "    </tr>\n",
              "  </tbody>\n",
              "</table>\n",
              "</div>"
            ],
            "text/plain": [
              "         issue_d new_issue_d  year  month  weekday\n",
              "72875   Nov-2018  2018-11-01  2018     11        3\n",
              "76755   Nov-2018  2018-11-01  2018     11        3\n",
              "42235   Nov-2018  2018-11-01  2018     11        3\n",
              "73720   Nov-2018  2018-11-01  2018     11        3\n",
              "82983   Oct-2018  2018-10-01  2018     10        0\n",
              "90697   Oct-2018  2018-10-01  2018     10        0\n",
              "64864   Nov-2018  2018-11-01  2018     11        3\n",
              "118715  Oct-2018  2018-10-01  2018     10        0\n",
              "104469  Oct-2018  2018-10-01  2018     10        0\n",
              "34715   Dec-2018  2018-12-01  2018     12        5"
            ]
          },
          "metadata": {
            "tags": []
          },
          "execution_count": 174
        }
      ]
    },
    {
      "cell_type": "code",
      "metadata": {
        "id": "mjW-l8-qNYAS",
        "colab_type": "code",
        "colab": {
          "base_uri": "https://localhost:8080/",
          "height": 195
        },
        "outputId": "d80a9301-68db-4857-c6c7-f0016ae82285"
      },
      "source": [
        "loans['new_pull'] = pd.to_datetime(loans['last_credit_pull_d'])\n",
        "loans['month_pull'] = loans['new_pull'].dt.month\n",
        "loans[['last_credit_pull_d', 'new_pull', 'month_pull']].head()"
      ],
      "execution_count": 175,
      "outputs": [
        {
          "output_type": "execute_result",
          "data": {
            "text/html": [
              "<div>\n",
              "<style scoped>\n",
              "    .dataframe tbody tr th:only-of-type {\n",
              "        vertical-align: middle;\n",
              "    }\n",
              "\n",
              "    .dataframe tbody tr th {\n",
              "        vertical-align: top;\n",
              "    }\n",
              "\n",
              "    .dataframe thead th {\n",
              "        text-align: right;\n",
              "    }\n",
              "</style>\n",
              "<table border=\"1\" class=\"dataframe\">\n",
              "  <thead>\n",
              "    <tr style=\"text-align: right;\">\n",
              "      <th></th>\n",
              "      <th>last_credit_pull_d</th>\n",
              "      <th>new_pull</th>\n",
              "      <th>month_pull</th>\n",
              "    </tr>\n",
              "  </thead>\n",
              "  <tbody>\n",
              "    <tr>\n",
              "      <th>0</th>\n",
              "      <td>Dec-2019</td>\n",
              "      <td>2019-12-01</td>\n",
              "      <td>12.0</td>\n",
              "    </tr>\n",
              "    <tr>\n",
              "      <th>1</th>\n",
              "      <td>Apr-2020</td>\n",
              "      <td>2020-04-01</td>\n",
              "      <td>4.0</td>\n",
              "    </tr>\n",
              "    <tr>\n",
              "      <th>2</th>\n",
              "      <td>Feb-2020</td>\n",
              "      <td>2020-02-01</td>\n",
              "      <td>2.0</td>\n",
              "    </tr>\n",
              "    <tr>\n",
              "      <th>3</th>\n",
              "      <td>Apr-2020</td>\n",
              "      <td>2020-04-01</td>\n",
              "      <td>4.0</td>\n",
              "    </tr>\n",
              "    <tr>\n",
              "      <th>4</th>\n",
              "      <td>Apr-2020</td>\n",
              "      <td>2020-04-01</td>\n",
              "      <td>4.0</td>\n",
              "    </tr>\n",
              "  </tbody>\n",
              "</table>\n",
              "</div>"
            ],
            "text/plain": [
              "  last_credit_pull_d   new_pull  month_pull\n",
              "0           Dec-2019 2019-12-01        12.0\n",
              "1           Apr-2020 2020-04-01         4.0\n",
              "2           Feb-2020 2020-02-01         2.0\n",
              "3           Apr-2020 2020-04-01         4.0\n",
              "4           Apr-2020 2020-04-01         4.0"
            ]
          },
          "metadata": {
            "tags": []
          },
          "execution_count": 175
        }
      ]
    },
    {
      "cell_type": "code",
      "metadata": {
        "id": "OTveYllhNY-3",
        "colab_type": "code",
        "colab": {}
      },
      "source": [
        "loans['day_diff'] = loans['new_issue_d'] - loans['new_pull']"
      ],
      "execution_count": 0,
      "outputs": []
    },
    {
      "cell_type": "code",
      "metadata": {
        "id": "23BRMQ30NY7F",
        "colab_type": "code",
        "colab": {
          "base_uri": "https://localhost:8080/",
          "height": 195
        },
        "outputId": "363b11bf-e6a4-46ff-9924-24e926ba2240"
      },
      "source": [
        "loans[['last_credit_pull_d', 'new_pull', 'day_diff']].head()"
      ],
      "execution_count": 177,
      "outputs": [
        {
          "output_type": "execute_result",
          "data": {
            "text/html": [
              "<div>\n",
              "<style scoped>\n",
              "    .dataframe tbody tr th:only-of-type {\n",
              "        vertical-align: middle;\n",
              "    }\n",
              "\n",
              "    .dataframe tbody tr th {\n",
              "        vertical-align: top;\n",
              "    }\n",
              "\n",
              "    .dataframe thead th {\n",
              "        text-align: right;\n",
              "    }\n",
              "</style>\n",
              "<table border=\"1\" class=\"dataframe\">\n",
              "  <thead>\n",
              "    <tr style=\"text-align: right;\">\n",
              "      <th></th>\n",
              "      <th>last_credit_pull_d</th>\n",
              "      <th>new_pull</th>\n",
              "      <th>day_diff</th>\n",
              "    </tr>\n",
              "  </thead>\n",
              "  <tbody>\n",
              "    <tr>\n",
              "      <th>0</th>\n",
              "      <td>Dec-2019</td>\n",
              "      <td>2019-12-01</td>\n",
              "      <td>-365 days</td>\n",
              "    </tr>\n",
              "    <tr>\n",
              "      <th>1</th>\n",
              "      <td>Apr-2020</td>\n",
              "      <td>2020-04-01</td>\n",
              "      <td>-487 days</td>\n",
              "    </tr>\n",
              "    <tr>\n",
              "      <th>2</th>\n",
              "      <td>Feb-2020</td>\n",
              "      <td>2020-02-01</td>\n",
              "      <td>-427 days</td>\n",
              "    </tr>\n",
              "    <tr>\n",
              "      <th>3</th>\n",
              "      <td>Apr-2020</td>\n",
              "      <td>2020-04-01</td>\n",
              "      <td>-487 days</td>\n",
              "    </tr>\n",
              "    <tr>\n",
              "      <th>4</th>\n",
              "      <td>Apr-2020</td>\n",
              "      <td>2020-04-01</td>\n",
              "      <td>-487 days</td>\n",
              "    </tr>\n",
              "  </tbody>\n",
              "</table>\n",
              "</div>"
            ],
            "text/plain": [
              "  last_credit_pull_d   new_pull  day_diff\n",
              "0           Dec-2019 2019-12-01 -365 days\n",
              "1           Apr-2020 2020-04-01 -487 days\n",
              "2           Feb-2020 2020-02-01 -427 days\n",
              "3           Apr-2020 2020-04-01 -487 days\n",
              "4           Apr-2020 2020-04-01 -487 days"
            ]
          },
          "metadata": {
            "tags": []
          },
          "execution_count": 177
        }
      ]
    },
    {
      "cell_type": "code",
      "metadata": {
        "id": "aq-atQumNY2m",
        "colab_type": "code",
        "colab": {
          "base_uri": "https://localhost:8080/",
          "height": 118
        },
        "outputId": "20e73887-8097-4321-f270-b1ad996418c2"
      },
      "source": [
        "loans['day_diff'].value_counts().sort_index().tail()"
      ],
      "execution_count": 178,
      "outputs": [
        {
          "output_type": "execute_result",
          "data": {
            "text/plain": [
              "-30 days     87\n",
              "0 days      475\n",
              "30 days      73\n",
              "31 days      33\n",
              "61 days       1\n",
              "Name: day_diff, dtype: int64"
            ]
          },
          "metadata": {
            "tags": []
          },
          "execution_count": 178
        }
      ]
    },
    {
      "cell_type": "code",
      "metadata": {
        "id": "VPPZx51l13F_",
        "colab_type": "code",
        "colab": {}
      },
      "source": [
        "# home work awsers below vvv"
      ],
      "execution_count": 0,
      "outputs": []
    },
    {
      "cell_type": "code",
      "metadata": {
        "id": "RD500BFsEHXr",
        "colab_type": "code",
        "colab": {
          "base_uri": "https://localhost:8080/",
          "height": 202
        },
        "outputId": "b2e98cc2-3ca5-42a7-9bb8-4373afd1fee0"
      },
      "source": [
        "loans['term'].head(10)"
      ],
      "execution_count": 180,
      "outputs": [
        {
          "output_type": "execute_result",
          "data": {
            "text/plain": [
              "0     60 months\n",
              "1     36 months\n",
              "2     36 months\n",
              "3     60 months\n",
              "4     60 months\n",
              "5     36 months\n",
              "6     60 months\n",
              "7     36 months\n",
              "8     36 months\n",
              "9     36 months\n",
              "Name: term, dtype: object"
            ]
          },
          "metadata": {
            "tags": []
          },
          "execution_count": 180
        }
      ]
    },
    {
      "cell_type": "code",
      "metadata": {
        "id": "lPiwrMaF13ML",
        "colab_type": "code",
        "colab": {
          "base_uri": "https://localhost:8080/",
          "height": 34
        },
        "outputId": "d9188bed-ab56-4a79-d8b6-854d5223b989"
      },
      "source": [
        "loans['term'][0]"
      ],
      "execution_count": 181,
      "outputs": [
        {
          "output_type": "execute_result",
          "data": {
            "text/plain": [
              "' 60 months'"
            ]
          },
          "metadata": {
            "tags": []
          },
          "execution_count": 181
        }
      ]
    },
    {
      "cell_type": "code",
      "metadata": {
        "id": "UN2Q1LjM13Pc",
        "colab_type": "code",
        "colab": {
          "base_uri": "https://localhost:8080/",
          "height": 34
        },
        "outputId": "bba7033b-d629-463f-a61e-0713aeb9a6b1"
      },
      "source": [
        "loans['term'].dtype"
      ],
      "execution_count": 182,
      "outputs": [
        {
          "output_type": "execute_result",
          "data": {
            "text/plain": [
              "dtype('O')"
            ]
          },
          "metadata": {
            "tags": []
          },
          "execution_count": 182
        }
      ]
    },
    {
      "cell_type": "code",
      "metadata": {
        "id": "grTkfazz13Vi",
        "colab_type": "code",
        "colab": {
          "base_uri": "https://localhost:8080/",
          "height": 34
        },
        "outputId": "1b3b3901-741f-45ce-b51e-f4745688d7a3"
      },
      "source": [
        "type(loans['term'][0])"
      ],
      "execution_count": 183,
      "outputs": [
        {
          "output_type": "execute_result",
          "data": {
            "text/plain": [
              "str"
            ]
          },
          "metadata": {
            "tags": []
          },
          "execution_count": 183
        }
      ]
    },
    {
      "cell_type": "code",
      "metadata": {
        "id": "_zxfIKjS13Yx",
        "colab_type": "code",
        "colab": {}
      },
      "source": [
        "test = ' 60 months'"
      ],
      "execution_count": 0,
      "outputs": []
    },
    {
      "cell_type": "code",
      "metadata": {
        "id": "j6QgDpoY13Sw",
        "colab_type": "code",
        "colab": {
          "base_uri": "https://localhost:8080/",
          "height": 34
        },
        "outputId": "b3549c82-3980-405b-e2ba-5cdd087f89ce"
      },
      "source": [
        "test.strip()"
      ],
      "execution_count": 185,
      "outputs": [
        {
          "output_type": "execute_result",
          "data": {
            "text/plain": [
              "'60 months'"
            ]
          },
          "metadata": {
            "tags": []
          },
          "execution_count": 185
        }
      ]
    },
    {
      "cell_type": "code",
      "metadata": {
        "id": "yZbS1Zwd5xsS",
        "colab_type": "code",
        "colab": {
          "base_uri": "https://localhost:8080/",
          "height": 34
        },
        "outputId": "91dd198d-f1cb-418c-9f6a-d0bf36c37670"
      },
      "source": [
        "test.strip('months')"
      ],
      "execution_count": 186,
      "outputs": [
        {
          "output_type": "execute_result",
          "data": {
            "text/plain": [
              "' 60 '"
            ]
          },
          "metadata": {
            "tags": []
          },
          "execution_count": 186
        }
      ]
    },
    {
      "cell_type": "code",
      "metadata": {
        "id": "hStvcSo913Ju",
        "colab_type": "code",
        "colab": {
          "base_uri": "https://localhost:8080/",
          "height": 34
        },
        "outputId": "2ff6103a-1c99-477a-935f-1d74b999318a"
      },
      "source": [
        "int(test.strip().strip('months'))\n"
      ],
      "execution_count": 187,
      "outputs": [
        {
          "output_type": "execute_result",
          "data": {
            "text/plain": [
              "60"
            ]
          },
          "metadata": {
            "tags": []
          },
          "execution_count": 187
        }
      ]
    },
    {
      "cell_type": "code",
      "metadata": {
        "id": "-XPdJp1E13DN",
        "colab_type": "code",
        "colab": {
          "base_uri": "https://localhost:8080/",
          "height": 34
        },
        "outputId": "d4c0ee3e-efb6-44ca-805e-b84165d28e1f"
      },
      "source": [
        "type(int(test.strip().strip('months')))"
      ],
      "execution_count": 188,
      "outputs": [
        {
          "output_type": "execute_result",
          "data": {
            "text/plain": [
              "int"
            ]
          },
          "metadata": {
            "tags": []
          },
          "execution_count": 188
        }
      ]
    },
    {
      "cell_type": "code",
      "metadata": {
        "id": "7mBXSN2d125z",
        "colab_type": "code",
        "colab": {}
      },
      "source": [
        "def myfunc(values):\n",
        "    return int(values.strip().strip('months'))"
      ],
      "execution_count": 0,
      "outputs": []
    },
    {
      "cell_type": "code",
      "metadata": {
        "id": "FKzejuJ312ws",
        "colab_type": "code",
        "colab": {
          "base_uri": "https://localhost:8080/",
          "height": 34
        },
        "outputId": "2de4a80f-44a0-4337-ab43-d883815efd60"
      },
      "source": [
        "myfunc(test)"
      ],
      "execution_count": 190,
      "outputs": [
        {
          "output_type": "execute_result",
          "data": {
            "text/plain": [
              "60"
            ]
          },
          "metadata": {
            "tags": []
          },
          "execution_count": 190
        }
      ]
    },
    {
      "cell_type": "code",
      "metadata": {
        "id": "jJ5__Bip12qS",
        "colab_type": "code",
        "colab": {}
      },
      "source": [
        "newList = []\n",
        "for cell in loans['term']:\n",
        "    newList.append(myfunc(cell))"
      ],
      "execution_count": 0,
      "outputs": []
    },
    {
      "cell_type": "code",
      "metadata": {
        "id": "DH6LaBaf12oG",
        "colab_type": "code",
        "colab": {
          "base_uri": "https://localhost:8080/",
          "height": 34
        },
        "outputId": "a804c3d6-845d-44bc-a913-f086996f8d36"
      },
      "source": [
        "newList[:10]"
      ],
      "execution_count": 192,
      "outputs": [
        {
          "output_type": "execute_result",
          "data": {
            "text/plain": [
              "[60, 36, 36, 60, 60, 36, 60, 36, 36, 36]"
            ]
          },
          "metadata": {
            "tags": []
          },
          "execution_count": 192
        }
      ]
    },
    {
      "cell_type": "code",
      "metadata": {
        "id": "M_g25EEk12fQ",
        "colab_type": "code",
        "colab": {}
      },
      "source": [
        "# read doc for series.\n",
        "loans['Term_Clean']=pd.Series(newList)"
      ],
      "execution_count": 0,
      "outputs": []
    },
    {
      "cell_type": "code",
      "metadata": {
        "id": "ACtDXIMT12VR",
        "colab_type": "code",
        "colab": {
          "base_uri": "https://localhost:8080/",
          "height": 195
        },
        "outputId": "0d519115-dacd-41df-e5c6-af19d58bc064"
      },
      "source": [
        "loans[['term', 'Term_Clean']].sample(5)"
      ],
      "execution_count": 194,
      "outputs": [
        {
          "output_type": "execute_result",
          "data": {
            "text/html": [
              "<div>\n",
              "<style scoped>\n",
              "    .dataframe tbody tr th:only-of-type {\n",
              "        vertical-align: middle;\n",
              "    }\n",
              "\n",
              "    .dataframe tbody tr th {\n",
              "        vertical-align: top;\n",
              "    }\n",
              "\n",
              "    .dataframe thead th {\n",
              "        text-align: right;\n",
              "    }\n",
              "</style>\n",
              "<table border=\"1\" class=\"dataframe\">\n",
              "  <thead>\n",
              "    <tr style=\"text-align: right;\">\n",
              "      <th></th>\n",
              "      <th>term</th>\n",
              "      <th>Term_Clean</th>\n",
              "    </tr>\n",
              "  </thead>\n",
              "  <tbody>\n",
              "    <tr>\n",
              "      <th>125700</th>\n",
              "      <td>36 months</td>\n",
              "      <td>36</td>\n",
              "    </tr>\n",
              "    <tr>\n",
              "      <th>51415</th>\n",
              "      <td>60 months</td>\n",
              "      <td>60</td>\n",
              "    </tr>\n",
              "    <tr>\n",
              "      <th>60846</th>\n",
              "      <td>36 months</td>\n",
              "      <td>36</td>\n",
              "    </tr>\n",
              "    <tr>\n",
              "      <th>61739</th>\n",
              "      <td>36 months</td>\n",
              "      <td>36</td>\n",
              "    </tr>\n",
              "    <tr>\n",
              "      <th>73352</th>\n",
              "      <td>60 months</td>\n",
              "      <td>60</td>\n",
              "    </tr>\n",
              "  </tbody>\n",
              "</table>\n",
              "</div>"
            ],
            "text/plain": [
              "              term  Term_Clean\n",
              "125700   36 months          36\n",
              "51415    60 months          60\n",
              "60846    36 months          36\n",
              "61739    36 months          36\n",
              "73352    60 months          60"
            ]
          },
          "metadata": {
            "tags": []
          },
          "execution_count": 194
        }
      ]
    },
    {
      "cell_type": "code",
      "metadata": {
        "id": "EU4vhEiL12TA",
        "colab_type": "code",
        "colab": {}
      },
      "source": [
        "# better way/ no for loop no \"newlist\"\n",
        "\n",
        "loans['termClean2'] = loans['term'].apply(myfunc)"
      ],
      "execution_count": 0,
      "outputs": []
    },
    {
      "cell_type": "code",
      "metadata": {
        "id": "ZeKS7hi676ZM",
        "colab_type": "code",
        "colab": {
          "base_uri": "https://localhost:8080/",
          "height": 202
        },
        "outputId": "900d6fef-96f5-4abe-e7d5-1e497101e812"
      },
      "source": [
        "loans['termClean2'].sample(10)"
      ],
      "execution_count": 196,
      "outputs": [
        {
          "output_type": "execute_result",
          "data": {
            "text/plain": [
              "87544     36\n",
              "35580     36\n",
              "72890     60\n",
              "2680      36\n",
              "6883      60\n",
              "118266    60\n",
              "88206     36\n",
              "118345    60\n",
              "26358     36\n",
              "29574     36\n",
              "Name: termClean2, dtype: int64"
            ]
          },
          "metadata": {
            "tags": []
          },
          "execution_count": 196
        }
      ]
    },
    {
      "cell_type": "code",
      "metadata": {
        "id": "hAu3ke3O76WQ",
        "colab_type": "code",
        "colab": {
          "base_uri": "https://localhost:8080/",
          "height": 218
        },
        "outputId": "457daa5a-27b3-435f-d377-3afa7d33c562"
      },
      "source": [
        "loans['loan_status'].head"
      ],
      "execution_count": 197,
      "outputs": [
        {
          "output_type": "execute_result",
          "data": {
            "text/plain": [
              "<bound method NDFrame.head of 0          Fully Paid\n",
              "1             Current\n",
              "2          Fully Paid\n",
              "3         Charged Off\n",
              "4             Current\n",
              "             ...     \n",
              "128407    Charged Off\n",
              "128408        Current\n",
              "128409        Current\n",
              "128410        Current\n",
              "128411        Current\n",
              "Name: loan_status, Length: 128412, dtype: object>"
            ]
          },
          "metadata": {
            "tags": []
          },
          "execution_count": 197
        }
      ]
    },
    {
      "cell_type": "code",
      "metadata": {
        "id": "5LOsWfLN76TR",
        "colab_type": "code",
        "colab": {
          "base_uri": "https://localhost:8080/",
          "height": 151
        },
        "outputId": "ecb2082d-90d0-4f13-8ec2-6b852fb6843a"
      },
      "source": [
        "loans['loan_status'].value_counts(dropna=False).head(10)"
      ],
      "execution_count": 198,
      "outputs": [
        {
          "output_type": "execute_result",
          "data": {
            "text/plain": [
              "Current               88581\n",
              "Fully Paid            28378\n",
              "Charged Off            8016\n",
              "Late (31-120 days)     2055\n",
              "In Grace Period         732\n",
              "Late (16-30 days)       327\n",
              "Default                 323\n",
              "Name: loan_status, dtype: int64"
            ]
          },
          "metadata": {
            "tags": []
          },
          "execution_count": 198
        }
      ]
    },
    {
      "cell_type": "code",
      "metadata": {
        "id": "xodb69nT76QR",
        "colab_type": "code",
        "colab": {
          "base_uri": "https://localhost:8080/",
          "height": 34
        },
        "outputId": "1e75b62f-c412-457d-ded2-e3e359b6a1fc"
      },
      "source": [
        "loans['loan_status_great'] = 0\n",
        "loans[['loan_status', 'loan_status_great']].head(5)\n",
        "type(loans['loan_status_great'][0])"
      ],
      "execution_count": 199,
      "outputs": [
        {
          "output_type": "execute_result",
          "data": {
            "text/plain": [
              "numpy.int64"
            ]
          },
          "metadata": {
            "tags": []
          },
          "execution_count": 199
        }
      ]
    },
    {
      "cell_type": "code",
      "metadata": {
        "id": "cp1NGOJl76Nl",
        "colab_type": "code",
        "colab": {
          "base_uri": "https://localhost:8080/",
          "height": 195
        },
        "outputId": "984d9422-3bf9-49d9-91d3-d7a45e84f6b3"
      },
      "source": [
        "loans.loc[loans['loan_status']=='Current', 'loan_status_great']=1\n",
        "loans.loc[loans['loan_status']=='Fully Paid', 'loan_status_great']=1\n",
        "loans[['loan_status', 'loan_status_great']].head(5)"
      ],
      "execution_count": 200,
      "outputs": [
        {
          "output_type": "execute_result",
          "data": {
            "text/html": [
              "<div>\n",
              "<style scoped>\n",
              "    .dataframe tbody tr th:only-of-type {\n",
              "        vertical-align: middle;\n",
              "    }\n",
              "\n",
              "    .dataframe tbody tr th {\n",
              "        vertical-align: top;\n",
              "    }\n",
              "\n",
              "    .dataframe thead th {\n",
              "        text-align: right;\n",
              "    }\n",
              "</style>\n",
              "<table border=\"1\" class=\"dataframe\">\n",
              "  <thead>\n",
              "    <tr style=\"text-align: right;\">\n",
              "      <th></th>\n",
              "      <th>loan_status</th>\n",
              "      <th>loan_status_great</th>\n",
              "    </tr>\n",
              "  </thead>\n",
              "  <tbody>\n",
              "    <tr>\n",
              "      <th>0</th>\n",
              "      <td>Fully Paid</td>\n",
              "      <td>1</td>\n",
              "    </tr>\n",
              "    <tr>\n",
              "      <th>1</th>\n",
              "      <td>Current</td>\n",
              "      <td>1</td>\n",
              "    </tr>\n",
              "    <tr>\n",
              "      <th>2</th>\n",
              "      <td>Fully Paid</td>\n",
              "      <td>1</td>\n",
              "    </tr>\n",
              "    <tr>\n",
              "      <th>3</th>\n",
              "      <td>Charged Off</td>\n",
              "      <td>0</td>\n",
              "    </tr>\n",
              "    <tr>\n",
              "      <th>4</th>\n",
              "      <td>Current</td>\n",
              "      <td>1</td>\n",
              "    </tr>\n",
              "  </tbody>\n",
              "</table>\n",
              "</div>"
            ],
            "text/plain": [
              "   loan_status  loan_status_great\n",
              "0   Fully Paid                  1\n",
              "1      Current                  1\n",
              "2   Fully Paid                  1\n",
              "3  Charged Off                  0\n",
              "4      Current                  1"
            ]
          },
          "metadata": {
            "tags": []
          },
          "execution_count": 200
        }
      ]
    },
    {
      "cell_type": "code",
      "metadata": {
        "id": "sVF-3joq76KU",
        "colab_type": "code",
        "colab": {
          "base_uri": "https://localhost:8080/",
          "height": 67
        },
        "outputId": "8ed193fc-7c0c-4a41-8b44-10b7ac4fcdbd"
      },
      "source": [
        "loans['loan_status_great'].value_counts()"
      ],
      "execution_count": 201,
      "outputs": [
        {
          "output_type": "execute_result",
          "data": {
            "text/plain": [
              "1    116959\n",
              "0     11453\n",
              "Name: loan_status_great, dtype: int64"
            ]
          },
          "metadata": {
            "tags": []
          },
          "execution_count": 201
        }
      ]
    },
    {
      "cell_type": "code",
      "metadata": {
        "id": "ISNdbxOx76Hh",
        "colab_type": "code",
        "colab": {
          "base_uri": "https://localhost:8080/",
          "height": 118
        },
        "outputId": "c65224ec-b202-412e-a6c6-520dbfc4ffd7"
      },
      "source": [
        "loans['last_pymnt_d'].sample(5)"
      ],
      "execution_count": 202,
      "outputs": [
        {
          "output_type": "execute_result",
          "data": {
            "text/plain": [
              "28794     Apr-2020\n",
              "70718     Apr-2020\n",
              "116167    Apr-2020\n",
              "40549     Mar-2020\n",
              "45550     Apr-2020\n",
              "Name: last_pymnt_d, dtype: object"
            ]
          },
          "metadata": {
            "tags": []
          },
          "execution_count": 202
        }
      ]
    },
    {
      "cell_type": "code",
      "metadata": {
        "id": "UQnT6pIc76Ep",
        "colab_type": "code",
        "colab": {}
      },
      "source": [
        "# read tp_datetime, infer_datetime_format doc\n",
        "loans['new_last_pymnt_d'] = pd.to_datetime(loans['last_pymnt_d'],\n",
        "                                           infer_datetime_format=True)"
      ],
      "execution_count": 0,
      "outputs": []
    },
    {
      "cell_type": "code",
      "metadata": {
        "id": "jg0qvvOr76Bz",
        "colab_type": "code",
        "colab": {
          "base_uri": "https://localhost:8080/",
          "height": 195
        },
        "outputId": "37d0943d-1c59-40a3-b953-2d25cb6d8438"
      },
      "source": [
        "loans[['new_last_pymnt_d','last_pymnt_d']].head()"
      ],
      "execution_count": 204,
      "outputs": [
        {
          "output_type": "execute_result",
          "data": {
            "text/html": [
              "<div>\n",
              "<style scoped>\n",
              "    .dataframe tbody tr th:only-of-type {\n",
              "        vertical-align: middle;\n",
              "    }\n",
              "\n",
              "    .dataframe tbody tr th {\n",
              "        vertical-align: top;\n",
              "    }\n",
              "\n",
              "    .dataframe thead th {\n",
              "        text-align: right;\n",
              "    }\n",
              "</style>\n",
              "<table border=\"1\" class=\"dataframe\">\n",
              "  <thead>\n",
              "    <tr style=\"text-align: right;\">\n",
              "      <th></th>\n",
              "      <th>new_last_pymnt_d</th>\n",
              "      <th>last_pymnt_d</th>\n",
              "    </tr>\n",
              "  </thead>\n",
              "  <tbody>\n",
              "    <tr>\n",
              "      <th>0</th>\n",
              "      <td>2019-05-01</td>\n",
              "      <td>May-2019</td>\n",
              "    </tr>\n",
              "    <tr>\n",
              "      <th>1</th>\n",
              "      <td>2020-03-01</td>\n",
              "      <td>Mar-2020</td>\n",
              "    </tr>\n",
              "    <tr>\n",
              "      <th>2</th>\n",
              "      <td>2019-02-01</td>\n",
              "      <td>Feb-2019</td>\n",
              "    </tr>\n",
              "    <tr>\n",
              "      <th>3</th>\n",
              "      <td>2019-10-01</td>\n",
              "      <td>Oct-2019</td>\n",
              "    </tr>\n",
              "    <tr>\n",
              "      <th>4</th>\n",
              "      <td>2020-03-01</td>\n",
              "      <td>Mar-2020</td>\n",
              "    </tr>\n",
              "  </tbody>\n",
              "</table>\n",
              "</div>"
            ],
            "text/plain": [
              "  new_last_pymnt_d last_pymnt_d\n",
              "0       2019-05-01     May-2019\n",
              "1       2020-03-01     Mar-2020\n",
              "2       2019-02-01     Feb-2019\n",
              "3       2019-10-01     Oct-2019\n",
              "4       2020-03-01     Mar-2020"
            ]
          },
          "metadata": {
            "tags": []
          },
          "execution_count": 204
        }
      ]
    },
    {
      "cell_type": "code",
      "metadata": {
        "id": "EkN775Ov759z",
        "colab_type": "code",
        "colab": {
          "base_uri": "https://localhost:8080/",
          "height": 118
        },
        "outputId": "462e0494-6cfa-42b4-8fa2-c97bc77c1e29"
      },
      "source": [
        "# year is set to float not int?\n",
        "loans['last_pymnt_d_year'] = loans['new_last_pymnt_d'].dt.year\n",
        "loans['last_pymnt_d_year'].head()\n"
      ],
      "execution_count": 205,
      "outputs": [
        {
          "output_type": "execute_result",
          "data": {
            "text/plain": [
              "0    2019.0\n",
              "1    2020.0\n",
              "2    2019.0\n",
              "3    2019.0\n",
              "4    2020.0\n",
              "Name: last_pymnt_d_year, dtype: float64"
            ]
          },
          "metadata": {
            "tags": []
          },
          "execution_count": 205
        }
      ]
    },
    {
      "cell_type": "code",
      "metadata": {
        "id": "wH3qlrj7755M",
        "colab_type": "code",
        "colab": {
          "base_uri": "https://localhost:8080/",
          "height": 195
        },
        "outputId": "e8cbb61f-a0d9-49af-dade-14e672784bf8"
      },
      "source": [
        "loans['last_pymnt_d_month'] = loans['new_last_pymnt_d'].dt.month\n",
        "loans[['last_pymnt_d_year', 'last_pymnt_d_month']].head()"
      ],
      "execution_count": 206,
      "outputs": [
        {
          "output_type": "execute_result",
          "data": {
            "text/html": [
              "<div>\n",
              "<style scoped>\n",
              "    .dataframe tbody tr th:only-of-type {\n",
              "        vertical-align: middle;\n",
              "    }\n",
              "\n",
              "    .dataframe tbody tr th {\n",
              "        vertical-align: top;\n",
              "    }\n",
              "\n",
              "    .dataframe thead th {\n",
              "        text-align: right;\n",
              "    }\n",
              "</style>\n",
              "<table border=\"1\" class=\"dataframe\">\n",
              "  <thead>\n",
              "    <tr style=\"text-align: right;\">\n",
              "      <th></th>\n",
              "      <th>last_pymnt_d_year</th>\n",
              "      <th>last_pymnt_d_month</th>\n",
              "    </tr>\n",
              "  </thead>\n",
              "  <tbody>\n",
              "    <tr>\n",
              "      <th>0</th>\n",
              "      <td>2019.0</td>\n",
              "      <td>5.0</td>\n",
              "    </tr>\n",
              "    <tr>\n",
              "      <th>1</th>\n",
              "      <td>2020.0</td>\n",
              "      <td>3.0</td>\n",
              "    </tr>\n",
              "    <tr>\n",
              "      <th>2</th>\n",
              "      <td>2019.0</td>\n",
              "      <td>2.0</td>\n",
              "    </tr>\n",
              "    <tr>\n",
              "      <th>3</th>\n",
              "      <td>2019.0</td>\n",
              "      <td>10.0</td>\n",
              "    </tr>\n",
              "    <tr>\n",
              "      <th>4</th>\n",
              "      <td>2020.0</td>\n",
              "      <td>3.0</td>\n",
              "    </tr>\n",
              "  </tbody>\n",
              "</table>\n",
              "</div>"
            ],
            "text/plain": [
              "   last_pymnt_d_year  last_pymnt_d_month\n",
              "0             2019.0                 5.0\n",
              "1             2020.0                 3.0\n",
              "2             2019.0                 2.0\n",
              "3             2019.0                10.0\n",
              "4             2020.0                 3.0"
            ]
          },
          "metadata": {
            "tags": []
          },
          "execution_count": 206
        }
      ]
    },
    {
      "cell_type": "markdown",
      "metadata": {
        "colab_type": "text",
        "id": "L8k0LiHmo5EU"
      },
      "source": [
        "# Stretch Goals\n",
        "\n",
        "You can do more with the LendingClub or Instacart datasets.\n",
        "\n",
        "LendingClub options:\n",
        "- There's one other column in the dataframe with percent signs. Remove them and convert to floats. You'll need to handle missing values.\n",
        "- Modify the `emp_title` column to replace titles with 'Other' if the title is not in the top 20. \n",
        "- Take initiatve and work on your own ideas!\n",
        "\n",
        "Instacart options:\n",
        "- Read [Instacart Market Basket Analysis, Winner's Interview: 2nd place, Kazuki Onodera](http://blog.kaggle.com/2017/09/21/instacart-market-basket-analysis-winners-interview-2nd-place-kazuki-onodera/), especially the **Feature Engineering** section. (Can you choose one feature from his bulleted lists, and try to engineer it with pandas code?)\n",
        "- Read and replicate parts of [Simple Exploration Notebook - Instacart](https://www.kaggle.com/sudalairajkumar/simple-exploration-notebook-instacart). (It's the Python Notebook with the most upvotes for this Kaggle competition.)\n",
        "- Take initiative and work on your own ideas!"
      ]
    },
    {
      "cell_type": "markdown",
      "metadata": {
        "colab_type": "text",
        "id": "0_7PXF7lpEXg"
      },
      "source": [
        "You can uncomment and run the cells below to re-download and extract the Instacart data"
      ]
    },
    {
      "cell_type": "code",
      "metadata": {
        "id": "pyBuNV8CSp_S",
        "colab_type": "code",
        "colab": {}
      },
      "source": [
        "loans.head()\n",
        "loans['revol_util'].dropna(inplace=True)\n"
      ],
      "execution_count": 0,
      "outputs": []
    },
    {
      "cell_type": "code",
      "metadata": {
        "id": "i2-ZQfj_Sr5I",
        "colab_type": "code",
        "colab": {
          "base_uri": "https://localhost:8080/",
          "height": 34
        },
        "outputId": "270e3978-1f73-4f55-f34e-a892f1246dce"
      },
      "source": [
        "\n",
        "def myfunc2(my_value):\n",
        "    return float(my_value.strip('%'))\n",
        "\n",
        "# type(myfunc2(test2))\n",
        "# new_list2 = []\n",
        "# for cell in loans['revol_util']:\n",
        "#     new_list2.append(myfunc2(cell))\n",
        "\n",
        "# loans['clean_revol_util'] = pd.series(my_list2)\n",
        "\n",
        "loans['clean_revol_util'] = loans['revol_util'].apply(myfunc2)\n",
        "\n"
      ],
      "execution_count": 251,
      "outputs": [
        {
          "output_type": "execute_result",
          "data": {
            "text/plain": [
              "pandas.core.series.Series"
            ]
          },
          "metadata": {
            "tags": []
          },
          "execution_count": 251
        }
      ]
    },
    {
      "cell_type": "code",
      "metadata": {
        "id": "fPM4HW00SsbZ",
        "colab_type": "code",
        "colab": {
          "base_uri": "https://localhost:8080/",
          "height": 34
        },
        "outputId": "8c9f7817-cff4-493c-f859-bccfa9b1addc"
      },
      "source": [
        "loans['clean_revol_util'][0].dtype"
      ],
      "execution_count": 253,
      "outputs": [
        {
          "output_type": "execute_result",
          "data": {
            "text/plain": [
              "dtype('float64')"
            ]
          },
          "metadata": {
            "tags": []
          },
          "execution_count": 253
        }
      ]
    },
    {
      "cell_type": "code",
      "metadata": {
        "id": "02hSmiQ8SsT0",
        "colab_type": "code",
        "colab": {
          "base_uri": "https://localhost:8080/",
          "height": 370
        },
        "outputId": "330a6674-2b17-4d27-a0be-8bc95fb36b67"
      },
      "source": [
        "loans['emp_title'].value_counts()\n",
        "loans['top20_emp_title'] = 'other'\n",
        "loans['emp_title'].value_counts().head(20)\n",
        "\n"
      ],
      "execution_count": 275,
      "outputs": [
        {
          "output_type": "execute_result",
          "data": {
            "text/plain": [
              "Teacher                     2090\n",
              "Manager                     1773\n",
              "Registered Nurse             952\n",
              "Driver                       924\n",
              "RN                           726\n",
              "Supervisor                   697\n",
              "Sales                        580\n",
              "Project Manager              526\n",
              "General Manager              523\n",
              "Office Manager               521\n",
              "Owner                        420\n",
              "Director                     402\n",
              "Truck Driver                 387\n",
              "Operations Manager           387\n",
              "Nurse                        326\n",
              "Engineer                     325\n",
              "Sales Manager                304\n",
              "manager                      301\n",
              "Supervisor                   270\n",
              "Administrative Assistant     269\n",
              "Name: emp_title, dtype: int64"
            ]
          },
          "metadata": {
            "tags": []
          },
          "execution_count": 275
        }
      ]
    },
    {
      "cell_type": "code",
      "metadata": {
        "id": "LP_NRZgBSsND",
        "colab_type": "code",
        "colab": {}
      },
      "source": [
        "empTitleList = loans['emp_title'].value_counts().head(20)\n",
        "\n"
      ],
      "execution_count": 0,
      "outputs": []
    },
    {
      "cell_type": "code",
      "metadata": {
        "id": "WYYsqe_tSsJn",
        "colab_type": "code",
        "colab": {
          "base_uri": "https://localhost:8080/",
          "height": 353
        },
        "outputId": "01d7e2d4-0756-40a5-8dae-30d3008f3413"
      },
      "source": [
        "loans.loc[loans['emp_title']=='Teacher', 'top20_emp_title'] = 'Teacher'\n",
        "loans.loc[loans['emp_title']=='Manager', 'top20_emp_title'] = 'Manager'\n",
        "loans.loc[loans['emp_title']=='Registered Nurse', 'top20_emp_title'] = 'Registered Nurse'\n",
        "loans.loc[loans['emp_title']=='Driver', 'top20_emp_title'] = 'Driver'\n",
        "loans.loc[loans['emp_title']=='RN', 'top20_emp_title'] = 'RN'\n",
        "loans.loc[loans['emp_title']=='Supervisor', 'top20_emp_title'] = 'Supervisor'\n",
        "loans.loc[loans['emp_title']=='Sales' 'top20_emp_title'] = 'Sales'\n",
        "loans.loc[loans['emp_title']=='Project Manager', 'top20_emp_title'] = 'Project Manager'\n",
        "loans.loc[loans['emp_title']=='General Manager', 'top20_emp_title'] = 'General Manager'\n",
        "loans.loc[loans['emp_title']=='Office Manager', 'top20_emp_title'] = 'Office Manager'\n",
        "loans.loc[loans['emp_title']=='Owner', 'top20_emp_title'] = 'Owner'\n",
        "loans.loc[loans['emp_title']=='Director', 'top20_emp_title'] = 'Director'\n",
        "loans.loc[loans['emp_title']=='Truck Driver', 'top20_emp_title'] = 'Truck Driver'\n",
        "loans.loc[loans['emp_title']=='Operations Manager', 'top20_emp_title'] = 'Operations Manager'\n",
        "loans.loc[loans['emp_title']=='Nurse', 'top20_emp_title'] = 'Nurse'\n",
        "loans.loc[loans['emp_title']=='Engineer', 'top20_emp_title'] = 'Engineer'\n",
        "loans.loc[loans['emp_title']=='Sales Manager', 'top20_emp_title'] = 'Sales Manager'\n",
        "loans.loc[loans['emp_title']=='manager', 'top20_emp_title'] = 'manager'\n",
        "loans.loc[loans['emp_title']=='Administrative Assistant', 'top20_emp_title'] = 'Administrative Assistant'\n",
        "\n",
        "loans['top20_emp_title'].value_counts()"
      ],
      "execution_count": 279,
      "outputs": [
        {
          "output_type": "execute_result",
          "data": {
            "text/plain": [
              "other                       116559\n",
              "Teacher                       2090\n",
              "Manager                       1773\n",
              "Registered Nurse               952\n",
              "Driver                         924\n",
              "RN                             726\n",
              "Supervisor                     697\n",
              "Project Manager                526\n",
              "General Manager                523\n",
              "Office Manager                 521\n",
              "Owner                          420\n",
              "Director                       402\n",
              "Truck Driver                   387\n",
              "Operations Manager             387\n",
              "Nurse                          326\n",
              "Engineer                       325\n",
              "Sales Manager                  304\n",
              "manager                        301\n",
              "Administrative Assistant       269\n",
              "Name: top20_emp_title, dtype: int64"
            ]
          },
          "metadata": {
            "tags": []
          },
          "execution_count": 279
        }
      ]
    },
    {
      "cell_type": "code",
      "metadata": {
        "id": "rpC9dBaUSsF9",
        "colab_type": "code",
        "colab": {}
      },
      "source": [
        ""
      ],
      "execution_count": 0,
      "outputs": []
    },
    {
      "cell_type": "code",
      "metadata": {
        "id": "RJ-7inBtSr_5",
        "colab_type": "code",
        "colab": {}
      },
      "source": [
        ""
      ],
      "execution_count": 0,
      "outputs": []
    },
    {
      "cell_type": "code",
      "metadata": {
        "id": "1d07Du7VSr0v",
        "colab_type": "code",
        "colab": {}
      },
      "source": [
        ""
      ],
      "execution_count": 0,
      "outputs": []
    },
    {
      "cell_type": "code",
      "metadata": {
        "id": "urIePNa0yNG6",
        "colab_type": "code",
        "colab": {
          "base_uri": "https://localhost:8080/",
          "height": 222
        },
        "outputId": "7198437b-6281-4714-e801-a49b18ec3af3"
      },
      "source": [
        "!wget https://s3.amazonaws.com/instacart-datasets/instacart_online_grocery_shopping_2017_05_01.tar.gz"
      ],
      "execution_count": 210,
      "outputs": [
        {
          "output_type": "stream",
          "text": [
            "--2020-05-08 21:41:48--  https://s3.amazonaws.com/instacart-datasets/instacart_online_grocery_shopping_2017_05_01.tar.gz\n",
            "Resolving s3.amazonaws.com (s3.amazonaws.com)... 52.216.30.134\n",
            "Connecting to s3.amazonaws.com (s3.amazonaws.com)|52.216.30.134|:443... connected.\n",
            "HTTP request sent, awaiting response... 200 OK\n",
            "Length: 205548478 (196M) [application/x-gzip]\n",
            "Saving to: ‘instacart_online_grocery_shopping_2017_05_01.tar.gz’\n",
            "\n",
            "instacart_online_gr 100%[===================>] 196.03M  53.5MB/s    in 3.7s    \n",
            "\n",
            "2020-05-08 21:41:52 (53.5 MB/s) - ‘instacart_online_grocery_shopping_2017_05_01.tar.gz’ saved [205548478/205548478]\n",
            "\n"
          ],
          "name": "stdout"
        }
      ]
    },
    {
      "cell_type": "code",
      "metadata": {
        "id": "X9zEyu-uyNG8",
        "colab_type": "code",
        "colab": {
          "base_uri": "https://localhost:8080/",
          "height": 235
        },
        "outputId": "f349bd84-c4b3-4df2-c4ec-83407470adc0"
      },
      "source": [
        "!tar --gunzip --extract --verbose --file=instacart_online_grocery_shopping_2017_05_01.tar.gz"
      ],
      "execution_count": 211,
      "outputs": [
        {
          "output_type": "stream",
          "text": [
            "instacart_2017_05_01/\n",
            "instacart_2017_05_01/._aisles.csv\n",
            "instacart_2017_05_01/aisles.csv\n",
            "instacart_2017_05_01/._departments.csv\n",
            "instacart_2017_05_01/departments.csv\n",
            "instacart_2017_05_01/._order_products__prior.csv\n",
            "instacart_2017_05_01/order_products__prior.csv\n",
            "instacart_2017_05_01/._order_products__train.csv\n",
            "instacart_2017_05_01/order_products__train.csv\n",
            "instacart_2017_05_01/._orders.csv\n",
            "instacart_2017_05_01/orders.csv\n",
            "instacart_2017_05_01/._products.csv\n",
            "instacart_2017_05_01/products.csv\n"
          ],
          "name": "stdout"
        }
      ]
    },
    {
      "cell_type": "code",
      "metadata": {
        "id": "Y3IqrhlpyNG-",
        "colab_type": "code",
        "colab": {
          "base_uri": "https://localhost:8080/",
          "height": 34
        },
        "outputId": "c3789265-ddde-47b8-ca8f-0e0eb7fb9211"
      },
      "source": [
        "%cd instacart_2017_05_01"
      ],
      "execution_count": 212,
      "outputs": [
        {
          "output_type": "stream",
          "text": [
            "/content/instacart_2017_05_01\n"
          ],
          "name": "stdout"
        }
      ]
    },
    {
      "cell_type": "code",
      "metadata": {
        "id": "yI9NCmCv9GRw",
        "colab_type": "code",
        "colab": {
          "base_uri": "https://localhost:8080/",
          "height": 70
        },
        "outputId": "6dcad0cb-507c-4344-fb8e-3d0f1e6802cd"
      },
      "source": [
        "import numpy as np\n",
        "import pandas as pd\n",
        "import matplotlib.pyplot as plt\n",
        "import seaborn as sns\n",
        "color = sns.color_palette()\n",
        "\n",
        "%matplotlib inline"
      ],
      "execution_count": 281,
      "outputs": [
        {
          "output_type": "stream",
          "text": [
            "/usr/local/lib/python3.6/dist-packages/statsmodels/tools/_testing.py:19: FutureWarning: pandas.util.testing is deprecated. Use the functions in the public API at pandas.testing instead.\n",
            "  import pandas.util.testing as tm\n"
          ],
          "name": "stderr"
        }
      ]
    },
    {
      "cell_type": "code",
      "metadata": {
        "id": "AFsm0xNs-XKR",
        "colab_type": "code",
        "colab": {
          "base_uri": "https://localhost:8080/",
          "height": 340
        },
        "outputId": "bcad7c1b-8a5f-44f4-c148-941765f947db"
      },
      "source": [
        ""
      ],
      "execution_count": 283,
      "outputs": [
        {
          "output_type": "error",
          "ename": "FileNotFoundError",
          "evalue": "ignored",
          "traceback": [
            "\u001b[0;31m---------------------------------------------------------------------------\u001b[0m",
            "\u001b[0;31mFileNotFoundError\u001b[0m                         Traceback (most recent call last)",
            "\u001b[0;32m<ipython-input-283-6ad3ec106264>\u001b[0m in \u001b[0;36m<module>\u001b[0;34m()\u001b[0m\n\u001b[1;32m      1\u001b[0m \u001b[0;32mfrom\u001b[0m \u001b[0msubprocess\u001b[0m \u001b[0;32mimport\u001b[0m \u001b[0mcheck_output\u001b[0m\u001b[0;34m\u001b[0m\u001b[0;34m\u001b[0m\u001b[0m\n\u001b[0;32m----> 2\u001b[0;31m \u001b[0mprint\u001b[0m\u001b[0;34m(\u001b[0m\u001b[0mcheck_output\u001b[0m\u001b[0;34m(\u001b[0m\u001b[0;34m[\u001b[0m\u001b[0;34m'1s'\u001b[0m\u001b[0;34m,\u001b[0m\u001b[0;34m\"../input\"\u001b[0m\u001b[0;34m]\u001b[0m\u001b[0;34m)\u001b[0m\u001b[0;34m.\u001b[0m\u001b[0mdecode\u001b[0m\u001b[0;34m(\u001b[0m\u001b[0;34m\"utf8\"\u001b[0m\u001b[0;34m)\u001b[0m\u001b[0;34m)\u001b[0m\u001b[0;34m\u001b[0m\u001b[0;34m\u001b[0m\u001b[0m\n\u001b[0m",
            "\u001b[0;32m/usr/lib/python3.6/subprocess.py\u001b[0m in \u001b[0;36mcheck_output\u001b[0;34m(timeout, *popenargs, **kwargs)\u001b[0m\n\u001b[1;32m    354\u001b[0m \u001b[0;34m\u001b[0m\u001b[0m\n\u001b[1;32m    355\u001b[0m     return run(*popenargs, stdout=PIPE, timeout=timeout, check=True,\n\u001b[0;32m--> 356\u001b[0;31m                **kwargs).stdout\n\u001b[0m\u001b[1;32m    357\u001b[0m \u001b[0;34m\u001b[0m\u001b[0m\n\u001b[1;32m    358\u001b[0m \u001b[0;34m\u001b[0m\u001b[0m\n",
            "\u001b[0;32m/usr/lib/python3.6/subprocess.py\u001b[0m in \u001b[0;36mrun\u001b[0;34m(input, timeout, check, *popenargs, **kwargs)\u001b[0m\n\u001b[1;32m    421\u001b[0m         \u001b[0mkwargs\u001b[0m\u001b[0;34m[\u001b[0m\u001b[0;34m'stdin'\u001b[0m\u001b[0;34m]\u001b[0m \u001b[0;34m=\u001b[0m \u001b[0mPIPE\u001b[0m\u001b[0;34m\u001b[0m\u001b[0;34m\u001b[0m\u001b[0m\n\u001b[1;32m    422\u001b[0m \u001b[0;34m\u001b[0m\u001b[0m\n\u001b[0;32m--> 423\u001b[0;31m     \u001b[0;32mwith\u001b[0m \u001b[0mPopen\u001b[0m\u001b[0;34m(\u001b[0m\u001b[0;34m*\u001b[0m\u001b[0mpopenargs\u001b[0m\u001b[0;34m,\u001b[0m \u001b[0;34m**\u001b[0m\u001b[0mkwargs\u001b[0m\u001b[0;34m)\u001b[0m \u001b[0;32mas\u001b[0m \u001b[0mprocess\u001b[0m\u001b[0;34m:\u001b[0m\u001b[0;34m\u001b[0m\u001b[0;34m\u001b[0m\u001b[0m\n\u001b[0m\u001b[1;32m    424\u001b[0m         \u001b[0;32mtry\u001b[0m\u001b[0;34m:\u001b[0m\u001b[0;34m\u001b[0m\u001b[0;34m\u001b[0m\u001b[0m\n\u001b[1;32m    425\u001b[0m             \u001b[0mstdout\u001b[0m\u001b[0;34m,\u001b[0m \u001b[0mstderr\u001b[0m \u001b[0;34m=\u001b[0m \u001b[0mprocess\u001b[0m\u001b[0;34m.\u001b[0m\u001b[0mcommunicate\u001b[0m\u001b[0;34m(\u001b[0m\u001b[0minput\u001b[0m\u001b[0;34m,\u001b[0m \u001b[0mtimeout\u001b[0m\u001b[0;34m=\u001b[0m\u001b[0mtimeout\u001b[0m\u001b[0;34m)\u001b[0m\u001b[0;34m\u001b[0m\u001b[0;34m\u001b[0m\u001b[0m\n",
            "\u001b[0;32m/usr/lib/python3.6/subprocess.py\u001b[0m in \u001b[0;36m__init__\u001b[0;34m(self, args, bufsize, executable, stdin, stdout, stderr, preexec_fn, close_fds, shell, cwd, env, universal_newlines, startupinfo, creationflags, restore_signals, start_new_session, pass_fds, encoding, errors)\u001b[0m\n\u001b[1;32m    727\u001b[0m                                 \u001b[0mc2pread\u001b[0m\u001b[0;34m,\u001b[0m \u001b[0mc2pwrite\u001b[0m\u001b[0;34m,\u001b[0m\u001b[0;34m\u001b[0m\u001b[0;34m\u001b[0m\u001b[0m\n\u001b[1;32m    728\u001b[0m                                 \u001b[0merrread\u001b[0m\u001b[0;34m,\u001b[0m \u001b[0merrwrite\u001b[0m\u001b[0;34m,\u001b[0m\u001b[0;34m\u001b[0m\u001b[0;34m\u001b[0m\u001b[0m\n\u001b[0;32m--> 729\u001b[0;31m                                 restore_signals, start_new_session)\n\u001b[0m\u001b[1;32m    730\u001b[0m         \u001b[0;32mexcept\u001b[0m\u001b[0;34m:\u001b[0m\u001b[0;34m\u001b[0m\u001b[0;34m\u001b[0m\u001b[0m\n\u001b[1;32m    731\u001b[0m             \u001b[0;31m# Cleanup if the child failed starting.\u001b[0m\u001b[0;34m\u001b[0m\u001b[0;34m\u001b[0m\u001b[0;34m\u001b[0m\u001b[0m\n",
            "\u001b[0;32m/usr/lib/python3.6/subprocess.py\u001b[0m in \u001b[0;36m_execute_child\u001b[0;34m(self, args, executable, preexec_fn, close_fds, pass_fds, cwd, env, startupinfo, creationflags, shell, p2cread, p2cwrite, c2pread, c2pwrite, errread, errwrite, restore_signals, start_new_session)\u001b[0m\n\u001b[1;32m   1362\u001b[0m                         \u001b[0;32mif\u001b[0m \u001b[0merrno_num\u001b[0m \u001b[0;34m==\u001b[0m \u001b[0merrno\u001b[0m\u001b[0;34m.\u001b[0m\u001b[0mENOENT\u001b[0m\u001b[0;34m:\u001b[0m\u001b[0;34m\u001b[0m\u001b[0;34m\u001b[0m\u001b[0m\n\u001b[1;32m   1363\u001b[0m                             \u001b[0merr_msg\u001b[0m \u001b[0;34m+=\u001b[0m \u001b[0;34m': '\u001b[0m \u001b[0;34m+\u001b[0m \u001b[0mrepr\u001b[0m\u001b[0;34m(\u001b[0m\u001b[0merr_filename\u001b[0m\u001b[0;34m)\u001b[0m\u001b[0;34m\u001b[0m\u001b[0;34m\u001b[0m\u001b[0m\n\u001b[0;32m-> 1364\u001b[0;31m                     \u001b[0;32mraise\u001b[0m \u001b[0mchild_exception_type\u001b[0m\u001b[0;34m(\u001b[0m\u001b[0merrno_num\u001b[0m\u001b[0;34m,\u001b[0m \u001b[0merr_msg\u001b[0m\u001b[0;34m,\u001b[0m \u001b[0merr_filename\u001b[0m\u001b[0;34m)\u001b[0m\u001b[0;34m\u001b[0m\u001b[0;34m\u001b[0m\u001b[0m\n\u001b[0m\u001b[1;32m   1365\u001b[0m                 \u001b[0;32mraise\u001b[0m \u001b[0mchild_exception_type\u001b[0m\u001b[0;34m(\u001b[0m\u001b[0merr_msg\u001b[0m\u001b[0;34m)\u001b[0m\u001b[0;34m\u001b[0m\u001b[0;34m\u001b[0m\u001b[0m\n\u001b[1;32m   1366\u001b[0m \u001b[0;34m\u001b[0m\u001b[0m\n",
            "\u001b[0;31mFileNotFoundError\u001b[0m: [Errno 2] No such file or directory: '1s': '1s'"
          ]
        }
      ]
    },
    {
      "cell_type": "code",
      "metadata": {
        "id": "_wDavRYzPVud",
        "colab_type": "code",
        "colab": {
          "base_uri": "https://localhost:8080/",
          "height": 669
        },
        "outputId": "3a44eca0-ecdd-43d6-fba2-4ec2567b5296"
      },
      "source": [
        "order_products_train_df = pd.read_csv('order_products__prior.csv')\n",
        "pd.read_csv('aisles.csv')\n",
        "pd.read_csv('departments.csv')"
      ],
      "execution_count": 280,
      "outputs": [
        {
          "output_type": "execute_result",
          "data": {
            "text/html": [
              "<div>\n",
              "<style scoped>\n",
              "    .dataframe tbody tr th:only-of-type {\n",
              "        vertical-align: middle;\n",
              "    }\n",
              "\n",
              "    .dataframe tbody tr th {\n",
              "        vertical-align: top;\n",
              "    }\n",
              "\n",
              "    .dataframe thead th {\n",
              "        text-align: right;\n",
              "    }\n",
              "</style>\n",
              "<table border=\"1\" class=\"dataframe\">\n",
              "  <thead>\n",
              "    <tr style=\"text-align: right;\">\n",
              "      <th></th>\n",
              "      <th>department_id</th>\n",
              "      <th>department</th>\n",
              "    </tr>\n",
              "  </thead>\n",
              "  <tbody>\n",
              "    <tr>\n",
              "      <th>0</th>\n",
              "      <td>1</td>\n",
              "      <td>frozen</td>\n",
              "    </tr>\n",
              "    <tr>\n",
              "      <th>1</th>\n",
              "      <td>2</td>\n",
              "      <td>other</td>\n",
              "    </tr>\n",
              "    <tr>\n",
              "      <th>2</th>\n",
              "      <td>3</td>\n",
              "      <td>bakery</td>\n",
              "    </tr>\n",
              "    <tr>\n",
              "      <th>3</th>\n",
              "      <td>4</td>\n",
              "      <td>produce</td>\n",
              "    </tr>\n",
              "    <tr>\n",
              "      <th>4</th>\n",
              "      <td>5</td>\n",
              "      <td>alcohol</td>\n",
              "    </tr>\n",
              "    <tr>\n",
              "      <th>5</th>\n",
              "      <td>6</td>\n",
              "      <td>international</td>\n",
              "    </tr>\n",
              "    <tr>\n",
              "      <th>6</th>\n",
              "      <td>7</td>\n",
              "      <td>beverages</td>\n",
              "    </tr>\n",
              "    <tr>\n",
              "      <th>7</th>\n",
              "      <td>8</td>\n",
              "      <td>pets</td>\n",
              "    </tr>\n",
              "    <tr>\n",
              "      <th>8</th>\n",
              "      <td>9</td>\n",
              "      <td>dry goods pasta</td>\n",
              "    </tr>\n",
              "    <tr>\n",
              "      <th>9</th>\n",
              "      <td>10</td>\n",
              "      <td>bulk</td>\n",
              "    </tr>\n",
              "    <tr>\n",
              "      <th>10</th>\n",
              "      <td>11</td>\n",
              "      <td>personal care</td>\n",
              "    </tr>\n",
              "    <tr>\n",
              "      <th>11</th>\n",
              "      <td>12</td>\n",
              "      <td>meat seafood</td>\n",
              "    </tr>\n",
              "    <tr>\n",
              "      <th>12</th>\n",
              "      <td>13</td>\n",
              "      <td>pantry</td>\n",
              "    </tr>\n",
              "    <tr>\n",
              "      <th>13</th>\n",
              "      <td>14</td>\n",
              "      <td>breakfast</td>\n",
              "    </tr>\n",
              "    <tr>\n",
              "      <th>14</th>\n",
              "      <td>15</td>\n",
              "      <td>canned goods</td>\n",
              "    </tr>\n",
              "    <tr>\n",
              "      <th>15</th>\n",
              "      <td>16</td>\n",
              "      <td>dairy eggs</td>\n",
              "    </tr>\n",
              "    <tr>\n",
              "      <th>16</th>\n",
              "      <td>17</td>\n",
              "      <td>household</td>\n",
              "    </tr>\n",
              "    <tr>\n",
              "      <th>17</th>\n",
              "      <td>18</td>\n",
              "      <td>babies</td>\n",
              "    </tr>\n",
              "    <tr>\n",
              "      <th>18</th>\n",
              "      <td>19</td>\n",
              "      <td>snacks</td>\n",
              "    </tr>\n",
              "    <tr>\n",
              "      <th>19</th>\n",
              "      <td>20</td>\n",
              "      <td>deli</td>\n",
              "    </tr>\n",
              "    <tr>\n",
              "      <th>20</th>\n",
              "      <td>21</td>\n",
              "      <td>missing</td>\n",
              "    </tr>\n",
              "  </tbody>\n",
              "</table>\n",
              "</div>"
            ],
            "text/plain": [
              "    department_id       department\n",
              "0               1           frozen\n",
              "1               2            other\n",
              "2               3           bakery\n",
              "3               4          produce\n",
              "4               5          alcohol\n",
              "5               6    international\n",
              "6               7        beverages\n",
              "7               8             pets\n",
              "8               9  dry goods pasta\n",
              "9              10             bulk\n",
              "10             11    personal care\n",
              "11             12     meat seafood\n",
              "12             13           pantry\n",
              "13             14        breakfast\n",
              "14             15     canned goods\n",
              "15             16       dairy eggs\n",
              "16             17        household\n",
              "17             18           babies\n",
              "18             19           snacks\n",
              "19             20             deli\n",
              "20             21          missing"
            ]
          },
          "metadata": {
            "tags": []
          },
          "execution_count": 280
        }
      ]
    },
    {
      "cell_type": "code",
      "metadata": {
        "id": "x38ARxS0PVnr",
        "colab_type": "code",
        "colab": {}
      },
      "source": [
        ""
      ],
      "execution_count": 0,
      "outputs": []
    },
    {
      "cell_type": "code",
      "metadata": {
        "id": "1HkUv6TgPVgo",
        "colab_type": "code",
        "colab": {}
      },
      "source": [
        ""
      ],
      "execution_count": 0,
      "outputs": []
    },
    {
      "cell_type": "code",
      "metadata": {
        "id": "ekCeENJhPVWk",
        "colab_type": "code",
        "colab": {}
      },
      "source": [
        ""
      ],
      "execution_count": 0,
      "outputs": []
    }
  ]
}